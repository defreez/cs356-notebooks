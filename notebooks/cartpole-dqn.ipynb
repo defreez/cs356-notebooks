{
 "cells": [
  {
   "cell_type": "code",
   "execution_count": 1,
   "id": "46a48554",
   "metadata": {},
   "outputs": [
    {
     "name": "stdout",
     "output_type": "stream",
     "text": [
      "Requirement already satisfied: gym in /opt/conda/lib/python3.7/site-packages (0.21.0)\n",
      "Requirement already satisfied: cloudpickle>=1.2.0 in /opt/conda/lib/python3.7/site-packages (from gym) (2.0.0)\n",
      "Requirement already satisfied: numpy>=1.18.0 in /opt/conda/lib/python3.7/site-packages (from gym) (1.20.2)\n",
      "Requirement already satisfied: importlib-metadata>=4.8.1 in /opt/conda/lib/python3.7/site-packages (from gym) (4.8.2)\n",
      "Requirement already satisfied: typing-extensions>=3.6.4 in /opt/conda/lib/python3.7/site-packages (from importlib-metadata>=4.8.1->gym) (3.7.4.3)\n",
      "Requirement already satisfied: zipp>=0.5 in /opt/conda/lib/python3.7/site-packages (from importlib-metadata>=4.8.1->gym) (3.5.0)\n",
      "\u001b[33mWARNING: Running pip as root will break packages and permissions. You should install packages reliably by using venv: https://pip.pypa.io/warnings/venv\u001b[0m\n",
      "Requirement already satisfied: seaborn in /opt/conda/lib/python3.7/site-packages (0.11.2)\n",
      "Requirement already satisfied: numpy>=1.15 in /opt/conda/lib/python3.7/site-packages (from seaborn) (1.20.2)\n",
      "Requirement already satisfied: pandas>=0.23 in /opt/conda/lib/python3.7/site-packages (from seaborn) (1.3.4)\n",
      "Requirement already satisfied: scipy>=1.0 in /opt/conda/lib/python3.7/site-packages (from seaborn) (1.7.1)\n",
      "Requirement already satisfied: matplotlib>=2.2 in /opt/conda/lib/python3.7/site-packages (from seaborn) (3.4.3)\n",
      "Requirement already satisfied: python-dateutil>=2.7 in /opt/conda/lib/python3.7/site-packages (from matplotlib>=2.2->seaborn) (2.8.2)\n",
      "Requirement already satisfied: cycler>=0.10 in /opt/conda/lib/python3.7/site-packages (from matplotlib>=2.2->seaborn) (0.11.0)\n",
      "Requirement already satisfied: pyparsing>=2.2.1 in /opt/conda/lib/python3.7/site-packages (from matplotlib>=2.2->seaborn) (2.4.7)\n",
      "Requirement already satisfied: kiwisolver>=1.0.1 in /opt/conda/lib/python3.7/site-packages (from matplotlib>=2.2->seaborn) (1.3.2)\n",
      "Requirement already satisfied: pillow>=6.2.0 in /opt/conda/lib/python3.7/site-packages (from matplotlib>=2.2->seaborn) (8.2.0)\n",
      "Requirement already satisfied: pytz>=2017.3 in /opt/conda/lib/python3.7/site-packages (from pandas>=0.23->seaborn) (2021.1)\n",
      "Requirement already satisfied: six>=1.5 in /opt/conda/lib/python3.7/site-packages (from python-dateutil>=2.7->matplotlib>=2.2->seaborn) (1.16.0)\n",
      "\u001b[33mWARNING: Running pip as root will break packages and permissions. You should install packages reliably by using venv: https://pip.pypa.io/warnings/venv\u001b[0m\n"
     ]
    }
   ],
   "source": [
    "!pip3 install gym\n",
    "!pip3 install seaborn"
   ]
  },
  {
   "cell_type": "code",
   "execution_count": 2,
   "id": "5870917e",
   "metadata": {},
   "outputs": [],
   "source": [
    "import torch\n",
    "from torch import nn\n",
    "import copy\n",
    "from collections import deque\n",
    "from tqdm import tqdm\n",
    "import random\n",
    "import gym\n",
    "import seaborn as sns\n",
    "import matplotlib.pyplot as plt"
   ]
  },
  {
   "cell_type": "code",
   "execution_count": 3,
   "id": "997564b7",
   "metadata": {},
   "outputs": [
    {
     "data": {
      "text/plain": [
       "<torch._C.Generator at 0x7f14ac47a510>"
      ]
     },
     "execution_count": 3,
     "metadata": {},
     "output_type": "execute_result"
    }
   ],
   "source": [
    "torch.manual_seed(1234)"
   ]
  },
  {
   "cell_type": "code",
   "execution_count": 4,
   "id": "6186c9c0",
   "metadata": {},
   "outputs": [],
   "source": [
    "sync_freq = 5\n",
    "network_sync_counter = 0\n",
    "network_sync_freq = 5\n",
    "exp_replay_size = 256"
   ]
  },
  {
   "cell_type": "code",
   "execution_count": 5,
   "id": "3649847d",
   "metadata": {},
   "outputs": [],
   "source": [
    "q_net = nn.Sequential(\n",
    "    nn.Linear(4, 64),\n",
    "    nn.Tanh(),\n",
    "    nn.Linear(64, 2)\n",
    "    )\n",
    "q_net.cuda()\n",
    "\n",
    "target_net = nn.Sequential(\n",
    "    nn.Linear(4, 64),\n",
    "    nn.Tanh(),\n",
    "    nn.Linear(64, 2)\n",
    ")        \n",
    "        \n",
    "target_net.cuda()\n",
    "        \n",
    "loss_fn = torch.nn.MSELoss()\n",
    "optimizer = torch.optim.Adam(q_net.parameters(), lr=1e-3)\n",
    "\n",
    "network_sync_counter = 0\n",
    "\n",
    "discount = torch.tensor(0.95).float().cuda()\n",
    "\n",
    "experience_replay = deque(maxlen=exp_replay_size)\n",
    "\n",
    "\n",
    "def get_action(state, action_space_len, epsilon):\n",
    "    # We do not require gradient at this point, because this function will be used either\n",
    "    # during experience collection or during inference\n",
    "    with torch.no_grad():\n",
    "        Qp = q_net(torch.from_numpy(state).float().cuda())\n",
    "    Q, A = torch.max(Qp, axis=0)\n",
    "    A = A if torch.rand(1, ).item() > epsilon else torch.randint(0, action_space_len, (1,))\n",
    "    return A\n",
    "\n",
    "def get_q_next(state):\n",
    "    with torch.no_grad():\n",
    "        qp = target_net(state)\n",
    "    q, _ = torch.max(qp, axis=1)\n",
    "    return q\n",
    "\n",
    "def collect_experience(experience):\n",
    "    experience_replay.append(experience)\n",
    "    return\n",
    "\n",
    "def sample_from_experience(sample_size):\n",
    "    if len(experience_replay) < sample_size:\n",
    "        sample_size = len(experience_replay)\n",
    "    sample = random.sample(experience_replay, sample_size)\n",
    "    s = torch.tensor([exp[0] for exp in sample]).float()\n",
    "    a = torch.tensor([exp[1] for exp in sample]).float()\n",
    "    rn = torch.tensor([exp[2] for exp in sample]).float()\n",
    "    sn = torch.tensor([exp[3] for exp in sample]).float()\n",
    "    return s, a, rn, sn\n",
    "\n",
    "def train(batch_size):\n",
    "    global network_sync_counter\n",
    "    global network_sync_freq\n",
    "    \n",
    "    s, a, rn, sn = sample_from_experience(sample_size=batch_size)\n",
    "    if network_sync_counter == network_sync_freq:\n",
    "        target_net.load_state_dict(q_net.state_dict())\n",
    "        network_sync_counter = 0\n",
    "\n",
    "    # predict expected return of current state using main network\n",
    "    qp = q_net(s.cuda())\n",
    "    pred_return, _ = torch.max(qp, axis=1)\n",
    "\n",
    "    # get target return using target network\n",
    "    q_next = get_q_next(sn.cuda())\n",
    "    target_return = rn.cuda() + discount * q_next\n",
    "\n",
    "    loss = loss_fn(pred_return, target_return)\n",
    "    optimizer.zero_grad()\n",
    "    loss.backward(retain_graph=True)\n",
    "    optimizer.step()\n",
    "\n",
    "    network_sync_counter += 1\n",
    "    return loss.item()"
   ]
  },
  {
   "cell_type": "code",
   "execution_count": 6,
   "id": "41edec62",
   "metadata": {},
   "outputs": [
    {
     "name": "stderr",
     "output_type": "stream",
     "text": [
      " 73%|█████████████████████████████████████████████████████████████████████████████████▉                              | 7321/10000 [00:37<00:13, 193.62it/s]\n"
     ]
    },
    {
     "ename": "KeyboardInterrupt",
     "evalue": "",
     "output_type": "error",
     "traceback": [
      "\u001b[0;31m---------------------------------------------------------------------------\u001b[0m",
      "\u001b[0;31mKeyboardInterrupt\u001b[0m                         Traceback (most recent call last)",
      "\u001b[0;32m/tmp/ipykernel_722/2464920523.py\u001b[0m in \u001b[0;36m<module>\u001b[0;34m\u001b[0m\n\u001b[1;32m     34\u001b[0m         \u001b[0mep_len\u001b[0m \u001b[0;34m+=\u001b[0m \u001b[0;36m1\u001b[0m\u001b[0;34m\u001b[0m\u001b[0;34m\u001b[0m\u001b[0m\n\u001b[1;32m     35\u001b[0m         \u001b[0mA\u001b[0m \u001b[0;34m=\u001b[0m \u001b[0mget_action\u001b[0m\u001b[0;34m(\u001b[0m\u001b[0mobs\u001b[0m\u001b[0;34m,\u001b[0m \u001b[0menv\u001b[0m\u001b[0;34m.\u001b[0m\u001b[0maction_space\u001b[0m\u001b[0;34m.\u001b[0m\u001b[0mn\u001b[0m\u001b[0;34m,\u001b[0m \u001b[0mepsilon\u001b[0m\u001b[0;34m)\u001b[0m\u001b[0;34m\u001b[0m\u001b[0;34m\u001b[0m\u001b[0m\n\u001b[0;32m---> 36\u001b[0;31m         \u001b[0mobs_next\u001b[0m\u001b[0;34m,\u001b[0m \u001b[0mreward\u001b[0m\u001b[0;34m,\u001b[0m \u001b[0mdone\u001b[0m\u001b[0;34m,\u001b[0m \u001b[0m_\u001b[0m \u001b[0;34m=\u001b[0m \u001b[0menv\u001b[0m\u001b[0;34m.\u001b[0m\u001b[0mstep\u001b[0m\u001b[0;34m(\u001b[0m\u001b[0mA\u001b[0m\u001b[0;34m.\u001b[0m\u001b[0mitem\u001b[0m\u001b[0;34m(\u001b[0m\u001b[0;34m)\u001b[0m\u001b[0;34m)\u001b[0m\u001b[0;34m\u001b[0m\u001b[0;34m\u001b[0m\u001b[0m\n\u001b[0m\u001b[1;32m     37\u001b[0m         \u001b[0mcollect_experience\u001b[0m\u001b[0;34m(\u001b[0m\u001b[0;34m[\u001b[0m\u001b[0mobs\u001b[0m\u001b[0;34m,\u001b[0m \u001b[0mA\u001b[0m\u001b[0;34m.\u001b[0m\u001b[0mitem\u001b[0m\u001b[0;34m(\u001b[0m\u001b[0;34m)\u001b[0m\u001b[0;34m,\u001b[0m \u001b[0mreward\u001b[0m\u001b[0;34m,\u001b[0m \u001b[0mobs_next\u001b[0m\u001b[0;34m]\u001b[0m\u001b[0;34m)\u001b[0m\u001b[0;34m\u001b[0m\u001b[0;34m\u001b[0m\u001b[0m\n\u001b[1;32m     38\u001b[0m \u001b[0;34m\u001b[0m\u001b[0m\n",
      "\u001b[0;31mKeyboardInterrupt\u001b[0m: "
     ]
    }
   ],
   "source": [
    "env = gym.make('CartPole-v0')\n",
    "\n",
    "# Our observation space has 4 inputs\n",
    "input_dim = 4\n",
    "\n",
    "# Our action space has 2 outputs\n",
    "output_dim = 2\n",
    "\n",
    "exp_replay_size = 256\n",
    "\n",
    "# Main training loop\n",
    "losses_list, reward_list, episode_len_list, epsilon_list = [], [], [], []\n",
    "episodes = 10000\n",
    "epsilon = 1\n",
    "\n",
    "# initiliaze experiance replay\n",
    "index = 0\n",
    "for i in range(exp_replay_size):\n",
    "    obs = env.reset()\n",
    "    done = False\n",
    "    while not done:\n",
    "        A = get_action(obs, env.action_space.n, epsilon=1)\n",
    "        obs_next, reward, done, _ = env.step(A.item())\n",
    "        collect_experience([obs, A.item(), reward, obs_next])\n",
    "        obs = obs_next\n",
    "        index += 1\n",
    "        if index > exp_replay_size:\n",
    "            break\n",
    "\n",
    "index = 128\n",
    "for i in tqdm(range(episodes)):\n",
    "    obs, done, losses, ep_len, rew = env.reset(), False, 0, 0, 0\n",
    "    while not done:\n",
    "        ep_len += 1\n",
    "        A = get_action(obs, env.action_space.n, epsilon)\n",
    "        obs_next, reward, done, _ = env.step(A.item())\n",
    "        collect_experience([obs, A.item(), reward, obs_next])\n",
    "\n",
    "        obs = obs_next\n",
    "        rew += reward\n",
    "        index += 1\n",
    "\n",
    "        if index > 128:\n",
    "            index = 0\n",
    "            for j in range(4):\n",
    "                loss = train(batch_size=16)\n",
    "                losses += loss\n",
    "    if epsilon > 0.05:\n",
    "        epsilon -= (1 / 5000)\n",
    "\n",
    "    losses_list.append(losses / ep_len), reward_list.append(rew)\n",
    "    episode_len_list.append(ep_len), epsilon_list.append(epsilon)\n"
   ]
  },
  {
   "cell_type": "code",
   "execution_count": null,
   "id": "91ec215d",
   "metadata": {},
   "outputs": [],
   "source": [
    "sns.lineplot(y=episode_len_list, x=[x for x in range(len(episode_len_list))])\n",
    "plt.show()"
   ]
  }
 ],
 "metadata": {
  "kernelspec": {
   "display_name": "Python 3 (ipykernel)",
   "language": "python",
   "name": "python3"
  },
  "language_info": {
   "codemirror_mode": {
    "name": "ipython",
    "version": 3
   },
   "file_extension": ".py",
   "mimetype": "text/x-python",
   "name": "python",
   "nbconvert_exporter": "python",
   "pygments_lexer": "ipython3",
   "version": "3.7.10"
  }
 },
 "nbformat": 4,
 "nbformat_minor": 5
}
