{
 "cells": [
  {
   "cell_type": "markdown",
   "metadata": {
    "id": "-wYiWdpo-jUm"
   },
   "source": [
    "# CS 356 Lab 0: Python Data Practice\n",
    "\n",
    "\n",
    "[![Open In Colab](https://colab.research.google.com/assets/colab-badge.svg)](https://colab.research.google.com/github/defreez/cs356-notebooks/blob/main/notebooks/lab0.ipynb)"
   ]
  },
  {
   "cell_type": "markdown",
   "metadata": {
    "id": "9QNZ7f-Xw1xf"
   },
   "source": [
    "## Part 1: Python Exercises\n",
    "\n",
    "Some questions from the Kaggle tutorials, some not.\n",
    "Fix all the cells so that they match up with the comments.\n",
    "\n",
    "When you are done, share the Colab notebook with me and submit the Moodle assignment with a link to your notebook."
   ]
  },
  {
   "cell_type": "code",
   "execution_count": null,
   "metadata": {
    "id": "rWdboF4dQLZK"
   },
   "outputs": [],
   "source": [
    "# 1.1\n",
    "# Create a variable called x that contains the floating point value 42.0"
   ]
  },
  {
   "cell_type": "code",
   "execution_count": null,
   "metadata": {
    "colab": {
     "base_uri": "https://localhost:8080/"
    },
    "id": "ZAsbotYQUZIQ",
    "outputId": "895383a4-cb57-45c4-b167-f562595dad5c"
   },
   "outputs": [
    {
     "data": {
      "text/plain": [
       "[1, 2, 3]"
      ]
     },
     "execution_count": 2,
     "metadata": {},
     "output_type": "execute_result"
    }
   ],
   "source": [
    "# 1.2\n",
    "# Define a function called swap_ht that swaps the first and last elements of a list in place.\n",
    "# If the list has fewer than two elements, leave it unchanged.\n",
    "# You must use negative indexing.\n",
    "def swap_ht(a):\n",
    "  pass\n",
    "\n",
    "b = [1,2,3]\n",
    "swap_ht(b) \n",
    "b"
   ]
  },
  {
   "cell_type": "code",
   "execution_count": null,
   "metadata": {
    "id": "Y70W0lb1YAVd"
   },
   "outputs": [],
   "source": [
    "# 1.3 Fix the function below.\n",
    "def has_lucky_number(nums):\n",
    "    \"\"\"Return whether the given list of numbers is lucky. A lucky list contains\n",
    "    at least one number divisible by 7.\n",
    "    \"\"\"\n",
    "    for num in nums:\n",
    "        if num % 7 == 0:\n",
    "            return True\n",
    "        else:\n",
    "            return False"
   ]
  },
  {
   "cell_type": "code",
   "execution_count": null,
   "metadata": {
    "id": "qgPYtKb5c_2G"
   },
   "outputs": [],
   "source": [
    "#Look at the Python expression below. What do you think we'll get when we run it? When you've made your prediction, uncomment the code and run the cell to see if you were right.\n",
    "#Recomment the code when you are finished so that the notebook will run cleanly.\n",
    "\n",
    "#[1, 2, 3, 4] > 2"
   ]
  },
  {
   "cell_type": "code",
   "execution_count": null,
   "metadata": {
    "id": "0sMSrkjvc6xW"
   },
   "outputs": [],
   "source": [
    "# 1.4\n",
    "# R and Python have some libraries (like numpy and pandas) compare each element of the list to 2 (i.e. do an 'element-wise' comparison) and give us a list of booleans like [False, False, True, True].\n",
    "# Implement a function that reproduces this behaviour, returning a list of booleans corresponding to whether the corresponding element is greater than n.\n",
    "\n",
    "def elementwise_greater_than(L, thresh):\n",
    "    \"\"\"Return a list with the same length as L, where the value at index i is \n",
    "    True if L[i] is greater than thresh, and False otherwise.\n",
    "    \n",
    "    >>> elementwise_greater_than([1, 2, 3, 4], 2)\n",
    "    [False, False, True, True]\n",
    "    \"\"\"\n",
    "    pass"
   ]
  },
  {
   "cell_type": "code",
   "execution_count": null,
   "metadata": {
    "id": "a8_kjexufcNk"
   },
   "outputs": [],
   "source": [
    "import numpy as np"
   ]
  },
  {
   "cell_type": "code",
   "execution_count": null,
   "metadata": {
    "id": "pNpiZrX0e2zN"
   },
   "outputs": [],
   "source": [
    "# 1.5 Use numpy stack and reshape to create an array with shape (3, 6) from a, b, c.\n",
    "# Do this by converting each (2, 3) array into an an array of shape (6,).\n",
    "# This process of converting a rank-2 array (matrix) into a rank-1 array (vector) is a common task\n",
    "# when working with images.\n",
    "a = [[1.0, 1.1, 1.2], [1.3, 1.4, 1.5]]\n",
    "b = [[2.0, 2.1, 2.2], [2.3, 2.4, 2.5]]\n",
    "c = [[3.0, 3.1, 3.2], [3.3, 3.4, 3.5]]\n"
   ]
  },
  {
   "cell_type": "markdown",
   "metadata": {
    "id": "yUdy-6rxCGAv"
   },
   "source": [
    "## Part 2: Pandas\n",
    "\n",
    "In this part we'll do a basic analysis of some real tabular data with\n",
    "Pandas. The purpose is to get a feel for working with data using the\n",
    "built-in functions provided by a library, rather than falling back\n",
    "to Python.\n",
    "\n",
    "In this section pay particular attention to variable names as I have left gaps between cells for you to fill in. You will need to get the output of one cell to match up the input of the next cell.\n",
    "\n",
    "Any spot that you see a TODO you must fix the problem.\n",
    "\n",
    "### Analyzing EPA AQI Data\n",
    "\n",
    "The rogue valley was air-quality challenged this summer. Let's see if we can evaluate just how bad it was, and at the same time get some practice manipulating data with Python and Jupyter notebooks.\n"
   ]
  },
  {
   "cell_type": "markdown",
   "metadata": {
    "id": "2UCY3vuz-kqN"
   },
   "source": [
    "### Get the data\n",
    "\n",
    "The first thing we need to do is get some data to process. The EPA provides daily AQI data for every county in the United States.\n",
    "\n",
    "The `.csv` at \n",
    "https://sou.box.com/shared/static/y8ziqne5xertm7t5siolng41m9km905q.csv\n",
    "contains daily AQI data for every county in the US, starting at 1980."
   ]
  },
  {
   "cell_type": "code",
   "execution_count": null,
   "metadata": {
    "id": "SIFkskwtMEbm"
   },
   "outputs": [],
   "source": [
    "# 2.1\n",
    "# Use pandas to load the .csv file into a DataFrame varuable.\n",
    "# This is a 900MB csv. It might take a little time to download.\n",
    "import pandas as pd\n",
    "# df = ..."
   ]
  },
  {
   "cell_type": "code",
   "execution_count": null,
   "metadata": {
    "id": "n1d-sqLODYLP"
   },
   "outputs": [],
   "source": [
    "df"
   ]
  },
  {
   "cell_type": "markdown",
   "metadata": {
    "id": "38mh8OWlBXwG"
   },
   "source": [
    "### Jackson county dataframe\n",
    "\n",
    "Create a new Pandas dataframe called `jackson_df` that only includes data from Jackson county in Oregon."
   ]
  },
  {
   "cell_type": "code",
   "execution_count": null,
   "metadata": {
    "id": "1oGwJPu1D3n1"
   },
   "outputs": [],
   "source": [
    "# 2.2\n",
    "# Only include rows with State Name is Oregon and county name is Jackson\n",
    "# jackson_df = ...\n",
    "jackson_df"
   ]
  },
  {
   "cell_type": "code",
   "execution_count": null,
   "metadata": {
    "id": "1SAK0y-mFEGW"
   },
   "outputs": [],
   "source": [
    "# 2.3\n",
    "# Use a Pandas map to add a 'Year' column to the jackson_df dataframe\n",
    "# This column should map 1980-01-01 -> 1980, 2020-12-31 -> 2020, etc.\n",
    "# You will likely get a SettingWithCopyWarning. That's OK.\n",
    "# jackson_df['Year'] = ...\n",
    "jackson_df"
   ]
  },
  {
   "cell_type": "code",
   "execution_count": null,
   "metadata": {
    "id": "fjZviQ32FKW3"
   },
   "outputs": [],
   "source": [
    "# 2.4\n",
    "# Filter jackson_df to only include rows with an AQI >= 151\n",
    "# jackson_df = ...\n",
    "jackson_df"
   ]
  },
  {
   "cell_type": "markdown",
   "metadata": {
    "id": "dpBR_PSHNrNK"
   },
   "source": [
    "If jackson_df is setup correctly, the rest\n",
    "of the notebook should run and produce a plot at the end.\n",
    "The 2021 data is handled separately because it is from a different EPA\n",
    "data source and has a different format.\n",
    "\n",
    "**For each cell below, add a brief comment that describes what the cell is doing. Some of this we did not cover in class. Google it or infer from the output.**"
   ]
  },
  {
   "cell_type": "code",
   "execution_count": null,
   "metadata": {
    "id": "pLWE85GgNsnj"
   },
   "outputs": [],
   "source": [
    "year_df = jackson_df.groupby(['Year']).size().to_frame('unhealthy days')\n",
    "year_df = year_df.reset_index()"
   ]
  },
  {
   "cell_type": "code",
   "execution_count": null,
   "metadata": {
    "colab": {
     "base_uri": "https://localhost:8080/",
     "height": 802
    },
    "id": "BcXSD3L5OVjB",
    "outputId": "64867552-b936-4662-a75a-62a33a3cc8a3"
   },
   "outputs": [],
   "source": [
    "# 2021 data\n",
    "df_2021 = pd.read_csv('https://sou.box.com/shared/static/icwh5d9udh0yl7eqt2nshh7z02uk30kc.csv')\n",
    "df_2021['DAILY_AQI_VALUE'] = pd.to_numeric(df_2021['DAILY_AQI_VALUE'])\n",
    "this_year = len(df_2021[df_2021['DAILY_AQI_VALUE'] >= 151])\n",
    "year_df = year_df.append({\"Year\": \"2021\", \"unhealthy days\": this_year}, ignore_index=True)\n",
    "year_df"
   ]
  },
  {
   "cell_type": "code",
   "execution_count": null,
   "metadata": {
    "colab": {
     "base_uri": "https://localhost:8080/",
     "height": 834
    },
    "id": "tbhJ1CyT9_b8",
    "outputId": "6b44d570-deb0-4069-e92f-8a6feed83c32"
   },
   "outputs": [],
   "source": [
    "year_df = year_df.set_index('Year')\n",
    "year_df"
   ]
  },
  {
   "cell_type": "code",
   "execution_count": null,
   "metadata": {
    "id": "I1-_c3lC-LOX"
   },
   "outputs": [],
   "source": [
    "idx = [str(x) for x in list(range(1980, 2022))]\n",
    "reindexed = year_df.reindex(idx, fill_value=0)\n",
    "reindexed = reindexed.reset_index()"
   ]
  },
  {
   "cell_type": "code",
   "execution_count": null,
   "metadata": {
    "colab": {
     "base_uri": "https://localhost:8080/",
     "height": 1000
    },
    "id": "8bZD0-JL66fy",
    "outputId": "a9734ce8-7d40-43a7-8487-f892408d9115"
   },
   "outputs": [],
   "source": [
    "reindexed['3yr'] = reindexed['unhealthy days'].rolling(3).mean().shift(-1)\n",
    "reindexed = reindexed.set_index('Year')\n",
    "reindexed"
   ]
  },
  {
   "cell_type": "code",
   "execution_count": null,
   "metadata": {
    "id": "BUYcKtr15dwJ"
   },
   "outputs": [],
   "source": [
    "import seaborn as sns\n",
    "sns.set(rc={'figure.figsize':(30,8.27)})\n",
    "sns.lineplot(data=reindexed)"
   ]
  },
  {
   "cell_type": "markdown",
   "metadata": {
    "id": "2naKX1jr6Bkx"
   },
   "source": [
    "After successfully completing the steps above, you should be left with\n",
    "a plot that you can visually inspect.\n",
    "\n",
    "**Based on the plot, answer the following question:**\n",
    "\n",
    "Based on the rolling 3 year mean, has the AQI for the last three years in Jackson county been particularly bad, or is this a normal fluctuation?"
   ]
  }
 ],
 "metadata": {
  "colab": {
   "collapsed_sections": [],
   "name": "cs356-lab0-clean.ipynb",
   "provenance": []
  },
  "kernelspec": {
   "display_name": "Python 3 (ipykernel)",
   "language": "python",
   "name": "python3"
  },
  "language_info": {
   "codemirror_mode": {
    "name": "ipython",
    "version": 3
   },
   "file_extension": ".py",
   "mimetype": "text/x-python",
   "name": "python",
   "nbconvert_exporter": "python",
   "pygments_lexer": "ipython3",
   "version": "3.7.10"
  }
 },
 "nbformat": 4,
 "nbformat_minor": 1
}
