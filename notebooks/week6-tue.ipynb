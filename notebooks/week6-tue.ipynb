{
 "cells": [
  {
   "cell_type": "markdown",
   "id": "9376fe56",
   "metadata": {},
   "source": [
    "# Week 6 Tuesday\n",
    "\n",
    "## Sentiment Analysis the FastAI way\n",
    "\n",
    "[![Open In Colab](https://colab.research.google.com/assets/colab-badge.svg)](https://colab.research.google.com/github/defreez/cs356-notebooks/blob/main/notebooks/week6-tue.ipynb)\n"
   ]
  },
  {
   "cell_type": "code",
   "execution_count": 4,
   "id": "7005f4a8",
   "metadata": {},
   "outputs": [],
   "source": [
    "!pip install -Uqq fastbook\n",
    "import fastbook\n",
    "from fastbook import *\n",
    "fastbook.setup_book()"
   ]
  },
  {
   "cell_type": "markdown",
   "id": "a8ea413e",
   "metadata": {},
   "source": [
    "## The text equivalent of our magic six lines for cats and dogs\n",
    "\n",
    "- Load a pretrained classifer for text, in this case an LSTM\n",
    "- Load some movie reviews\n",
    "- Fine tune it"
   ]
  },
  {
   "cell_type": "code",
   "execution_count": 7,
   "id": "94a16aa6",
   "metadata": {},
   "outputs": [
    {
     "data": {
      "text/html": [
       "\n",
       "    <div>\n",
       "        <style>\n",
       "            /* Turns off some styling */\n",
       "            progress {\n",
       "                /* gets rid of default border in Firefox and Opera. */\n",
       "                border: none;\n",
       "                /* Needs to be in here for Safari polyfill so background images work as expected. */\n",
       "                background-size: auto;\n",
       "            }\n",
       "            .progress-bar-interrupted, .progress-bar-interrupted::-webkit-progress-bar {\n",
       "                background: #F44336;\n",
       "            }\n",
       "        </style>\n",
       "      <progress value='105070592' class='' max='105067061' style='width:300px; height:20px; vertical-align: middle;'></progress>\n",
       "      100.00% [105070592/105067061 00:03<00:00]\n",
       "    </div>\n",
       "    "
      ],
      "text/plain": [
       "<IPython.core.display.HTML object>"
      ]
     },
     "metadata": {},
     "output_type": "display_data"
    },
    {
     "data": {
      "text/html": [
       "<table border=\"1\" class=\"dataframe\">\n",
       "  <thead>\n",
       "    <tr style=\"text-align: left;\">\n",
       "      <th>epoch</th>\n",
       "      <th>train_loss</th>\n",
       "      <th>valid_loss</th>\n",
       "      <th>accuracy</th>\n",
       "      <th>time</th>\n",
       "    </tr>\n",
       "  </thead>\n",
       "  <tbody>\n",
       "    <tr>\n",
       "      <td>0</td>\n",
       "      <td>0.466419</td>\n",
       "      <td>0.394005</td>\n",
       "      <td>0.823360</td>\n",
       "      <td>00:48</td>\n",
       "    </tr>\n",
       "  </tbody>\n",
       "</table>"
      ],
      "text/plain": [
       "<IPython.core.display.HTML object>"
      ]
     },
     "metadata": {},
     "output_type": "display_data"
    },
    {
     "data": {
      "text/html": [
       "<table border=\"1\" class=\"dataframe\">\n",
       "  <thead>\n",
       "    <tr style=\"text-align: left;\">\n",
       "      <th>epoch</th>\n",
       "      <th>train_loss</th>\n",
       "      <th>valid_loss</th>\n",
       "      <th>accuracy</th>\n",
       "      <th>time</th>\n",
       "    </tr>\n",
       "  </thead>\n",
       "  <tbody>\n",
       "    <tr>\n",
       "      <td>0</td>\n",
       "      <td>0.304442</td>\n",
       "      <td>0.297238</td>\n",
       "      <td>0.879280</td>\n",
       "      <td>01:26</td>\n",
       "    </tr>\n",
       "    <tr>\n",
       "      <td>1</td>\n",
       "      <td>0.236180</td>\n",
       "      <td>0.205868</td>\n",
       "      <td>0.920200</td>\n",
       "      <td>01:26</td>\n",
       "    </tr>\n",
       "    <tr>\n",
       "      <td>2</td>\n",
       "      <td>0.183470</td>\n",
       "      <td>0.187277</td>\n",
       "      <td>0.929160</td>\n",
       "      <td>01:26</td>\n",
       "    </tr>\n",
       "    <tr>\n",
       "      <td>3</td>\n",
       "      <td>0.146075</td>\n",
       "      <td>0.188952</td>\n",
       "      <td>0.929840</td>\n",
       "      <td>01:25</td>\n",
       "    </tr>\n",
       "  </tbody>\n",
       "</table>"
      ],
      "text/plain": [
       "<IPython.core.display.HTML object>"
      ]
     },
     "metadata": {},
     "output_type": "display_data"
    }
   ],
   "source": [
    "# This model was pre-trained on Wikipedia\n",
    "# This takes about 12GB of GPU memory\n",
    "dls = TextDataLoaders.from_folder(untar_data(URLs.IMDB), valid='test')\n",
    "learn = text_classifier_learner(dls, AWD_LSTM, drop_mult=0.5, metrics=accuracy)\n",
    "learn.fine_tune(4, 1e-2)"
   ]
  },
  {
   "cell_type": "markdown",
   "id": "2339e686",
   "metadata": {},
   "source": [
    "# Sentiment Analysis\n",
    "\n",
    "- Binary dependent variable (positive sentiment, negative sentiment)\n",
    "- Independent variable\n"
   ]
  },
  {
   "cell_type": "markdown",
   "id": "f7b78ce4",
   "metadata": {},
   "source": [
    "## Language Model\n",
    "\n",
    "- Try to predict the next word of the sentence\n",
    "- Pre-train the model on Wikipedia\n",
    "- Fine tune the last layer to predict sentiment of movie reviews"
   ]
  },
  {
   "cell_type": "markdown",
   "id": "218c9b5d",
   "metadata": {},
   "source": [
    "# Custom language model for Movie Reviews\n",
    "\n",
    "- A word is basically a categorical variable\n",
    "    - The **vocabulary**\n",
    "- Create a random embedding matrix\n",
    "- Use the embedding matrix as the first layer of a neural network\n",
    "- Train to produce embedding\n",
    "\n",
    "## Constructing the embedding\n",
    "\n",
    "- Initialize words already in pre-trained model to their weight\n",
    "- New words get random vectors\n",
    "\n",
    "\n",
    "## Tokenization\n",
    "\n",
    "- Convert the text to a list of tokens using spacy\n",
    "- Replace each token with its index in vocab dictionary\n",
    "- Is `don't` one token or two?\n",
    "- What about Japanese or Chinese? What's a word?\n",
    "\n",
    "word-based: split a sentence on spaces, some rules for punctuation.\n",
    "sub-word: split word int osmaller parts\n",
    "character: split a sentence into characters\n",
    "\n",
    "Exercise: create a character-based tokenizer.\n",
    "\n",
    "FastAI uses external tokenizers."
   ]
  },
  {
   "cell_type": "code",
   "execution_count": 208,
   "id": "6fc70b7b",
   "metadata": {},
   "outputs": [
    {
     "data": {
      "text/plain": [
       "(#4) [Path('/root/.fastai/data/imdb/train/neg'),Path('/root/.fastai/data/imdb/train/labeledBow.feat'),Path('/root/.fastai/data/imdb/train/pos'),Path('/root/.fastai/data/imdb/train/unsupBow.feat')]"
      ]
     },
     "execution_count": 208,
     "metadata": {},
     "output_type": "execute_result"
    }
   ],
   "source": [
    "imdb_path = untar_data(URLs.IMDB)\n",
    "(imdb_path/'train').ls()"
   ]
  },
  {
   "cell_type": "code",
   "execution_count": 209,
   "id": "8454662c",
   "metadata": {},
   "outputs": [],
   "source": [
    "get_text_files??"
   ]
  },
  {
   "cell_type": "code",
   "execution_count": 8,
   "id": "488c639e",
   "metadata": {},
   "outputs": [],
   "source": [
    "files = get_text_files(imdb_path, folders = ['train', 'test', 'unsup'])"
   ]
  },
  {
   "cell_type": "code",
   "execution_count": 212,
   "id": "a0b6e699",
   "metadata": {},
   "outputs": [
    {
     "data": {
      "text/plain": [
       "'This is blatantly a futuristic adaptation of Jules Verne\\'s \"Mysterious Island\". The sound editing is pretty bad. You hear the dialogue on set and you hear the voices being recorded on a recording booth at the same time! This is an amateur film with actors from Boston and shot around New Hampshire. For those living in New Engalnd and who is reading this comment will be wowed with a capital W. This film is full of flaws. You get to hear the director\\'s voice giving directions and giving out directions to the actress. \"OK now stand up.\" As for the other characters. There is this guy who talks with his mind instead of his voice and this blue alien. The alien guy talks with a deep voice. When he is yawning or grunting when he is fighting you hear the actor\\'s voice. As for the special effects, man! This was Brett Piper\\'s early work for crying out loud! The creatures are good but the animation is jerky. Really jerky. Sort of like Karl Zeman animation in JOURNEY TO BEGINNING OF TIME (1955). The special effects are imaginative. Thge music is good. Bottom line, this film makes EQUINOX or PLANET OF THE DINOSAURS look like a Ray Harryhausen epic. Did you know MYSTERIOUS PLANET was a home movie and was on a shoes string budget? A must watch for aspiring film makers.'"
      ]
     },
     "execution_count": 212,
     "metadata": {},
     "output_type": "execute_result"
    }
   ],
   "source": [
    "first_review = files[1].open().read()\n",
    "first_review"
   ]
  },
  {
   "cell_type": "code",
   "execution_count": 213,
   "id": "3f6d14a1",
   "metadata": {},
   "outputs": [
    {
     "data": {
      "text/plain": [
       "(#264) ['This','is','blatantly','a','futuristic','adaptation','of','Jules','Verne',\"'s\"...]"
      ]
     },
     "execution_count": 213,
     "metadata": {},
     "output_type": "execute_result"
    }
   ],
   "source": [
    "spacy = WordTokenizer()\n",
    "toks = spacy([first_review])\n",
    "first(toks)"
   ]
  },
  {
   "cell_type": "code",
   "execution_count": 200,
   "id": "5423ff14",
   "metadata": {},
   "outputs": [
    {
     "data": {
      "text/plain": [
       "(#9) ['The','U.S.','dollar','$','1','is','$','1.00','.']"
      ]
     },
     "execution_count": 200,
     "metadata": {},
     "output_type": "execute_result"
    }
   ],
   "source": [
    "first(spacy(['The U.S. dollar $1 is $1.00.']))"
   ]
  },
  {
   "cell_type": "markdown",
   "id": "85e0392d",
   "metadata": {},
   "source": [
    "## Tokenizer vs. WordTokenizer\n",
    "\n",
    "- WordTokenizer is a wrapper around spaCy\n",
    "- Tokenizer is FastAI wrapper around WordTokenizer with even more stuff"
   ]
  },
  {
   "cell_type": "code",
   "execution_count": 51,
   "id": "6dcd0ebe",
   "metadata": {},
   "outputs": [
    {
     "data": {
      "text/plain": [
       "(#362) ['xxbos','xxmaj','no','wonder','this','movie','never','saw','the','light'...]"
      ]
     },
     "execution_count": 51,
     "metadata": {},
     "output_type": "execute_result"
    }
   ],
   "source": [
    "tkn = Tokenizer(spacy)\n",
    "toks = tkn(first_review)\n",
    "toks"
   ]
  },
  {
   "cell_type": "markdown",
   "id": "fc08ed7c",
   "metadata": {},
   "source": [
    "- xxbos is tart of text (beginning of stream)\n",
    "- xxmaj from capitalization\n",
    "\n",
    "See docs at https://fastai1.fast.ai/text.transform.html"
   ]
  },
  {
   "cell_type": "code",
   "execution_count": 14,
   "id": "5dd52908",
   "metadata": {},
   "outputs": [
    {
     "data": {
      "text/plain": [
       "[<function fastai.text.core.fix_html(x)>,\n",
       " <function fastai.text.core.replace_rep(t)>,\n",
       " <function fastai.text.core.replace_wrep(t)>,\n",
       " <function fastai.text.core.spec_add_spaces(t)>,\n",
       " <function fastai.text.core.rm_useless_spaces(t)>,\n",
       " <function fastai.text.core.replace_all_caps(t)>,\n",
       " <function fastai.text.core.replace_maj(t)>,\n",
       " <function fastai.text.core.lowercase(t, add_bos=True, add_eos=False)>]"
      ]
     },
     "execution_count": 14,
     "metadata": {},
     "output_type": "execute_result"
    }
   ],
   "source": [
    "defaults.text_proc_rules"
   ]
  },
  {
   "cell_type": "markdown",
   "id": "04c8d557",
   "metadata": {},
   "source": [
    "## Numericalization\n",
    "\n",
    "- Maps tokens to integers"
   ]
  },
  {
   "cell_type": "code",
   "execution_count": 78,
   "id": "c494a294",
   "metadata": {},
   "outputs": [
    {
     "data": {
      "text/plain": [
       "(#200) [['xxbos', 'xxmaj', 'no', 'wonder', 'this', 'movie', 'never', 'saw', 'the', 'light', 'of', 'day', '.', 'xxmaj', 'the', 'timing', 'was', 'of', 'the', 'release', 'was', 'awful', '.', 'xxmaj', 'the', 'xxmaj', 'gong', 'xxmaj', 'show', 'had', 'already', '\"', 'jumped', 'the', 'shark', '\"', 'by', 'the', 'time', 'the', 'movie', 'came', 'out', ',', 'so', 'who', 'would', 'pay', 'money', 'just', 'to', 'see', 'a', 'few', 'of', 'the', 'censored', 'clips', 'from', 'the', 'original', 'run', 'of', 'the', 'show', '?', 'xxmaj', 'and', 'the', 'show', 'clips', 'are', 'just', 'a', 'tiny', 'bit', 'of', 'this', 'pathetic', ',', '90', '-', 'minute', 'whine', 'by', 'xxmaj', 'chuck', 'xxmaj', 'barris', 'about', 'how', 'hard', 'his', 'life', 'was', 'as', 'host', 'of', 'the', 'show', '.', 'xxmaj', 'did', 'he', 'really', 'expect', 'we', 'would', 'feel', 'sorry', 'for', 'him', 'and', 'his', 'messed', '-', 'up', 'millionaire', 'life', '?', 'xxmaj', 'did', 'he', 'really', 'think', 'we', 'even', 'wanted', 'to', 'xxup', 'know', 'about', 'his', 'life', '?', '(', 'obviously', 'so', ',', 'since', 'he', 'later', 'wrote', 'his', 'weird', 'autobiography', 'about', 'his', 'career', 'as', 'a', 'xxup', 'cia', 'operative', '.', ')', 'xxmaj', 'did', 'he', 'think', 'the', 'gag', 'of', 'having', 'everyone', ',', 'everywhere', 'audition', 'for', 'him', 'would', 'stay', 'fresh', 'for', '90', 'minutes', '?', 'xxmaj', 'or', 'the', 'network', 'executive', 'hounding', 'him', 'at', 'every', 'turn', '?', 'xxmaj', 'this', 'might', 'have', 'worked', 'as', 'the', 'plot', 'for', 'a', '30', '-', 'minute', 'sitcom', 'episode', ',', 'but', 'not', 'as', 'a', 'full', '-', 'length', 'movie', '.', 'xxmaj', 'however', ',', 'it', 'was', 'nice', 'to', 'see', 'xxmaj', 'rip', 'xxmaj', 'taylor', ',', 'xxmaj', 'gene', 'xxmaj', 'gene', ',', 'and', 'the', 'xxmaj', 'unknown', 'xxmaj', 'comic', 'again', '(', 'although', ',', 'to', 'make', 'the', 'movie', '\"', 'spicy', ',', '\"', 'they', 'included', 'only', 'his', 'most', 'vulgar', 'routines', ')', '.', 'xxmaj', 'and', 'as', 'someone', 'else', 'has', 'pointed', 'out', ',', 'this', 'is', 'xxmaj', 'phil', 'xxmaj', 'hartman', \"'s\", 'first', 'significant', 'movie', 'part', '(', 'even', 'though', 'it', 'lasts', 'only', 'a', 'minute', ')', '.', 'xxmaj', 'note', 'his', 'name', 'is', 'spelled', 'xxup', 'hartmann', 'in', 'the', 'credits', ',', 'which', 'is', 'the', 'name', 'he', 'was', 'born', 'with', '.', 'xxmaj', 'you', 'ca', \"n't\", 'miss', 'his', 'voice', 'and', 'facial', 'expressions', ',', 'even', 'though', 'he', \"'s\", 'much', 'thinner', 'and', 'younger', 'than', 'in', 'the', 'xxup', 'snl', 'days', '.', 'xxmaj', 'ed', 'xxmaj', 'molinaro', '(', 'hill', 'xxmaj', 'street', 'xxmaj', 'blues', ')', 'also', 'has', 'a', 'tiny', 'part', ';', 'one', 'of', 'his', 'first', 'after', 'leaving', 'the', 'soap', 'world', '.'],['xxbos', 'xxmaj', 'this', 'is', 'blatantly', 'a', 'futuristic', 'adaptation', 'of', 'xxmaj', 'jules', 'xxmaj', 'verne', \"'s\", '\"', 'mysterious', 'xxmaj', 'island', '\"', '.', 'xxmaj', 'the', 'sound', 'editing', 'is', 'pretty', 'bad', '.', 'xxmaj', 'you', 'hear', 'the', 'dialogue', 'on', 'set', 'and', 'you', 'hear', 'the', 'voices', 'being', 'recorded', 'on', 'a', 'recording', 'booth', 'at', 'the', 'same', 'time', '!', 'xxmaj', 'this', 'is', 'an', 'amateur', 'film', 'with', 'actors', 'from', 'xxmaj', 'boston', 'and', 'shot', 'around', 'xxmaj', 'new', 'xxmaj', 'hampshire', '.', 'xxmaj', 'for', 'those', 'living', 'in', 'xxmaj', 'new', 'xxmaj', 'engalnd', 'and', 'who', 'is', 'reading', 'this', 'comment', 'will', 'be', 'wowed', 'with', 'a', 'capital', 'xxup', 'w.', 'xxmaj', 'this', 'film', 'is', 'full', 'of', 'flaws', '.', 'xxmaj', 'you', 'get', 'to', 'hear', 'the', 'director', \"'s\", 'voice', 'giving', 'directions', 'and', 'giving', 'out', 'directions', 'to', 'the', 'actress', '.', '\"', 'ok', 'now', 'stand', 'up', '.', '\"', 'xxmaj', 'as', 'for', 'the', 'other', 'characters', '.', 'xxmaj', 'there', 'is', 'this', 'guy', 'who', 'talks', 'with', 'his', 'mind', 'instead', 'of', 'his', 'voice', 'and', 'this', 'blue', 'alien', '.', 'xxmaj', 'the', 'alien', 'guy', 'talks', 'with', 'a', 'deep', 'voice', '.', 'xxmaj', 'when', 'he', 'is', 'yawning', 'or', 'grunting', 'when', 'he', 'is', 'fighting', 'you', 'hear', 'the', 'actor', \"'s\", 'voice', '.', 'xxmaj', 'as', 'for', 'the', 'special', 'effects', ',', 'man', '!', 'xxmaj', 'this', 'was', 'xxmaj', 'brett', 'xxmaj', 'piper', \"'s\", 'early', 'work', 'for', 'crying', 'out', 'loud', '!', 'xxmaj', 'the', 'creatures', 'are', 'good', 'but', 'the', 'animation', 'is', 'jerky', '.', 'xxmaj', 'really', 'jerky', '.', 'xxmaj', 'sort', 'of', 'like', 'xxmaj', 'karl', 'xxmaj', 'zeman', 'animation', 'in', 'xxup', 'journey', 'xxup', 'to', 'xxup', 'beginning', 'xxup', 'of', 'xxup', 'time', '(', '1955', ')', '.', 'xxmaj', 'the', 'special', 'effects', 'are', 'imaginative', '.', 'xxmaj', 'thge', 'music', 'is', 'good', '.', 'xxmaj', 'bottom', 'line', ',', 'this', 'film', 'makes', 'xxup', 'equinox', 'or', 'xxup', 'planet', 'xxup', 'of', 'xxup', 'the', 'xxup', 'dinosaurs', 'look', 'like', 'a', 'xxmaj', 'ray', 'xxmaj', 'harryhausen', 'epic', '.', 'xxmaj', 'did', 'you', 'know', 'xxup', 'mysterious', 'xxup', 'planet', 'was', 'a', 'home', 'movie', 'and', 'was', 'on', 'a', 'shoes', 'string', 'budget', '?', 'a', 'must', 'watch', 'for', 'aspiring', 'film', 'makers', '.'],['xxbos', 'xxmaj', 'when', 'i', 'was', 'a', 'kid', ',', 'i', 'remember', 'watching', 'this', 'while', 'visiting', 'a', 'friend', 'of', 'our', '\"', 'uncle', '\"', 'xxmaj', 'phil', '.', 'xxmaj', 'we', \"'re\", 'xxmaj', 'back', '!', 'a', 'xxmaj', 'dinosaur', \"'s\", 'xxmaj', 'story', 'is', 'a', 'silly', 'cartoon', 'about', 'a', 'dinosaur', 'called', 'xxmaj', 'rex', '(', 'voiced', 'by', 'the', 'wonderful', 'xxmaj', 'john', 'xxmaj', 'goodman', ')', '.', 'xxmaj', 'he', 'tells', 'a', 'little', 'boy', 'dinosaur', 'the', 'story', 'about', 'how', 'the', 'dinosaurs', 'came', 'back', 'to', 'xxmaj', 'earth', 'to', 'live', '.', 'xxmaj', 'he', 'explains', 'that', 'he', 'was', 'part', 'of', 'the', 'thing', 'that', 'brought', 'them', 'back', ',', 'along', 'with', 'some', 'friends', '.', 'xxmaj', 'the', 'xxmaj', 'doctor', '/', 'xxmaj', 'professor', 'villain', 'of', 'this', 'film', 'i', 'think', 'might', 'have', 'been', 'responsible', 'for', 'them', 'being', 'them', 'back', ',', 'but', 'i', 'do', \"n't\", 'care', 'about', 'him', '.', 'xxmaj', 'the', 'kids', 'might', 'like', 'this', ',', 'but', 'personally', 'it', 'is', 'just', 'too', 'cheesy', '.', 'xxmaj', 'john', 'xxmaj', 'goodman', 'was', 'probably', 'the', 'only', 'decent', 'thing', '.', 'xxmaj', 'poor', '!'],['xxbos', '*', 'warning', '*', 'xxmaj', 'contains', 'xxup', 'many', 'xxup', 'spoilers', '!', '\\n\\n', 'xxmaj', 'let', 'me', 'start', 'by', 'saying', 'i', 'have', 'a', 'huge', 'respect', 'for', 'xxmaj', 'gillian', 'xxmaj', 'anderson', \"'s\", 'incredible', 'talent', 'as', 'a', 'varied', 'and', 'versatile', 'actress', '-', 'which', 'is', 'why', 'i', 'can', 'not', 'comprehend', 'her', 'reasons', 'for', 'agreeing', 'to', 'make', 'this', 'film', 'once', 'she', 'saw', 'the', 'script', '(', 'or', 'lack', 'thereof', '.', ')', '\\n\\n', 'xxmaj', 'the', 'premise', 'of', 'the', 'film', 'was', ',', 'in', 'my', 'opinion', ',', 'a', 'great', 'idea', 'and', 'there', 'were', 'some', 'genuinely', 'thought', '-', 'provoking', 'themes', 'in', 'there', 'but', 'it', 'ended', 'up', 'like', 'a', 'collapsed', 'soufflé', '.', 'xxmaj', 'it', 'exemplifies', 'why', 'i', 'hate', '99', '%', 'of', 'xxmaj', 'british', 'cinema', '.', 'xxmaj', 'it', 'feels', 'too', 'long', ',', 'it', \"'s\", 'tedious', ',', 'for', 'the', 'most', 'part', ',', 'and', 'not', 'a', 'lot', 'happens', 'after', 'the', 'first', 'twenty', 'minutes', '.', 'xxmaj', 'just', 'when', 'you', 'think', 'there', \"'s\", 'a', 'chance', 'of', 'it', 'picking', 'up', 'some', 'speed', 'it', 'disappoints', 'like', 'xxmaj', 'paula', 'xxmaj', 'radcliffe', 'running', 'a', 'marathon', '.', 'xxmaj', 'with', 'little', 'imaginative', 'directing', 'and', 'a', 'minimalist', 'plot', ',', 'there', 'is', \"n't\", 'much', 'to', 'keep', 'the', 'audience', 'from', 'nodding', 'off', 'into', 'their', 'popcorn', '.', 'xxmaj', 'as', 'for', 'the', 'script', 'i', 'can', 'only', 'surmise', 'that', 'the', 'writer', 'was', 'trying', 'to', 'save', 'a', 'few', 'trees', ',', 'with', 'the', 'average', 'scene', 'reading', 'something', 'along', 'the', 'lines', 'of', '\"', 'alice', ':', 'f', 'xxrep', '3', '*', 'xxup', 'off', '!', '(', 'adam', 'stares', '.', 'xxmaj', 'adam', 'runs', 'off', 'into', 'woods)(alice', 'follows', ')', 'xxmaj', 'alice', ':', 'xxup', 'adam', '!', 'xxup', 'adam', '!', '\"', 'i', 'suspect', 'that', ',', 'word', 'for', 'word', ',', 'the', 'actors', 'probably', 'got', 'paid', 'more', 'than', 'xxmaj', 'kate', 'xxmaj', 'moss', 'did', 'for', 'her', 'xxmaj', 'virgin', 'xxmaj', 'mobile', 'adverts', '.', 'xxmaj', 'what', 'few', 'lines', 'there', 'were', 'did', \"n't\", 'have', 'a', 'lot', 'of', 'variation', 'with', 'a', 'frequent', 'use', 'of', 'the', 'f', '-', 'word', 'that', 'would', 'make', 'xxmaj', 'bridget', 'xxmaj', 'jones', \"'s\", 'friend', ',', 'xxmaj', 'shazza', ',', 'proud', '.', 'xxmaj', 'there', 'is', 'little', 'establishment', 'of', 'the', 'main', 'characters', 'before', 'the', 'main', 'sordid', 'event', 'which', 'leaves', 'the', 'audience', 'lacking', 'much', 'sympathy', 'for', 'the', 'characters', 'beyond', 'an', 'automatic', \"'\", 'oh', 'that', \"'s\", 'terrible', \"'\", 'reaction', '.', '\\n\\n', 'xxmaj', 'alice', 'is', \"n't\", 'the', 'kind', 'of', 'woman', 'who', 'courts', 'sympathy', 'either', '.', 'xxmaj', 'she', \"'s\", 'got', 'a', 'great', 'job', ',', 'an', 'expensive', 'xxmaj', 'london', 'apartment', 'with', 'roof', 'space', 'to', 'die', 'for', 'yet', 'she', 'comes', 'across', 'on', 'screen', 'as', 'conceited', ',', 'bitter', 'and', 'dissatisfied', 'before', 'her', 'life', 'takes', 'a', 'turn', 'for', 'the', 'worst', '.', 'xxmaj', 'after', 'the', 'attack', 'a', 'few', 'layers', 'are', 'peeled', 'back', 'which', 'sort', '-', 'of', 'explain', 'why', 'she', 'is', 'this', 'way', 'to', 'start', 'with', ';', 'she', 'grew', 'up', 'with', 'a', 'tough', '-', 'as', '-', 'old', '-', 'boots', 'soldier', 'who', 'thought', 'that', 'teaching', 'her', 'how', 'to', 'shoot', 'his', 'gun', 'was', 'the', 'ultimate', 'expression', 'of', 'love', 'so', ',', 'instead', 'of', 'following', 'in', 'his', 'footsteps', ',', 'she', 'ran', 'away', 'to', 'the', 'big', 'city', 'in', 'search', 'of', 'something', 'to', 'make', 'her', 'feel', 'like', 'her', 'life', 'is', 'worth', 'living', '.', 'xxmaj', 'instead', 'she', 'found', 'a', 'group', 'of', 'stereotypical', 'middle', '-', 'class', 'xxmaj', 'toffs', 'who', 'look', 'down', 'on', 'anyone', 'not', 'rich', 'enough', 'to', 'drive', 'a', 'xxmaj', 'lexus', 'and', 'the', 'luxuries', 'that', 'come', 'with', 'an', 'integrated', 'security', '/', 'entertainment', 'system', '(', 'i.e.', 'becoming', 'xxmaj', 'mrs', 'xxmaj', 'robinson', 'to', 'a', 'wanna', '-', 'be', 'xxmaj', 'cockney', 'wide', '-', 'boy', 'electrician', ')', 'xxmaj', 'someone', 'pass', 'me', 'a', 'tissue', '.', 'xxmaj', 'the', 'one', 'saving', 'grace', 'of', 'this', 'character', 'is', 'that', 'she', 'is', 'played', 'by', 'xxmaj', 'gillian', 'xxmaj', 'anderson', '.', 'xxmaj', 'in', 'the', 'hands', 'of', 'a', 'lesser', 'actress', 'she', 'would', \"'ve\", 'been', 'intolerably', 'one', '-', 'dimensional', 'but', 'xxmaj', 'ms', 'xxmaj', 'anderson', 'actually', 'manages', 'to', 'inject', 'a', 'few', 'fleeting', 'moments', 'of', 'humanity', 'into', 'this', 'otherwise', 'lifeless', 'human', 'being', ',', 'most', 'notably', 'when', 'she', \"'s\", 'sincerely', 'apologising', 'for', 'her', 'road', 'rage', 'in', 'a', 'vain', 'attempt', 'to', 'stop', 'her', 'attackers', 'from', 'continuing', 'their', 'assault', '.', '\\n\\n', 'i', 'ca', \"n't\", 'say', 'that', 'xxmaj', 'adam', 'fared', 'much', 'better', 'either', '.', 'xxmaj', 'danny', 'xxmaj', 'dyer', 'played', 'him', 'well', 'as', 'a', 'fish', '-', 'out', '-', 'of', '-', 'water', 'xxmaj', 'jack', 'the', 'xxmaj', 'lad', 'but', 'a', 'good', 'performance', 'could', \"n't\", 'save', 'him', 'from', 'both', 'the', 'lack', 'of', 'a', 'script', 'and', 'the', 'total', 'absence', 'of', 'any', 'character', 'background', '.', '\\n\\n', 'xxmaj', 'this', 'film', 'relied', 'mostly', 'on', 'shock', 'value', 'but', 'the', 'timing', 'was', 'off', 'and', 'it', 'felt', 'far', 'too', 'engineered', 'from', 'beginning', 'to', 'end', '.', 'xxmaj', 'as', 'for', 'the', 'shock', ',', 'the', 'most', 'shocking', 'thing', 'about', 'this', 'film', 'is', 'the', 'unashamed', 'demonstration', 'of', 'how', 'painfully', 'thin', 'xxmaj', 'ms', 'xxmaj', 'anderson', 'has', 'become', ';', 'it', 'was', 'almost', 'as', 'unsettling', 'to', 'see', 'as', 'the', 'brutal', 'attack', 'scenes', '.', 'xxmaj', 'on', 'a', 'side', 'note', ',', 'only', 'in', 'a', 'xxmaj', 'british', 'film', 'would', 'a', 'gang', 'of', 'violent', 'sex', 'attackers', 'take', 'the', 'time', 'to', 'offer', 'each', 'other', 'contraception', 'before', 'continuing', 'to', 'cheer', 'their', 'mates', 'on', '-', 'talk', 'about', 'stiff', '-', 'upper', '-', 'lip', 'taken', 'to', 'the', 'extreme', '!', 'xxmaj', 'if', 'this', 'is', 'the', 'kind', 'of', 'film', 'that', 'the', 'xxmaj', 'national', 'xxmaj', 'lottery', 'is', 'donating', 'money', 'to', 'make', 'then', 'xxmaj', 'i', \"'m\", 'not', 'surprised', 'that', 'fewer', 'and', 'fewer', 'people', 'are', 'choosing', 'to', 'spend', 'their', 'pound', 'each', 'week', '.', '\\n\\n', 'xxmaj', 'saying', 'that', 'i', 'hated', 'this', 'film', 'is', 'giving', 'it', 'too', 'much', 'credit', ',', 'i', 'did', \"n't\", 'care', 'enough', 'about', 'any', 'of', 'the', 'characters', 'to', 'warrant', 'that', 'strong', 'an', 'emotion', '.', 'i', 'want', 'that', 'one', '-', 'and', '-', 'a', '-', 'bit', 'hours', 'of', 'my', 'life', 'back', ',', 'please', '!'],['xxbos', 'xxmaj', 'we', 'know', 'that', 'firefighters', 'and', 'rescue', 'workers', 'are', 'heroes', ':', 'an', 'idée', 'reçue', 'few', 'would', 'challenge', '.', 'xxmaj', 'friends', 'and', 'family', 'of', 'these', 'and', 'others', 'who', 'perished', 'in', 'the', 'attacks', 'on', 'the', 'xxmaj', 'world', 'xxmaj', 'trade', 'xxmaj', 'center', 'might', 'well', 'be', 'moved', 'by', 'this', 'vapid', 'play', 'turned', 'film', '.', 'a', 'sweet', ',', 'earnest', ',', 'though', 'tongue', '-', 'tied', 'fireman', 'recalls', 'what', 'he', 'can', 'of', 'lost', 'colleagues', 'to', 'a', 'benumbed', 'journalist', 'who', 'converts', 'his', 'fragments', 'into', 'a', 'eulogy', '.', 'xxmaj', 'they', 'ponder', 'the', 'results', '.', 'xxmaj', 'he', 'mumbles', 'some', 'more', ',', 'she', 'composes', 'another', 'eulogy', ',', 'etc', '.', ',', 'etc', '.', '\\n\\n', 'xxmaj', 'the', 'dreadful', 'events', 'that', 'provoked', 'the', 'need', 'for', 'several', 'thousand', 'eulogies', 'is', 'overwhelmingly', 'sad', ',', 'but', 'this', 'plodding', 'insipid', 'dramatization', 'is', 'distressingly', 'boring', '.'],['xxbos', 'xxmaj', 'jeremy', 'xxmaj', 'northam', 'struggles', 'against', 'a', '\"', 'total', 'xxmaj', 'recall', '\"', 'clone', 'script', 'and', 'disposable', 'romantic', 'by', '-', 'play', 'to', 'bring', 'life', 'to', 'a', 'confused', 'character', '.', 'xxmaj', 'lucy', 'xxmaj', 'liu', 'graduates', 'her', 'acting', 'from', 'a', 'wooden', 'start', 'to', 'a', 'workman', '-', 'like', 'finish', '.', 'xxmaj', 'you', 'ca', \"n't\", 'fail', 'to', 'laugh', 'when', 'viewing', 'her', 'interviews', 'on', 'the', 'xxup', 'dvd', 'when', 'she', 'uses', 'the', 'term', '\"', 'femme', 'fatal', '\"', 'and', '\"', 'romance', '\"', '.', 'xxmaj', 'french', 'film', '-', 'noir', 'actress', 'she', 'is', 'not', 'and', 'they', 'lack', 'chemistry', 'together', '.', '\\n\\n', 'xxmaj', 'this', 'movie', 'fails', ',', 'not', 'in', 'the', 'plot', 'or', 'the', 'action', 'sequences', 'but', 'in', 'the', 'lack', 'of', 'attention', 'to', 'detail', 'in', 'the', 'films', 'photography', 'and', 'ham', '-', 'fisted', 'portrayal', 'of', 'the', 'world', 'of', 'technology', 'surrounding', 'the', 'main', 'protagonists', '.', 'xxmaj', 'little', 'attempt', 'is', 'made', 'to', 'dress', 'the', 'scenery', 'to', 'represent', 'any', 'contiguous', 'filmic', 'landscape', 'or', 'period', '.', 'xxmaj', 'automobiles', 'are', 'very', '1990', \"'s\", 'and', 'the', 'architecture', 'barely', 'modern', 'with', 'open', 'plans', 'that', 'hint', 'at', 'a', 'restricted', 'budget', 'rather', 'than', 'conscious', 'set', 'dressing', 'techniques', '.', '\\n\\n', 'xxmaj', 'the', 'technology', 'is', 'positively', 'hilarious', '.', 'xxmaj', 'massive', '\"', '2001', ':', 'a', 'xxmaj', 'space', 'xxmaj', 'odyssey', '\"', 'mainframes', 'fed', 'by', 'man', '-', 'portable', 'cd', '-', 'rom', \"'s\", 'with', 'data', 'collected', 'for', 'some', 'unexplained', 'reason', ',', 'in', 'spite', 'of', 'the', 'proliferating', 'communications', 'network', 'that', 'even', 'the', 'most', 'un', '-', 'savvy', 'technologist', 'today', 'would', 'obviously', 'be', 'aware', '.', 'xxmaj', 'there', 'is', 'an', 'obvious', 'lack', 'of', 'research', 'done', 'here', 'and', 'given', 'the', 'open', '-', 'source', 'nature', 'of', 'the', 'cyber', '-', 'community', ',', 'research', 'would', 'have', 'cost', 'little', 'more', 'than', 'a', 'bulletin', 'board', 'and', 'personal', 'time', '.', '\\n\\n', 'xxup', 'dvd', 'interviews', 'also', 'reveal', 'the', 'original', 'movie', 'name', 'was', '\"', 'company', 'xxmaj', 'man', '\"', 'but', 'this', 'likely', 'ditched', 'in', 'order', 'to', 'cash', 'in', 'on', 'xxmaj', 'matrix', 'hype', '.', 'xxmaj', 'the', '\"', 'cypher', '\"', 'title', 'has', 'only', 'the', 'slightest', 'link', 'with', 'the', 'movie', '.', 'xxmaj', 'terry', 'xxmaj', 'gilliam', 'would', 'have', 'done', 'wonders', 'with', 'this', 'concept', ';', 'and', 'completely', 're', '-', 'written', 'the', 'xxmaj', 'decalogue', '.', '\\n\\n', 'xxmaj', 'this', 'is', 'xxmaj', 'tele', '-', 'movie', 'quality', 'and', 'extremely', 'disappointing', 'for', 'a', 'movie', 'length', 'production', '.', 'xxmaj', 'it', 'might', 'have', 'made', 'a', 'good', 'sub', '-', 'plot', 'for', '\"', 'alias', '\"', '.'],['xxbos', 'xxmaj', 'the', 'screenwriter', 'poorly', 'attempted', 'to', 're', '-', 'create', 'the', '\"', 'exorcist', \"'\", '.', 'xxmaj', 'but', 'put', 'in', 'some', 'blah', '-', 'blah', 'love', 'story', 'that', 'makes', 'you', 'sick', 'instead', 'of', 'keeping', 'you', 'engaged', '.', 'xxmaj', 'there', 'is', 'no', 'substance', 'whatsoever', 'in', 'this', 'entire', 'film', '.', 'xxmaj', 'it', 'had', 'the', 'potential', 'of', 'being', 'something', 'special', 'but', 'blows', 'it', 'by', 'showing', 'a', 'bunch', 'of', 'people', 'yack', 'about', 'things', 'nobody', 'cares', 'about', '.', 'xxmaj', 'extremely', 'boring', ',', 'i', 'wanted', 'to', 'leave', 'the', 'theater', 'when', 'i', 'saw', 'this', 'but', 'the', 'dumb', 'movie', 'tickets', 'were', 'expensive', 'so', 'i', 'had', 'to', 'withstand', 'the', 'dreary', 'torture', 'which', 'felt', 'like', 'it', 'lasted', 'forever', '.', 'xxmaj', 'nothing', 'on', 'screen', 'connected', 'relevance', 'back', 'to', 'whatever', 'the', 'characters', 'were', 'talking', 'about', '.', '\\n\\n', 'xxmaj', 'they', 'use', 'computer', 'graphics', 'in', 'here', 'that', 'instead', 'of', 'wowing', 'me', '(', 'as', 'it', 'intended', ',', 'i', 'hate', 'xxup', 'cgi', ')', 'just', 'ruined', 'the', 'movie', 'even', 'more', '.', 'xxmaj', 'some', 'people', 'say', 'this', 'movie', 'did', 'horrible', 'in', 'the', 'movie', 'theaters', 'because', 'of', 'how', '\"', 'thought', '-', 'provoking', '\"', 'and', '\"', 'slow', '-', 'paced', '-', 'without', '-', 'action', '-', 'because', 'it', \"'s\", 'an', 'intelligent', 'film', '\"', 'it', 'was', '.', 'xxmaj', 'what', 'is', 'so', 'intelligent', 'or', 'thought', 'provoking', 'when', 'the', 'story', 'is', 'basically', 'about', 'pretty', 'boy', 'xxmaj', 'heath', 'xxmaj', 'ledger', 'as', 'a', 'priest', 'who', 'has', 'a', 'love', 'interest', 'and', 'disobeys', 'his', 'religion', '?', 'xxmaj', 'seems', 'like', 'an', 'uninspired', 'concept', '.', 'xxmaj', 'oh', 'and', 'there', \"'s\", 'some', 'mumbo', 'jumbo', 'about', 'the', '\"', 'sin', '-', 'eater', '\"', '(', 'movie', 'was', 'originally', 'going', 'to', 'be', 'titled', '\"', 'sin', '-', 'eater', '\"', ')', '.', 'xxmaj', 'lame', 'concept', 'but', 'the', 'movie', 'took', 'the', '\"', 'sin', '-', 'eater', '\"', 'thing', 'too', 'seriously', ',', 'making', 'the', 'movie', 'become', 'pathetic', 'and', 'delusional', 'about', 'how', 'dark', 'and', 'intelligent', 'it', 'was', '.', 'xxmaj', 'yeah', ',', 'i', 'know', 'there', 'were', 'really', 'sin', '-', 'eaters', 'in', 'the', 'medieval', 'times', 'but', 'this', 'movie', 'just', 'makes', 'it', 'sound', 'cheesy', '.', '\\n\\n', 'xxmaj', 'nothing', 'in', 'the', 'movie', 'was', 'executed', 'right', 'and', 'i', 'forget', 'why', 'i', 'even', 'bothered', 'to', 'see', 'this', 'movie', '.', 'xxmaj', 'if', 'you', 'want', 'horror', 'films', 'that', 'actually', 'have', 'depth', ',', 'watch', 'xxmaj', 'rosemary', \"'s\", 'xxmaj', 'baby', ',', 'xxmaj', 'the', 'xxmaj', 'tenant', ',', 'xxmaj', 'naked', 'xxmaj', 'blood', ',', 'xxmaj', 'society', ',', 'xxmaj', 'cannibal', 'xxmaj', 'holocaust', ',', 'xxmaj', 'pin', ',', 'xxmaj', 'exorcist', ',', 'xxmaj', 'omen', ',', 'or', 'any', 'of', 'the', 'xxmaj', 'romero', '\"', 'dead', 'xxmaj', 'trilogy', '\"', 'films', '.', 'xxmaj', 'nonsense', 'dialogue', 'does', 'not', 'equate', 'to', 'intelligence', 'people', ',', 'mainstream', 'movie', 'fans', 'think', 'that', 'though', '(', 'same', 'kind', 'of', 'people', 'that', 'think', 'a', 'ridiculous', 'movie', 'like', 'xxmaj', 'hulk', 'is', 'a', 'cinematic', 'masterpiece', ')', '.', 'xxmaj', 'if', 'you', 'want', 'mind', '-', 'numbingly', 'boring', 'horror', ',', 'watch', 'the', 'xxmaj', 'order', '.', 'xxmaj', 'this', 'movie', 'makes', 'church', 'seem', 'like', 'a', 'roller', 'coaster', 'ride', '.'],['xxbos', 'i', 'mean', 'really', '.', 'xxmaj', 'this', 'is', 'not', 'going', 'to', 'help', 'the', 'xxmaj', 'australian', 'film', 'industry', 'to', 'make', 'this', 'kind', 'of', 'film', 'with', 'no', 'values', 'of', 'any', 'kind', '.', 'xxmaj', 'okay', ',', 'if', 'you', \"'re\", 'a', 'stoner', 'and', 'have', 'nothing', 'better', 'to', 'do', ',', 'then', 'maybe', '.', 'i', 'think', 'film', '-', 'makers', 'from', 'here', 'should', 'try', 'to', 'show', 'the', 'rest', 'of', 'the', 'world', 'what', 'great', 'talented', 'people', 'we', 'have', ',', 'and', 'this', 'is', 'not', 'the', 'vehicle', 'for', 'it', '.', 'xxmaj', 'come', 'on', 'now', ',', 'this', 'film', 'is', 'just', 'tacky', '.'],['xxbos', 'xxmaj', 'spoilers', '?', 'xxmaj', 'maybe', 'a', 'few', 'details', ',', 'but', 'nothing', 'too', 'plot', 'related', '.', 'xxmaj', 'not', 'like', 'it', 'would', 'matter', 'with', 'this', 'movie', '.', '\\n\\n', 'xxmaj', 'air', 'xxmaj', 'rage', 'blatantly', 'rips', 'off', 'the', 'mid', '-', 'air', 'infiltration', 'premise', 'of', 'xxmaj', 'executive', 'xxmaj', 'decision', '.', 'ice', '-', 't', 'leads', 'a', 'team', 'of', 'four', '\"', 'elite', '\"', 'commandos', 'who', 'wear', 'baggy', 'black', 'shirts', 'that', 'we', 'can', 'only', 'imagine', 'must', 'conceal', 'invisible', 'body', 'armor', 'as', 'their', 'idiotic', 'tactics', '(', 'similar', 'to', 'what', '3rd', 'graders', 'use', 'when', 'playing', 'xxmaj', 'star', 'xxmaj', 'wars', 'on', 'the', 'playground', ')', 'lead', 'them', 'to', 'absorb', 'a', 'hail', 'of', 'gunfire', '.', '\\n\\n', 'xxmaj', 'what', 'entertained', 'me', 'the', 'most', 'about', 'this', 'flick', 'was', 'the', 'use', 'of', 'look', '-', 'alike', 'has', '-', 'been', 'actors', '.', 'xxmaj', 'you', \"'ll\", 'immediately', 'recognize', 'xxmaj', 'cyril', \"o'reily\", 'as', 'someone', 'who', 'once', 'acted', 'in', 'a', 'movie', 'that', 'you', 'really', 'liked', ',', 'though', 'it', 'was', 'so', 'long', 'ago', 'that', 'you', 'probably', 'wo', \"n't\", 'be', 'able', 'to', 'place', 'it', '(', 'it', 'was', 'xxmaj', 'porky', \"'s\", ')', '.', 'xxmaj', 'here', 'xxmaj', 'cyril', 'plays', 'a', 'decent', 'knock', '-', 'off', 'of', 'a', 'xxmaj', 'bill', 'xxmaj', 'paxton', 'character', '.', 'xxmaj', 'most', 'xxmaj', 'hilarious', 'is', 'porker', 'xxmaj', 'gil', 'xxmaj', 'gerard', ',', 'who', \"'s\", 'so', 'fat', 'that', 'you', 'will', 'never', 'recognize', 'him', 'as', 'tv', \"'s\", 'xxmaj', 'buck', 'xxmaj', 'rogers', '.', 'xxmaj', 'instead', 'of', 'evoking', 'his', 'mildly', 'heroic', 'character', 'past', ',', 'xxmaj', 'gerard', 'gives', 'us', 'a', 'passable', 'performance', 'of', 'the', 'crusty', 'fat', 'tough', 'guy', 'persona', ',', 'which', 'was', 'clearly', 'imagineered', 'for', 'xxmaj', 'john', 'xxmaj', 'goodman', '.', 'xxmaj', 'finally', ',', 'xxmaj', 'alex', 'xxmaj', 'cord', 'gives', 'us', 'a', 'nice', 'hybrid', 'look', '-', 'alike', 'performance', 'as', 'a', 'xxmaj', 'chuck', 'xxmaj', 'connors', '/', 'xxmaj', 'kirk', 'xxmaj', 'douglas', 'type', '.', 'xxmaj', 'in', 'the', '10', 'years', 'since', 'xxmaj', 'new', 'xxmaj', 'jack', 'xxmaj', 'city', ',', 'ice', '-', 't', \"'s\", 'acting', 'has', 'deteriorated', 'remarkably', '.', 'xxmaj', 'it', \"'s\", 'not', 'acting', 'so', 'much', 'as', 'regurgitation', 'of', 'lines', 'that', 'he', 'might', 'have', 'actually', 'memorized', '.', '\\n\\n', 'xxmaj', 'one', 'of', 'the', 'items', 'that', 'plays', 'into', 'this', 'movie', 'is', 'a', 'xxup', 'cd', '-', 'rom', 'of', 'classified', 'information', '.', 'xxmaj', 'it', \"'s\", 'being', 'hand', 'carried', ',', 'and', 'it', \"'s\", 'apparently', 'and', 'unbelievably', 'not', 'encrypted', ',', 'despite', 'the', 'security', '-', 'savvy', 'aura', 'of', 'xxmaj', 'gerard', \"'s\", 'xxup', 'nsa', 'character', '.', 'xxmaj', 'what', 'a', 'joke', '.', 'xxmaj', 'i', \"'m\", 'severely', 'doubting', 'that', 'the', 'information', 'purported', 'to', 'be', 'on', 'the', 'xxup', 'cd', 'would', 'ever', 'even', 'all', 'be', 'assembled', 'into', 'a', 'portable', 'format', '.', '\\n\\n', 'xxmaj', 'despite', 'being', 'in', 'a', 'closed', 'aircraft', 'without', 'silencers', ',', 'the', 'gunfire', 'is', 'about', 'as', 'loud', 'as', 'canned', 'air', ',', 'and', 'causes', 'nary', 'a', 'person', 'to', 'flinch', ',', 'so', 'apparently', 'no', 'foley', 'budget', '.', 'xxmaj', 'the', 'assortment', 'of', 'weapons', 'chosen', 'is', 'pretty', 'funny', '.', 'xxmaj', 'the', 'flight', 'attendant', \"'s\", 'use', 'of', 'a', 'coffee', 'pot', 'is', 'about', 'the', 'most', 'realistic', 'depiction', 'of', 'violence', 'in', 'the', 'film', '.', 'xxmaj', 'when', 'she', 'takes', 'intuitively', 'to', 'the', 'mini', '-', 'uzi', 'pistol', ',', 'which', 'has', 'got', 'to', 'be', 'one', 'of', 'the', 'worst', 'pistol', 'designs', 'ever', ',', 'that', \"'s\", 'just', 'too', 'stupid', '.', 'a', 'true', 'elite', 'team', 'would', 'carry', 'mp-5s', 'for', 'this', 'type', 'thing', 'or', 'maybe', 'xxup', 'socomm', '.45s', ',', 'or', 'even', 'customized', 'xxmaj', 'hi-', 'xxmaj', 'powers', 'if', 'they', 'were', 'really', 'old', 'school', ',', 'or', 'maybe', 'something', 'xxup', 'fn', '5.7', 'if', 'new', 'school', '…', 'xxmaj', 'the', 'lame', '-', 'o', 'standard', 'issue', '92fs', 'are', 'totally', 'unbelievable', ',', 'having', 'lost', 'most', 'of', 'their', 'cool', 'after', 'xxmaj', 'lethal', 'xxmaj', 'weapon', 'xxup', 'i.', 'xxmaj', 'the', 'bad', 'guys', ',', 'supposedly', 'experienced', 'soldier', 'of', 'fortune', 'types', ',', 'have', 'an', 'assorted', 'mixture', 'of', 'absurdity', ',', 'like', 'the', 'aforementioned', 'mini', '-', 'uzi', 'pistol', 'and', 'a', 'xxmaj', 'tec-9', 'with', 'the', 'infamous', 'non', '-', 'functional', 'barrel', 'extender', 'that', 'is', \"n't\", 'a', 'silencer', '.', '\\n\\n', 'xxmaj', 'there', 'was', 'one', 'touch', 'of', 'realism', 'on', 'which', 'i', 'would', 'like', 'to', 'correct', 'the', 'other', 'reviewers', ':', 'xxmaj', 'the', 'flight', 'attendant', 'and', 'ice', '-', 't', 'did', 'lower', 'the', 'craft', 'to', '10', ',', 'xxrep', '3', '0', 'feet', 'for', '\"', 'breathable', 'air', '\"', 'before', 'they', 'opened', 'the', 'door', '.', 'xxmaj', 'and', 'i', 'also', 'got', 'the', 'impression', 'that', 'the', 'flight', 'attendant', 'was', 'xxup', 'not', 'able', 'to', 'get', 'the', 'door', 'closed', ',', 'that', 'she', 'basically', 'just', 'gave', 'up', 'on', 'that', 'point', '.', 'xxmaj', 'as', 'far', 'as', 'the', 'landing', ',', 'there', 'was', 'no', 'mention', 'of', 'flaps', 'until', 'about', '2', 'seconds', 'before', 'touchdown', '.', 'xxmaj', 'sigh', '.', '\\n\\n', 'xxmaj', 'only', 'the', 'xxmaj', 'dukes', 'of', 'xxmaj', 'hazard', 'eluding', 'xxmaj', 'roscoe', 'xxup', 'p.', 'xxmaj', 'coltrane', 'at', 'the', '\"', 'pass', '\"', 'could', 'shame', 'this', 'movie', 'for', 'use', 'of', 'stock', 'footage', '.', 'xxmaj', 'they', 'obviously', 'chose', 'the', 'incredible', '(', 'and', 'retired', ')', 'xxup', 'sr-71', 'because', 'they', 'could', \"n't\", 'get', 'stock', 'of', 'an', 'xxup', 'f-117', '.', 'xxmaj', 'aside', 'from', 'the', 'fact', 'that', 'they', 'were', 'mothballed', 'already', 'in', '2001', ',', 'let', \"'s\", 'also', 'forget', 'for', 'a', 'moment', 'that', 'the', 'xxup', 'sr-71', 'is', 'not', 'a', 'pure', 'stealth', 'aircraft', 'in', 'the', 'sense', 'of', 'the', 'xxup', 'b-2', ',', 'and', 'that', 'at', 'point', 'blank', 'range', '…', 'xxmaj', 'well', ',', 'xxmaj', 'i', \"'m\", 'no', 'expert', ',', 'but', 'xxmaj', 'i', \"'m\", 'having', 'doubts', 'as', 'to', 'whether', 'it', 'would', 'be', 'invisible', 'on', 'xxmaj', 'radar', '.', '\\n\\n', 'xxmaj', 'as', 'others', 'have', 'pointed', 'out', ',', 'the', 'repeated', 'references', 'to', '\"', 'f-15s', '\"', 'when', 'they', 'were', 'showing', 'f', '-16s', 'was', 'laughable', '.', 'xxmaj', 'details', 'of', 'the', '747', 'were', 'pretty', 'stupid', '.', 'xxmaj', 'no', 'airline', 'would', 'put', 'that', 'few', 'passengers', 'on', 'a', '747', 'to', 'begin', 'with', ',', 'not', 'to', 'mention', 'everything', 'else', 'that', 'was', 'idiotic', 'about', 'it', '.', 'xxmaj', 'pay', 'attention', 'to', 'the', 'use', 'of', 'exposed', 'electrical', 'wiring', '.', '\\n\\n', 'xxmaj', 'wow', '.', 'xxmaj', 'what', 'a', 'show', '.', 'xxmaj', 'catch', 'it', 'on', 'xxmaj', 'stars', 'or', 'something', '.', 'xxmaj', 'do', \"n't\", 'pay', 'to', 'rent', 'it', ',', 'but', 'do', 'watch', 'it', 'for', 'laughs', '.', 'xxmaj', 'in', 'contention', 'for', 'worst', 'movie', 'ever', ',', 'right', 'up', 'there', 'with', 'xxmaj', 'no', 'xxmaj', 'holds', 'xxmaj', 'barred', ',', 'which', 'at', 'least', 'had', 'some', 'originality', '.'],['xxbos', 'xxmaj', 'dude', ',', 'really', 'xxrep', '4', '!', 'where', 'have', 'you', 'guys', 'been', 'the', 'past', '20', 'years', ',', 'this', 'is', 'shocking', 'in', 'all', 'kind', 'of', 'ways', ',', 'horror', '?', 'xxmaj', 'this', 'is', 'a', 'joke', ',', 'there', 'is', 'nothing', 'wrong', 'with', 'being', 'low', 'budget', ',', 'but', 'this', 'is', 'a', 'laugh', ',', 'xxmaj', 'if', 'you', 'want', 'to', 'look', 'at', 'the', 'classics', ',', 'xxmaj', 'freaks', 'of', 'xxmaj', 'tod', 'xxmaj', 'browning', ',', 'the', 'victims', 'of', 'xxmaj', 'dracula', 'and', 'xxmaj', 'frankenstein', ',', 'the', 'xxmaj', 'undying', 'xxmaj', 'monster', ',', 'xxmaj', 'ernest', 'xxmaj', 'thesiger', ',', 'xxmaj', 'paul', 'xxmaj', 'wegener', \"'s\", 'xxmaj', 'the', 'xxmaj', 'golem', 'and', 'the', 'passengers', 'of', 'xxmaj', 'the', 'xxmaj', 'ghost', 'xxmaj', 'train', ',', 'you', 'ca', \"n't\", 'compare', 'it', ',', 'it', 'gives', 'it', 'a', 'bad', 'name', ',', 'bad', 'acting', ',', 'bad', 'screenplay', 'etc', '.', 'xxmaj', 'total', 'waist', 'of', 'money', 'and', 'free', 'time', ',', 'have', 'watched', 'a', 'lot', 'of', 'movies', ',', 'were', 'as', 'horror', 'is', 'my', 'all', 'time', 'favorite', ',', 'i', 'really', 'am', 'speechless', ',', 'have', 'nothing', 'more', 'to', 'say', 'that', 'please', 'do', \"n't\", 'do', 'the', 'effort', 'to', 'watch', 'something', 'so', 'daft', ',', 'please', 'understand']...]"
      ]
     },
     "execution_count": 78,
     "metadata": {},
     "output_type": "execute_result"
    }
   ],
   "source": [
    "first_200_reviews = L(o.open().read() for o in files[:200])\n",
    "toks200 = first_200_reviews.map(tkn)\n",
    "\n",
    "# toks200 is an L of lists\n",
    "toks200"
   ]
  },
  {
   "cell_type": "code",
   "execution_count": 79,
   "id": "e714b95b",
   "metadata": {},
   "outputs": [
    {
     "data": {
      "text/plain": [
       "2024"
      ]
     },
     "execution_count": 79,
     "metadata": {},
     "output_type": "execute_result"
    }
   ],
   "source": [
    "num = Numericalize()\n",
    "num.setup(toks200)\n",
    "len(num.vocab)"
   ]
  },
  {
   "cell_type": "code",
   "execution_count": 83,
   "id": "cf17a21c",
   "metadata": {},
   "outputs": [
    {
     "data": {
      "text/plain": [
       "['xxunk',\n",
       " 'xxpad',\n",
       " 'xxbos',\n",
       " 'xxeos',\n",
       " 'xxfld',\n",
       " 'xxrep',\n",
       " 'xxwrep',\n",
       " 'xxup',\n",
       " 'xxmaj',\n",
       " 'the',\n",
       " ',',\n",
       " '.',\n",
       " 'a',\n",
       " 'and',\n",
       " 'of',\n",
       " 'to',\n",
       " 'is',\n",
       " 'it',\n",
       " 'i',\n",
       " 'in',\n",
       " 'this',\n",
       " 'that',\n",
       " '\"',\n",
       " '-',\n",
       " '\\n\\n',\n",
       " 'was',\n",
       " 'movie',\n",
       " \"'s\",\n",
       " 'for',\n",
       " 'but',\n",
       " 'as',\n",
       " 'film',\n",
       " 'with',\n",
       " 'on',\n",
       " 'not',\n",
       " 'you',\n",
       " \"n't\",\n",
       " 'be',\n",
       " 'are',\n",
       " ')',\n",
       " 'have',\n",
       " '(',\n",
       " 'they',\n",
       " 'one',\n",
       " 'he',\n",
       " 'all',\n",
       " 'so',\n",
       " 'like',\n",
       " 'or',\n",
       " 'just',\n",
       " 'his',\n",
       " 'at',\n",
       " 'who',\n",
       " 'about',\n",
       " '!',\n",
       " 'an',\n",
       " 'by',\n",
       " '?',\n",
       " 'from',\n",
       " 'do',\n",
       " 'there',\n",
       " 'if',\n",
       " 'what',\n",
       " 'has',\n",
       " 'even',\n",
       " 'some',\n",
       " 'would',\n",
       " \"'\",\n",
       " 'no',\n",
       " 'which',\n",
       " 'bad',\n",
       " '…',\n",
       " 'only',\n",
       " 'when',\n",
       " 'her',\n",
       " 'more',\n",
       " 'up',\n",
       " 'can',\n",
       " 'out',\n",
       " 'were',\n",
       " 'we',\n",
       " 'could',\n",
       " 'good',\n",
       " 'my',\n",
       " 'time',\n",
       " 'me',\n",
       " 'really',\n",
       " 'she',\n",
       " 'acting',\n",
       " 'did',\n",
       " 'than',\n",
       " 'story',\n",
       " ':',\n",
       " 'very',\n",
       " 'had',\n",
       " 'their',\n",
       " 'made',\n",
       " 'movies',\n",
       " 'most',\n",
       " 'then',\n",
       " 'into',\n",
       " 'much',\n",
       " 'been',\n",
       " 'get',\n",
       " 'see',\n",
       " 'any',\n",
       " 'because',\n",
       " 'does',\n",
       " 'too',\n",
       " 'plot',\n",
       " 'them',\n",
       " 'first',\n",
       " 'people',\n",
       " 'films',\n",
       " 'how',\n",
       " 'seen',\n",
       " 'other',\n",
       " 'ever',\n",
       " 'its',\n",
       " 'after',\n",
       " 'will',\n",
       " 'should',\n",
       " 'watch',\n",
       " 'think',\n",
       " 'know',\n",
       " 'off',\n",
       " 'never',\n",
       " 'character',\n",
       " 'well',\n",
       " 'also',\n",
       " 'little',\n",
       " 'why',\n",
       " \"'ve\",\n",
       " 'him',\n",
       " ';',\n",
       " 'many',\n",
       " 'actually',\n",
       " 'thing',\n",
       " 'nothing',\n",
       " 'such',\n",
       " 'end',\n",
       " 'life',\n",
       " 'make',\n",
       " 'being',\n",
       " 'way',\n",
       " 'scene',\n",
       " 'something',\n",
       " 'where',\n",
       " 'characters',\n",
       " 'man',\n",
       " 'two',\n",
       " 'over',\n",
       " 'few',\n",
       " 'show',\n",
       " 'director',\n",
       " 'say',\n",
       " 'better',\n",
       " 'now',\n",
       " 'worst',\n",
       " 'your',\n",
       " 'actors',\n",
       " 'scenes',\n",
       " 'back',\n",
       " '3',\n",
       " 'funny',\n",
       " 'through',\n",
       " 'those',\n",
       " 'love',\n",
       " 'here',\n",
       " 'another',\n",
       " 'go',\n",
       " 'am',\n",
       " 'minutes',\n",
       " '/',\n",
       " 'though',\n",
       " 'ca',\n",
       " 'trying',\n",
       " \"'m\",\n",
       " 'making',\n",
       " 'saw',\n",
       " 'money',\n",
       " 'got',\n",
       " 'these',\n",
       " 'part',\n",
       " 'new',\n",
       " 'look',\n",
       " 'want',\n",
       " 'play',\n",
       " 'real',\n",
       " 'awful',\n",
       " 'pretty',\n",
       " 'script',\n",
       " 'thought',\n",
       " 'still',\n",
       " 'watching',\n",
       " 'great',\n",
       " 'horror',\n",
       " 'stupid',\n",
       " 'whole',\n",
       " 'original',\n",
       " \"'re\",\n",
       " 'old',\n",
       " 'rather',\n",
       " 'again',\n",
       " 'instead',\n",
       " 'down',\n",
       " 'going',\n",
       " 'fact',\n",
       " 'high',\n",
       " 'every',\n",
       " 'same',\n",
       " 'lot',\n",
       " 'looks',\n",
       " 'cast',\n",
       " 'dialogue',\n",
       " 'guy',\n",
       " 'makes',\n",
       " 'while',\n",
       " 'let',\n",
       " 'enough',\n",
       " 'far',\n",
       " 'action',\n",
       " 'done',\n",
       " 'seems',\n",
       " 'us',\n",
       " '10',\n",
       " 'least',\n",
       " 'low',\n",
       " 'around',\n",
       " 'work',\n",
       " 'budget',\n",
       " '*',\n",
       " 'use',\n",
       " 'terrible',\n",
       " 'come',\n",
       " 'things',\n",
       " 'interesting',\n",
       " 'half',\n",
       " 'find',\n",
       " 'world',\n",
       " 'before',\n",
       " 'completely',\n",
       " 'years',\n",
       " 'point',\n",
       " 'last',\n",
       " 'later',\n",
       " 'however',\n",
       " 'music',\n",
       " 'anything',\n",
       " 'killer',\n",
       " 'away',\n",
       " 'big',\n",
       " 'almost',\n",
       " 'horrible',\n",
       " 'rest',\n",
       " 'version',\n",
       " 'best',\n",
       " 'give',\n",
       " 'audience',\n",
       " 'screen',\n",
       " 'put',\n",
       " 'without',\n",
       " 'place',\n",
       " 'everything',\n",
       " \"'d\",\n",
       " 'girl',\n",
       " 'bit',\n",
       " 'might',\n",
       " 'actor',\n",
       " 'start',\n",
       " 'right',\n",
       " 'tv',\n",
       " '2',\n",
       " 'special',\n",
       " 'poor',\n",
       " 'takes',\n",
       " 'take',\n",
       " 'may',\n",
       " 'different',\n",
       " 'itself',\n",
       " 'having',\n",
       " 'effects',\n",
       " 'must',\n",
       " 'our',\n",
       " 'main',\n",
       " 'kind',\n",
       " 'played',\n",
       " 'moments',\n",
       " 'dvd',\n",
       " 'maybe',\n",
       " 'worse',\n",
       " 'comedy',\n",
       " 'night',\n",
       " 'simply',\n",
       " 'art',\n",
       " 'hard',\n",
       " 'friends',\n",
       " 'worth',\n",
       " 'anyone',\n",
       " 'both',\n",
       " 'boring',\n",
       " 'sense',\n",
       " '--',\n",
       " 'quite',\n",
       " 'seeing',\n",
       " 'piece',\n",
       " 'supposed',\n",
       " 'feel',\n",
       " 'since',\n",
       " 'kids',\n",
       " 'long',\n",
       " 'oh',\n",
       " 'woman',\n",
       " 'either',\n",
       " 'attempt',\n",
       " 'sex',\n",
       " 'reason',\n",
       " 'school',\n",
       " 'until',\n",
       " '4',\n",
       " 'watched',\n",
       " 'war',\n",
       " 'waste',\n",
       " 'looking',\n",
       " 'else',\n",
       " 'set',\n",
       " 'called',\n",
       " 'family',\n",
       " \"'ll\",\n",
       " 'wife',\n",
       " 'especially',\n",
       " 'role',\n",
       " 'second',\n",
       " '&',\n",
       " 'unfortunately',\n",
       " 'video',\n",
       " 'mr',\n",
       " 'serious',\n",
       " 'left',\n",
       " 'series',\n",
       " 'case',\n",
       " 'couple',\n",
       " 'less',\n",
       " 'gamera',\n",
       " 'christmas',\n",
       " 'day',\n",
       " 'came',\n",
       " 'wanted',\n",
       " 'someone',\n",
       " 'living',\n",
       " 'mind',\n",
       " 'line',\n",
       " 'care',\n",
       " 'probably',\n",
       " 'once',\n",
       " 'lack',\n",
       " 'save',\n",
       " 'lines',\n",
       " 'job',\n",
       " 'die',\n",
       " 'comes',\n",
       " 'each',\n",
       " 'under',\n",
       " 'three',\n",
       " 'death',\n",
       " '1',\n",
       " 'viewer',\n",
       " 'believe',\n",
       " 'trash',\n",
       " 'although',\n",
       " 'name',\n",
       " 'shot',\n",
       " 'remember',\n",
       " 'performance',\n",
       " 'total',\n",
       " 'felt',\n",
       " 'against',\n",
       " 'extremely',\n",
       " 'entire',\n",
       " 'playing',\n",
       " 'person',\n",
       " 'absolutely',\n",
       " 'fan',\n",
       " 'crap',\n",
       " 'gets',\n",
       " 'top',\n",
       " 'except',\n",
       " 'self',\n",
       " 'already',\n",
       " 'full',\n",
       " 'kid',\n",
       " 'jack',\n",
       " 'etc',\n",
       " 'obvious',\n",
       " 'title',\n",
       " 'production',\n",
       " 'basically',\n",
       " 'cool',\n",
       " 'certainly',\n",
       " 'hero',\n",
       " 'picture',\n",
       " 'short',\n",
       " 'went',\n",
       " 'truly',\n",
       " 'used',\n",
       " 'b',\n",
       " 'tries',\n",
       " 'myself',\n",
       " 'himself',\n",
       " 'head',\n",
       " 'sorry',\n",
       " 'nice',\n",
       " 'friend',\n",
       " 'boy',\n",
       " 'become',\n",
       " 'please',\n",
       " 'need',\n",
       " 'laugh',\n",
       " 'times',\n",
       " 'fans',\n",
       " 'mean',\n",
       " 'help',\n",
       " 'wo',\n",
       " 'apparently',\n",
       " 'stars',\n",
       " 'understand',\n",
       " 'guess',\n",
       " 'azumi',\n",
       " 'young',\n",
       " 'writing',\n",
       " 'camera',\n",
       " 'face',\n",
       " 'imdb',\n",
       " '..',\n",
       " 'shots',\n",
       " 'jokes',\n",
       " 'giant',\n",
       " 'obviously',\n",
       " 'everyone',\n",
       " 'turn',\n",
       " 'voice',\n",
       " 'home',\n",
       " 'john',\n",
       " 'along',\n",
       " 'chance',\n",
       " 'yet',\n",
       " 'city',\n",
       " 'side',\n",
       " 'others',\n",
       " 'several',\n",
       " 'modern',\n",
       " 'concept',\n",
       " 'written',\n",
       " 'took',\n",
       " 'seem',\n",
       " 'air',\n",
       " 'star',\n",
       " 'finally',\n",
       " 'joke',\n",
       " 'true',\n",
       " 'gave',\n",
       " 'none',\n",
       " 'seemed',\n",
       " 'sure',\n",
       " 'act',\n",
       " 'final',\n",
       " 'direction',\n",
       " 'recommend',\n",
       " 'during',\n",
       " 'goes',\n",
       " 'said',\n",
       " 'shows',\n",
       " 'involved',\n",
       " 'alone',\n",
       " 'own',\n",
       " 'girls',\n",
       " 'cody',\n",
       " 'giving',\n",
       " 'actress',\n",
       " 'sort',\n",
       " 'silly',\n",
       " 'huge',\n",
       " 'idea',\n",
       " 'keep',\n",
       " 'word',\n",
       " 'middle',\n",
       " 'taken',\n",
       " 'period',\n",
       " 'quality',\n",
       " 'potential',\n",
       " 'bunch',\n",
       " 'interest',\n",
       " 'seriously',\n",
       " 'dead',\n",
       " 'ridiculous',\n",
       " 'flick',\n",
       " 'plays',\n",
       " 'gives',\n",
       " 'aside',\n",
       " 'laughable',\n",
       " 'wrong',\n",
       " 'monster',\n",
       " 'effort',\n",
       " 'hour',\n",
       " 'tell',\n",
       " 'weak',\n",
       " 'god',\n",
       " 'doing',\n",
       " 'between',\n",
       " 'style',\n",
       " 'needed',\n",
       " 'scary',\n",
       " 'american',\n",
       " 'avoid',\n",
       " 'directed',\n",
       " 'strange',\n",
       " 'getting',\n",
       " 'unless',\n",
       " 'review',\n",
       " 'men',\n",
       " 'women',\n",
       " 'dull',\n",
       " 'perhaps',\n",
       " 'kill',\n",
       " 'godzilla',\n",
       " 'scarecrows',\n",
       " 'run',\n",
       " 'minute',\n",
       " 'expect',\n",
       " 'ok',\n",
       " 'beginning',\n",
       " 'live',\n",
       " 'talent',\n",
       " 'premise',\n",
       " 'opinion',\n",
       " 'found',\n",
       " 'together',\n",
       " 'fails',\n",
       " 'given',\n",
       " 'theater',\n",
       " 'whatever',\n",
       " 'lame',\n",
       " 'forget',\n",
       " 'blood',\n",
       " 'try',\n",
       " 'lead',\n",
       " 'able',\n",
       " 'clearly',\n",
       " 'type',\n",
       " 'violence',\n",
       " 'totally',\n",
       " 'guys',\n",
       " 'whether',\n",
       " 'screenplay',\n",
       " 'western',\n",
       " 'enjoy',\n",
       " 'stuff',\n",
       " 'due',\n",
       " 'fight',\n",
       " 'ending',\n",
       " 'example',\n",
       " 'coming',\n",
       " 'complete',\n",
       " 'meant',\n",
       " 'entertaining',\n",
       " 'rating',\n",
       " 'husband',\n",
       " 'lundgren',\n",
       " 'performances',\n",
       " 'anyway',\n",
       " 'throughout',\n",
       " 'batman',\n",
       " 'beautiful',\n",
       " 'read',\n",
       " 'viewers',\n",
       " 'grade',\n",
       " 'view',\n",
       " 'son',\n",
       " 'course',\n",
       " 'annoying',\n",
       " 'fine',\n",
       " 'always',\n",
       " 'country',\n",
       " 'theme',\n",
       " 'criminals',\n",
       " 'sound',\n",
       " 'editing',\n",
       " 'hear',\n",
       " 'cartoon',\n",
       " 'cheesy',\n",
       " 'directing',\n",
       " 'writer',\n",
       " 'shoot',\n",
       " 'gang',\n",
       " 'events',\n",
       " 're',\n",
       " 'create',\n",
       " 'dumb',\n",
       " 'black',\n",
       " 'despite',\n",
       " 'unbelievable',\n",
       " 'mention',\n",
       " 'footage',\n",
       " 'rent',\n",
       " 'ghost',\n",
       " 'sometimes',\n",
       " 'cinematography',\n",
       " 'attempts',\n",
       " 'year',\n",
       " 'experience',\n",
       " 'nor',\n",
       " 'problem',\n",
       " 'becomes',\n",
       " 'history',\n",
       " 'thinking',\n",
       " 'wants',\n",
       " 'zero',\n",
       " '5',\n",
       " 'storyline',\n",
       " 'crime',\n",
       " 'particularly',\n",
       " 'cover',\n",
       " 'yourself',\n",
       " 'predictable',\n",
       " 'plus',\n",
       " 'points',\n",
       " 'drama',\n",
       " 'buy',\n",
       " 'killed',\n",
       " 'eyes',\n",
       " 'ship',\n",
       " 'box',\n",
       " 'pay',\n",
       " '90',\n",
       " 'miss',\n",
       " 'reading',\n",
       " 'comment',\n",
       " 'early',\n",
       " '%',\n",
       " 'beyond',\n",
       " 'across',\n",
       " 'explain',\n",
       " 'class',\n",
       " 'human',\n",
       " 'shock',\n",
       " 'hours',\n",
       " 'lost',\n",
       " 'bring',\n",
       " 'scenery',\n",
       " 'open',\n",
       " 'hilarious',\n",
       " 'order',\n",
       " 'talking',\n",
       " 'dark',\n",
       " 'talented',\n",
       " 'body',\n",
       " 'hand',\n",
       " 'moment',\n",
       " 'wow',\n",
       " 'opening',\n",
       " 'evil',\n",
       " 'often',\n",
       " 'sounds',\n",
       " 'hope',\n",
       " 'hollywood',\n",
       " 'important',\n",
       " 'hold',\n",
       " 'gone',\n",
       " 's',\n",
       " 'stage',\n",
       " 'looked',\n",
       " 'call',\n",
       " 'stories',\n",
       " 'mistake',\n",
       " 'names',\n",
       " 'cheap',\n",
       " 'flat',\n",
       " 'using',\n",
       " 'parts',\n",
       " 'spent',\n",
       " 'above',\n",
       " 'forced',\n",
       " 'based',\n",
       " 'maria',\n",
       " 'richard',\n",
       " '\\n\\n ',\n",
       " 'filming',\n",
       " 'utterly',\n",
       " 'room',\n",
       " 'novel',\n",
       " 'visual',\n",
       " 'project',\n",
       " 'hit',\n",
       " 'yes',\n",
       " 'major',\n",
       " 'book',\n",
       " 'nudity',\n",
       " 'ground',\n",
       " 'decide',\n",
       " 'small',\n",
       " 'utter',\n",
       " 'trouble',\n",
       " 'badly',\n",
       " 'comments',\n",
       " 'park',\n",
       " 'snow',\n",
       " 'wonder',\n",
       " 'worked',\n",
       " '30',\n",
       " 'episode',\n",
       " 'credits',\n",
       " 'days',\n",
       " 'adaptation',\n",
       " 'animation',\n",
       " 'villain',\n",
       " 'decent',\n",
       " 'saying',\n",
       " 'respect',\n",
       " 'anderson',\n",
       " 'hate',\n",
       " 'british',\n",
       " 'cinema',\n",
       " 'happens',\n",
       " 'adam',\n",
       " 'paid',\n",
       " 'hands',\n",
       " 'value',\n",
       " 'week',\n",
       " 'dreadful',\n",
       " 'slow',\n",
       " 'intelligent',\n",
       " 'uninspired',\n",
       " 'baby',\n",
       " 'team',\n",
       " 'imagine',\n",
       " 'non',\n",
       " 'begin',\n",
       " 'free',\n",
       " 'upon',\n",
       " 'lacks',\n",
       " 'excuse',\n",
       " 'feeling',\n",
       " 'failed',\n",
       " '15',\n",
       " 'flying',\n",
       " 'logic',\n",
       " 'quick',\n",
       " 'somewhat',\n",
       " 'step',\n",
       " 'genre',\n",
       " 'public',\n",
       " 'works',\n",
       " 'musical',\n",
       " 'near',\n",
       " 'earlier',\n",
       " 'fu',\n",
       " 'chinese',\n",
       " 'thrown',\n",
       " 'inside',\n",
       " 'definitely',\n",
       " 'gore',\n",
       " 'york',\n",
       " 'presence',\n",
       " 'fake',\n",
       " 'material',\n",
       " 'known',\n",
       " 'including',\n",
       " 'usually',\n",
       " 'cult',\n",
       " 'fun',\n",
       " 'perfect',\n",
       " 'effect',\n",
       " 'reviews',\n",
       " 'single',\n",
       " 'training',\n",
       " 'recently',\n",
       " 'died',\n",
       " 'among',\n",
       " 'ask',\n",
       " 'possibly',\n",
       " 'next',\n",
       " 'pointless',\n",
       " 'expected',\n",
       " 'spoiler',\n",
       " 'overall',\n",
       " 'canadian',\n",
       " 'drug',\n",
       " 'area',\n",
       " '6',\n",
       " 'local',\n",
       " 'ten',\n",
       " 'waiting',\n",
       " 'excellent',\n",
       " 'consider',\n",
       " 'taking',\n",
       " 'town',\n",
       " 'actual',\n",
       " 'rate',\n",
       " 'hardly',\n",
       " 'produced',\n",
       " 'odd',\n",
       " 'sit',\n",
       " 'happen',\n",
       " 'children',\n",
       " 'central',\n",
       " 'humor',\n",
       " 'songs',\n",
       " 'alas',\n",
       " 'five',\n",
       " 'pretentious',\n",
       " 'barney',\n",
       " 'scooby',\n",
       " 'tas',\n",
       " 'grinch',\n",
       " 'rohmer',\n",
       " 'note',\n",
       " 'street',\n",
       " 'flaws',\n",
       " 'talks',\n",
       " 'deep',\n",
       " 'bottom',\n",
       " 'makers',\n",
       " 'wonderful',\n",
       " 'brought',\n",
       " 'feels',\n",
       " 'drive',\n",
       " 'manages',\n",
       " 'otherwise',\n",
       " 'water',\n",
       " 'violent',\n",
       " 'talk',\n",
       " 'spend',\n",
       " 'sad',\n",
       " 'today',\n",
       " 'nature',\n",
       " 'personal',\n",
       " 'disappointing',\n",
       " 'poorly',\n",
       " 'leave',\n",
       " 'intended',\n",
       " 'cgi',\n",
       " 'yeah',\n",
       " 't',\n",
       " 'liked',\n",
       " 'ago',\n",
       " 'fat',\n",
       " 'past',\n",
       " 'realistic',\n",
       " 'carry',\n",
       " '0',\n",
       " 'shame',\n",
       " 'stock',\n",
       " 'started',\n",
       " 'expectations',\n",
       " 'lots',\n",
       " 'sequence',\n",
       " 'murders',\n",
       " 'execution',\n",
       " 'simple',\n",
       " 'says',\n",
       " 'check',\n",
       " 'merely',\n",
       " 'gratuitous',\n",
       " 'close',\n",
       " 'mess',\n",
       " 'hot',\n",
       " 'kept',\n",
       " 'house',\n",
       " 'elements',\n",
       " 'meet',\n",
       " 'easily',\n",
       " 'samurai',\n",
       " 'further',\n",
       " 'purpose',\n",
       " 'bach',\n",
       " 'appear',\n",
       " 'song',\n",
       " 'casting',\n",
       " 'level',\n",
       " 'zhang',\n",
       " 'features',\n",
       " 'ben',\n",
       " 'sadly',\n",
       " 'filmed',\n",
       " 'famous',\n",
       " 'morning',\n",
       " 'robert',\n",
       " 'herself',\n",
       " 'describe',\n",
       " 'mystery',\n",
       " 'disappointed',\n",
       " 'nt',\n",
       " 'behind',\n",
       " 'front',\n",
       " 'super',\n",
       " 'bigger',\n",
       " 'sheriff',\n",
       " 'battle',\n",
       " 'standards',\n",
       " 'peter',\n",
       " 'field',\n",
       " 'forward',\n",
       " 'themselves',\n",
       " 'begins',\n",
       " 'featuring',\n",
       " 'crew',\n",
       " 'drew',\n",
       " 'soon',\n",
       " 'wayans',\n",
       " 'amateurish',\n",
       " 'private',\n",
       " 'wasted',\n",
       " 'saif',\n",
       " 'form',\n",
       " 'father',\n",
       " 'disappointment',\n",
       " 'faith',\n",
       " 'brothers',\n",
       " 'tracy',\n",
       " 'fall',\n",
       " 'question',\n",
       " 'harry',\n",
       " 'exactly',\n",
       " 'ready',\n",
       " 'age',\n",
       " 'ha',\n",
       " 'dialog',\n",
       " 'dhol',\n",
       " 'large',\n",
       " 'classic',\n",
       " 'remake',\n",
       " 'wayne',\n",
       " 'moe',\n",
       " 'curly',\n",
       " 'change',\n",
       " 'development',\n",
       " 'artistic',\n",
       " 'vampire',\n",
       " 'marriage',\n",
       " 'slasher',\n",
       " 'showed',\n",
       " 'quickly',\n",
       " 'missed',\n",
       " 'fantasy',\n",
       " 'car',\n",
       " 'happened',\n",
       " 'created',\n",
       " 'lives',\n",
       " 'frost',\n",
       " 'delmar',\n",
       " 'workout',\n",
       " 'light',\n",
       " 'release',\n",
       " 'pathetic',\n",
       " 'career',\n",
       " 'stay',\n",
       " 'fresh',\n",
       " 'comic',\n",
       " 'ed',\n",
       " 'leaving',\n",
       " 'mysterious',\n",
       " 'amateur',\n",
       " 'crying',\n",
       " 'loud',\n",
       " 'journey',\n",
       " 'tells',\n",
       " 'earth',\n",
       " 'personally',\n",
       " '99',\n",
       " 'running',\n",
       " 'alice',\n",
       " 'f',\n",
       " 'follows',\n",
       " 'space',\n",
       " 'attack',\n",
       " 'following',\n",
       " 'system',\n",
       " 'i.e.',\n",
       " 'becoming',\n",
       " 'road',\n",
       " 'surprised',\n",
       " 'hated',\n",
       " 'wooden',\n",
       " 'french',\n",
       " 'attention',\n",
       " 'portrayal',\n",
       " 'barely',\n",
       " 'cd',\n",
       " 'blah',\n",
       " 'nobody',\n",
       " 'titled',\n",
       " 'nonsense',\n",
       " 'cinematic',\n",
       " 'masterpiece',\n",
       " 'ride',\n",
       " 'vehicle',\n",
       " 'matter',\n",
       " 'similar',\n",
       " 'o',\n",
       " 'standard',\n",
       " ...]"
      ]
     },
     "execution_count": 83,
     "metadata": {},
     "output_type": "execute_result"
    }
   ],
   "source": [
    "num.vocab"
   ]
  },
  {
   "cell_type": "code",
   "execution_count": 84,
   "id": "6ea46b26",
   "metadata": {},
   "outputs": [
    {
     "data": {
      "text/plain": [
       "(#200) [TensorText([   2,    8,   68,  706,   20,   26,  126,  179,    9,  951,   14,  345,   11,    8,    9, 1480,   25,   14,    9,  952,   25,  189,   11,    8,    9,    8,    0,    8,  153,   94,  388,   22,\n",
       "        1167,    9,    0,   22,   56,    9,   84,    9,   26,  346,   78,   10,   46,   52,   66,  632,  180,   49,   15,  104,   12,  152,   14,    9,    0, 1168,   58,    9,  199,  526,   14,    9,\n",
       "         153,   57,    8,   13,    9,  153, 1168,   38,   49,   12, 1169,  266,   14,   20,  953,   10,  633,   23,  527,    0,   56,    8, 1481,    8,    0,   53,  114,  295,   50,  141,   25,   30,\n",
       "           0,   14,    9,  153,   11,    8,   89,   44,   86,  528,   80,   66,  307,  410,   28,  133,   13,   50,    0,   23,   76,    0,  141,   57,    8,   89,   44,   86,  123,   80,   64,  347,\n",
       "          15,    7,  124,   53,   50,  141,   57,   41,  437,   46,   10,  308,   44,  245, 1170,   50, 1171,    0,   53,   50,  954,   30,   12,    7,    0,    0,   11,   39,    8,   89,   44,  123,\n",
       "           9, 1482,   14,  280,  438,   10, 1483,    0,   28,  133,   66,  955,  956,   28,  633,  172,   57,    8,   48,    9,    0,    0,    0,  133,   51,  209,  439,   57,    8,   20,  267,   40,\n",
       "         707,   30,    9,  109,   28,   12,  708,   23,  527,    0,  709,   10,   29,   34,   30,   12,  389,   23, 1484,   26,   11,    8,  246,   10,   17,   25,  411,   15,  104,    8, 1172,    8,\n",
       "           0,   10,    8,    0,    8,    0,   10,   13,    9,    8,    0,    8,  957,  203,   41,  369,   10,   15,  142,    9,   26,   22,    0,   10,   22,   42, 1485,   72,   50,   98,    0,    0,\n",
       "          39,   11,    8,   13,   30,  348,  324,   63,    0,   78,   10,   20,   16,    8, 1486,    8,    0,   27,  111,    0,   26,  183,   41,   64,  174,   17,    0,   72,   12,  527,   39,   11,\n",
       "           8,  815,   50,  370,   16,    0,    7,    0,   19,    9,  710,   10,   69,   16,    9,  370,   44,   25,    0,   32,   11,    8,   35,  175,   36,  634,   50,  440,   13,    0, 1173,   10,\n",
       "          64,  174,   44,   27,  101,    0,   13, 1487,   90,   19,    9,    7,    0,  711,   11,    8,  958,    8,    0,   41,    0,    8,  816,    8,    0,   39,  129,   63,   12, 1169,  183,  134,\n",
       "          43,   14,   50,  111,  119,  959,    9, 1174,  239,   11]),TensorText([   2,    8,   20,   16,    0,   12,    0,  712,   14,    8,    0,    8,    0,   27,   22,  960,    8, 1488,   22,   11,    8,    9,  585,  586,   16,  190,   70,   11,    8,   35,  587,    9,\n",
       "         214,   33,  325,   13,   35,  587,    9, 1489,  143,    0,   33,   12,    0,    0,   51,    9,  210,   84,   54,    8,   20,   16,   55,  961,   31,   32,  160,   58,    8,    0,   13,  371,\n",
       "         228,    8,  184,    8,    0,   11,    8,   28,  166,  349,   19,    8,  184,    8,    0,   13,   52,   16,  635,   20,  636,  120,   37,    0,   32,   12,    0,    7,    0,    8,   20,   31,\n",
       "          16,  389,   14,  817,   11,    8,   35,  103,   15,  587,    9,  154,   27,  440,  477, 1490,   13,  477,   78, 1490,   15,    9,  478,   11,   22,  529,  157, 1175,   76,   11,   22,    8,\n",
       "          30,   28,    9,  116,  148,   11,    8,   60,   16,   20,  215,   52,  818,   32,   50,  350,  204,   14,   50,  440,   13,   20,    0, 1176,   11,    8,    9, 1176,  215,  818,   32,   12,\n",
       "         819,  440,   11,    8,   73,   44,   16,    0,   48,    0,   73,   44,   16, 1177,   35,  587,    9,  268,   27,  440,   11,    8,   30,   28,    9,  273,  281,   10,  149,   54,    8,   20,\n",
       "          25,    8, 1491,    8,    0,   27,  637,  229,   28,  962,   78,  963,   54,    8,    9,    0,   38,   82,   29,    9,  713,   16,    0,   11,    8,   86,    0,   11,    8,  479,   14,   47,\n",
       "           8,    0,    8,    0,  713,   19,    7,  964,    7,   15,    7,  530,    7,   14,    7,   84,   41,    0,   39,   11,    8,    9,  273,  281,   38, 1492,   11,    8,    0,  247,   16,   82,\n",
       "          11,    8,  820,  351,   10,   20,   31,  216,    7,    0,   48,    7, 1493,    7,   14,    7,    9,    7, 1494,  185,   47,   12,    8, 1178,    8,    0, 1495,   11,    8,   89,   35,  124,\n",
       "           7,  960,    7, 1493,   25,   12,  441,   26,   13,   25,   33,   12,    0,    0,  230,   57,   12,  282,  122,   28,    0,   31,  821,   11]),TensorText([   2,    8,   73,   18,   25,   12,  390,   10,   18,  372,  194,   20,  217,    0,   12,  412,   14,  283,   22,    0,   22,    8, 1486,   11,    8,   80,  200,    8,  162,   54,   12,    8,\n",
       "        1179,   27,    8,   91,   16,   12,  480,  588,   53,   12, 1179,  326,    8,    0,   41,    0,   56,    9,  822,    8,  442,    8, 1496,   39,   11,    8,   44,  965,   12,  130,  413, 1179,\n",
       "           9,   91,   53,  114,    9, 1494,  346,  162,   15,    8,  966,   15,  531,   11,    8,   44, 1180,   21,   44,   25,  183,   14,    9,  137,   21,  823,  110,  162,   10,  443,   32,   65,\n",
       "         296,   11,    8,    9,    8,    0,  173,    8,    0,  714,   14,   20,   31,   18,  123,  267,   40,  102,    0,   28,  110,  143,  110,  162,   10,   29,   18,   59,   36,  352,   53,  133,\n",
       "          11,    8,    9,  309,  267,   47,   20,   10,   29,  967,   17,   16,   49,  108,  589,   11,    8,  442,    8, 1496,   25,  353,    9,   72,  715,  137,   11,    8,  274,   54]),TensorText([   2,  231,    0,  231,    8, 1497,    7,  135,    7,    0,   54,   24,    8,  218,   85,  269,   56,  716,   18,   40,   12,  481,  717,   28,    8,    0,    8,  718,   27, 1181,  532,   30,\n",
       "          12,    0,   13,    0,  478,   23,   69,   16,  131,   18,   77,   34,    0,   74, 1498,   28,    0,   15,  142,   20,   31,  354,   87,  179,    9,  191,   41,   48,  355,    0,   11,   39,\n",
       "          24,    8,    9,  533,   14,    9,   31,   25,   10,   19,   83,  534,   10,   12,  195,  482,   13,   60,   79,   65,    0,  192,   23, 1499, 1500,   19,   60,   29,   17, 1182,   76,   47,\n",
       "          12,    0,    0,   11,    8,   17,    0,  131,   18,  719,  968,  638,   14,    8,  720,  721,   11,    8,   17,  824,  108,  310,   10,   17,   27,    0,   10,   28,    9,   98,  183,   10,\n",
       "          13,   34,   12,  211,  722,  119,    9,  111, 1183,  172,   11,    8,   49,   73,   35,  123,   60,   27,   12,  444,   14,   17,    0,   76,   65, 1501,   17,    0,   47,    8,    0,    8,\n",
       "           0,  969,   12,    0,   11,    8,   32,  130, 1492,  590,   13,   12,    0,  109,   10,   60,   16,   36,  101,   15,  483,    9,  258,   58,    0,  125,  100,   95,    0,   11,    8,   30,\n",
       "          28,    9,  191,   18,   77,   72,    0,   21,    9,  591,   25,  176,   15,  356,   12,  152, 1502,   10,   32,    9, 1184,  145,  635,  146,  443,    9,  357,   14,   22,  970,   92,  971,\n",
       "           5,  163,  231,    7,  125,   54,   41,  723,    0,   11,    8,  723,    0,  125,  100,    0,  972,   39,    8,  970,   92,    7,  723,   54,    7,  723,   54,   22,   18, 1503,   21,   10,\n",
       "         484,   28,  484,   10,    9,  160,  353,  181,  724,   75,   90,    8,    0,    8,    0,   89,   28,   74,    8,    0,    8,    0,    0,   11,    8,   62,  152,  357,   60,   79,   89,   36,\n",
       "          40,   12,  211,   14,    0,   32,   12, 1504,  232,   14,    9,  971,   23,  484,   21,   66,  142,    8,    0,    8, 1505,   27,  412,   10,    8,    0,   10, 1185,   11,    8,   60,   16,\n",
       "         130,    0,   14,    9,  284,  148,  240,    9,  284,    0,    0,   69, 1186,    9,  258, 1506,  101, 1187,   28,    9,  148,  639,   55,    0,   67,  311,   21,   27,  233,   67, 1188,   11,\n",
       "          24,    8,  970,   16,   36,    9,  285,   14,  312,   52,    0, 1187,  313,   11,    8,   87,   27,  181,   12,  195,  358,   10,   55, 1507,    8,    0,    0,   32, 1508,  973,   15,  359,\n",
       "          28,  445,   87,  360,  640,   33,  259,   30,    0,   10,    0,   13,    0,  240,   74,  141,  275,   12,  439,   28,    9,  158,   11,    8,  119,    9,  974,   12,  152,    0,   38,    0,\n",
       "         162,   69,  479,   23,   14,  641,  131,   87,   16,   20,  144,   15,  269,   32,  134,   87,    0,   76,   32,   12, 1189,   23,   30,   23,  201,   23,    0, 1509,   52,  192,   21,    0,\n",
       "          74,  114,   15,  592,   50, 1510,   25,    9, 1511, 1512,   14,  167,   46,   10,  204,   14,  975,   19,   50,    0,   10,   87, 1513,  250,   15,    9,  251,  446,   19,    0,   14,  146,\n",
       "          15,  142,   74,  307,   47,   74,  141,   16,  297,  349,   11,    8,  204,   87,  535,   12, 1514,   14,    0,  485,   23,  642,    8,    0,   52,  185,  205,   33,  298,   34,    0,  219,\n",
       "          15,  825,   12,    8,    0,   13,    9,    0,   21,  234,   32,   55,    0, 1190,  173, 1515,  976,   41,  977,  978,    8,    0,    8,    0,   15,   12, 1191,   23,   37,    8,    0, 1192,\n",
       "          23,  413,    0,   39,    8,  348, 1193,   85,   12,    0,   11,    8,    9,   43,    0, 1194,   14,   20,  127,   16,   21,   87,   16,  286,   56,    8,    0,    8,  718,   11,    8,   19,\n",
       "           9,  725,   14,   12,    0,  478,   87,   66,  132,  102,    0,   43,   23, 1195,   29,    8, 1196,    8,  718,  136,  826,   15,    0,   12,  152,    0,  287,   14, 1516,  100,   20,  827,\n",
       "        1197,  643,  143,   10,   98,    0,   73,   87,   27,    0,    0,   28,   74,  979, 1198,   19,   12,    0,  314,   15, 1199,   74,    0,   58,    0,   95,    0,   11,   24,   18,  175,   36,\n",
       "         155,   21,    8,  723,    0,  101,  156,  313,   11,    8, 1517,    8,    0,  286,  133,  128,   30,   12,    0,   23,   78,   23,   14,   23,  828,    8,  391,    9,    8,    0,   29,   12,\n",
       "          82,  373,   81,   36,  356,  133,   58,  299,    9,  355,   14,   12,  191,   13,    9,  374,    0,   14,  105,  127, 1200,   11,   24,    8,   20,   31, 1201, 1202,   33,  644,  726,   29,\n",
       "           9, 1480,   25,  125,   13,   17,  375,  220,  108,    0,   58,  530,   15,  140,   11,    8,   30,   28,    9,  644,   10,    9,   98, 1203,  137,   53,   20,   31,   16,    9,    0,    0,\n",
       "          14,  114, 1518, 1204,    8, 1196,    8,  718,   63,  414,  134,   17,   25,  252,   30,    0,   15,  104,   30,    9, 1519,  974,  161,   11,    8,   33,   12,  447,  815,   10,   72,   19,\n",
       "          12,    8,  720,   31,   66,   12,  593,   14,  829,  315,    0,  276,    9,   84,   15, 1520,  361,  116,    0,  240,    0,   15,    0,   95,    0,   33,   23,  830,   53,    0,   23, 1205,\n",
       "          23,    0,  486,   15,    9, 1521,   54,    8,   61,   20,   16,    9,  285,   14,   31,   21,    9,    8,    0,    8,    0,   16,    0,  180,   15,  142,   99,    8,   18,  177,   34,  980,\n",
       "          21,    0,   13,    0,  112,   38,    0,   15,  831,   95,    0,  361,  727,   11,   24,    8,  716,   21,   18,  981,   20,   31,   16,  477,   17,  108,  101, 1522,   10,   18,   89,   36,\n",
       "         352,  219,   53,  105,   14,    9,  148,   15,    0,   21, 1206,   55, 1207,   11,   18,  186,   21,   43,   23,   13,   23,   12,   23,  266,  645,   14,   83,  141,  162,   10,  415,   54]),TensorText([   2,    8,   80,  124,   21,    0,   13,    0,    0,   38, 1523,   92,   55,    0,    0,  152,   66,    0,   11,    8,  296,   13,  327,   14,  182,   13,  448,   52,    0,   19,    9,    0,\n",
       "          33,    9,    8,  239,    8,    0,    8,    0,  267,  128,   37,    0,   56,   20,    0,  187, 1208,   31,   11,   12,    0,   10,    0,   10,  174,    0,   23, 1524,    0,    0,   62,   44,\n",
       "          77,   14,  646,    0,   15,   12,    0,    0,   52,    0,   50,    0,  100,   12,    0,   11,    8,   42,    0,    9,    0,   11,    8,   44,    0,   65,   75,   10,   87,    0,  169,    0,\n",
       "          10,  392,   11,   10,  392,   11,   24,    8,    9,  728,  594,   21,    0,    9,  416,   28,  449,    0,    0,   16,    0,  832,   10,   29,   20,    0, 1209,    0,   16,    0,  300,   11]),TensorText([   2,    8,    0,    8,    0,    0,  376,   12,   22,  374,    8, 1525,   22,    0,  191,   13,    0, 1526,   56,   23,  187,   15,  647,  141,   15,   12,    0,  127,   11,    8,    0,    8,\n",
       "           0,    0,   74,   88,   58,   12,  982,  269,   15,   12,    0,   23,   47, 1210,   11,    8,   35,  175,   36, 1211,   15,  417,   73,    0,   74,    0,   33,    9,    7,  288,   73,   87,\n",
       "        1527,    9, 1212,   22,    0, 1213,   22,   13,   22, 1528,   22,   11,    8,  983,   31,   23,    0,  478,   87,   16,   34,   13,   42,  355, 1214,  536,   11,   24,    8,   20,   26,  537,\n",
       "          10,   34,   19,    9,  109,   48,    9,  221, 1529,   29,   19,    9,  355,   14,  984,   15, 1530,   19,    9,  113, 1531,   13,    0,   23,    0,  985,   14,    9,  239,   14, 1215, 1216,\n",
       "           9,  284,    0,   11,    8,  130,  314,   16,   96,   15,    0,    9,  648,   15,    0,  105,    0,    0,    0,   48,  487,   11,    8,    0,   38,   93,    0,   27,   13,    9,    0,  986,\n",
       "         450,   32,  649, 1217,   21, 1218,   51,   12,    0,  230,  202,   90,    0,  325,    0,    0,   11,   24,    8,    9, 1215,   16, 1219,  650,   11,    8,    0,   22,    0,   92,   12,    8,\n",
       "         973,    8,    0,   22,    0,    0,   56,  149,   23,    0,  987,   23,    0,   27,   32,    0,    0,   28,   65,    0,  316,   10,   19,    0,   14,    9,    0,    0,    0,   21,   64,    9,\n",
       "          98, 1532,   23,    0,    0,  833,   66,  437,   37,    0,   11,    8,   60,   16,   55,  393,  355,   14, 1220,  222,  168,   13,  538,    9,  649,   23,    0,  834,   14,    9,    0,   23,\n",
       "           0,   10, 1220,   66,   40, 1533,  130,   75,   90,   12,    0, 1534,   13,  835,   84,   11,   24,    7,  288,    0,  129, 1535,    9,  199,   26,  370,   25,   22, 1536,    8,  149,   22,\n",
       "          29,   20, 1537,    0,   19,  651,   15, 1538,   19,   33,    8,    0,    0,   11,    8,    9,   22,    0,   22,  394,   63,   72,    9,    0,    0,   32,    9,   26,   11,    8,    0,    8,\n",
       "           0,   66,   40,  222,    0,   32,   20,  451,  134,   13,  241,  595,   23,  452,    9,    8,    0,   11,   24,    8,   20,   16,    8,    0,   23,   26,  488,   13,  377,  836,   28,   12,\n",
       "          26, 1484,  395,   11,    8,   17,  267,   40,   96,   12,   82,    0,   23,  109,   28,   22,    0,   22,   11]),TensorText([   2,    8,    9, 1539,  837, 1540,   15,  595,   23,  596,    9,   22, 1541,   67,   11,    8,   29,  260,   19,   65,  988,   23,  988,  167,   91,   21,  216,   35, 1221,  204,   14,    0,\n",
       "          35,    0,   11,    8,   60,   16,   68,    0, 1222,   19,   20,  378,   31,   11,    8,   17,   94,    9,  489,   14,  143,  146,  273,   29,    0,   17,   56, 1223,   12,  490,   14,  112,\n",
       "           0,   53,  235,  989, 1224,   53,   11,    8,  377,  300,   10,   18,  347,   15,  838,    9,  539,   73,   18,  179,   20,   29,    9,  597,   26,    0,   79, 1507,   46,   18,   94,   15,\n",
       "           0,    9,    0,    0,   69,  375,   47,   17,    0,    0,   11,    8,  138,   33,  259,    0, 1542,  162,   15,  540,    9,  148,   79,  652,   53,   11,   24,    8,   42,  232, 1225,    0,\n",
       "          19,  168,   21,  204,   14,    0,   85,   41,   30,   17,  839,   10,   18,  719,    7,  840,   39,   49, 1226,    9,   26,   64,   75,   11,    8,   65,  112,  155,   20,   26,   89,  253,\n",
       "          19,    9,   26, 1543,  106,   14,  114,   22,  192,   23, 1499,   22,   13,   22,  729,   23, 1544,   23,  261,   23,  221,   23,  106,   17,   27,   55,  730,   31,   22,   17,   25,   11,\n",
       "           8,   62,   16,   46,  730,   48,  192, 1499,   73,    9,   91,   16,  396,   53,  190,  413,    8,    0,    8,    0,   30,   12,    0,   52,   63,   12,  167,  491,   13,    0,   50,    0,\n",
       "          57,    8,  223,   47,   55,  731,  451,   11,    8,  311,   13,   60,   27,   65,    0,    0,   53,    9,   22, 1227,   23, 1545,   22,   41,   26,   25,    0,  206,   15,   37,  990,   22,\n",
       "        1227,   23, 1545,   22,   39,   11,    8,  541,  451,   29,    9,   26,  453,    9,   22, 1227,   23, 1545,   22,  137,  108,  492,   10,  178,    9,   26,  414,  953,   13,    0,   53,  114,\n",
       "         653,   13,  730,   17,   25,   11,    8,  841,   10,   18,  124,   60,   79,   86, 1227,   23,    0,   19,    9, 1228,  418,   29,   20,   26,   49,  216,   17,  585,  589,   11,   24,    8,\n",
       "         138,   19,    9,   26,   25, 1546,  270,   13,   18,  542,  131,   18,   64, 1547,   15,  104,   20,   26,   11,    8,   61,   35,  186,  196,  113,   21,  136,   40,    0,   10,  122,    8,\n",
       "           0,   27,    8,  732,   10,    8,    9,    8,    0,   10,    8, 1229,    8,  543,   10,    8, 1548,   10,    8, 1549,    8, 1230,   10,    8, 1550,   10,    8, 1541,   10,    8,    0,   10,\n",
       "          48,  105,   14,    9,    8,    0,   22,  493,    8, 1551,   22,  113,   11,    8,  991,  214,  107,   34,    0,   15, 1231,  112,   10,    0,   26,  419,  123,   21,  174,   41,  210,  285,\n",
       "          14,  112,   21,  123,   12,  494,   26,   47,    8,    0,   16,   12,  992,  993,   39,   11,    8,   61,   35,  186,  350,   23,    0,  300,  196,   10,  122,    9,    8,  651,   11,    8,\n",
       "          20,   26,  216, 1552,  454,   47,   12, 1553, 1232,  994,   11]),TensorText([   2,   18,  420,   86,   11,    8,   20,   16,   34,  206,   15,  421,    9,    8,    0,   31, 1233,   15,  142,   20,  285,   14,   31,   32,   68, 1554,   14,  105,  285,   11,    8, 1234,\n",
       "          10,   61,   35,  200,   12,    0,   13,   40,  138,  156,   15,   59,   10,   99,  289,   11,   18,  123,   31,   23,  821,   58,  168,  121,  544,   15,  153,    9,  254,   14,    9,  239,\n",
       "          62,  195,  654,  112,   80,   40,   10,   13,   20,   16,   34,    9,  995,   28,   17,   11,    8,  234,   33,  157,   10,   20,   31,   16,   49,    0,   11]),TensorText([   2,    8,    0,   57,    8,  289,   12,  152,    0,   10,   29,  138,  108,  109,    0,   11,    8,   34,   47,   17,   66,  996,   32,   20,   26,   11,   24,    8,  455,    8, 1198,    0,\n",
       "           0,  125,    9,    0,   23,  455,    0,  533,   14,    8,    0,    8,    0,   11, 1235,   23,  842, 1236,   12,  733,   14, 1237,   22, 1555,   22,    0,   52, 1556,    0,  598,    0,   21,\n",
       "          80,   77,   72,  734,  282,    0, 1557,  655,    0,   30,   95, 1558, 1559,   41,  997,   15,   62,    0,    0,  232,   73,  379,    8,  456,    8,    0,   33,    9,    0,   39,  545,  110,\n",
       "          15,    0,   12,    0,   14,    0,   11,   24,    8,   62,    0,   85,    9,   98,   53,   20,  495,   25,    9,  232,   14,  185,   23, 1560,   63,   23,  102,  160,   11,    8,   35,  328,\n",
       "        1238, 1239,    8,    0,    0,   30,  348,   52,  354, 1240,   19,   12,   26,   21,   35,   86,  843,   10,  174,   17,   25,   46,  310,  844,   21,   35,  353,  422,   36,   37,  546,   15,\n",
       "         262,   17,   41,   17,   25,    8,    0,   27,   39,   11,    8,  168,    8,    0,  496,   12,  715,    0,   23,  125,   14,   12,    8, 1241,    8,    0,  127,   11,    8,   98,    8,  650,\n",
       "          16,    0,    8,    0,    8, 1561,   10,   52,   27,   46,  845,   21,   35,  120,  126, 1239,  133,   30,  271,   27,    8,    0,    8,    0,   11,    8,  204,   14,    0,   50, 1562, 1563,\n",
       "         127,  846,   10,    8, 1561,  497,  224,   12,    0,  373,   14,    9,    0,  845, 1189,  215,    0,   10,   69,   25,  547,    0,   28,    8,  442,    8, 1496,   11,    8,  457,   10,    8,\n",
       "           0,    8,    0,  497,  224,   12,  411,    0,  185,   23, 1560,  373,   30,   12,    8, 1481,    8,    0,  173,    8,    0,    8,    0,  548,   11,    8,   19,    9,  225,  242,  308,    8,\n",
       "         184,    8,  391,    8,  446,   10, 1235,   23,  842,   27,   88,   63,    0,    0,   11,    8,   17,   27,   34,   88,   46,  101,   30,    0,   14,  357,   21,   44,  267,   40,  136,    0,\n",
       "          11,   24,    8,   43,   14,    9,    0,   21,  496,  100,   20,   26,   16,   12,    7,  987,   23,    0,   14,    0,    0,   11,    8,   17,   27,  143,  656, 1564,   10,   13,   17,   27,\n",
       "         423,   13, 1565,   34,    0,   10,  599,    9, 1190,   23,    0,    0,   14,    8, 1561,   27,    7,    0,  127,   11,    8,   62,   12,  458,   11,    8,   18,  177,    0,    0,   21,    9,\n",
       "           0,    0,   15,   37,   33,    9,    7,  987,   66,  117,   64,   45,   37,    0,  100,   12,    0,    0,   11,   24,    8,  599,  143,   19,   12,    0, 1242,  261,    0,   10,    9,    0,\n",
       "          16,   53,   30,  963,   30,    0,  455,   10,   13, 1566,    0,   12,  380,   15,    0,   10,   46,  423,   68,    0,  230,   11,    8,    9,    0,   14,    0,    0,   16,  190,  164,   11,\n",
       "           8,    9, 1567, 1568,   27,  232,   14,   12,    0,    0,   16,   53,    9,   98,  847,    0,   14,  549,   19,    9,   31,   11,    8,   73,   87,  275,    0,   15,    9,    0,   23,    0,\n",
       "        1569,   10,   69,   63,  181,   15,   37,   43,   14,    9,  158, 1569,    0,  117,   10,   21,   27,   49,  108,  197,   11,   12,  459, 1555,  733,   66,  848,    0,   28,   20,  548,  137,\n",
       "          48,  289,    7,    0,    0,   10,   48,   64,    0,    8,    0,    8, 1570,   61,   42,   79,   86,  201,  317,   10,   48,  289,  146,    7,    0,    0,   61,  184,  317,   71,    8,    9,\n",
       "         541,   23,  998,  999,    0,    0,   38,  550,  600,   10,  280,  646,   98,   14,   95,  397,  119,    8,    0,    8, 1243,    7,    0,    8,    9,   70,  551,   10,    0,    0, 1509,   14,\n",
       "           0, 1571,   10,   40,   55,    0,    0,   14,    0,   10,   47,    9,    0,    0,   23,    0, 1569,   13,   12,    8,    0,   32,    9, 1572,  735,   23,    0,    0,    0,   21,   16,   36,\n",
       "          12,    0,   11,   24,    8,   60,   25,   43, 1573,   14, 1244,   33,   69,   18,   66,   47,   15, 1245,    9,  116, 1574,   92,    8,    9, 1567, 1568,   13, 1235,   23,  842,   89, 1575,\n",
       "           9,    0,   15,  225,   10,    5,  163,  849, 1246,   28,   22,    0,  455,   22,  240,   42,    0,    9, 1576,   11,    8,   13,   18,  129,  181,    9, 1247,   21,    9, 1567, 1568,   25,\n",
       "           7,   34,  546,   15,  103,    9, 1576,    0,   10,   21,   87,  396,   49,  460,   76,   33,   21,  243,   11,    8,   30,  220,   30,    9,    0,   10,   60,   25,   68,  601,   14,    0,\n",
       "         318,   53,  272, 1248,  240,    0,   11,    8,    0,   11,   24,    8,   72,    9,    8,    0,   14,    8,    0,    0,    8,    0,    7,    0,    8,    0,   51,    9,   22, 1193,   22,   81,\n",
       "         850,   20,   26,   28,  232,   14,  851,  602,   11,    8,   42,  437,    0,    9, 1181,   41,   13,    0,   39,    7,    0,  106,   42,   81,   36,  103,  851,   14,   55,    7,    0,   11,\n",
       "           8,  498,   58,    9,  207,   21,   42,   79,    0,  388,   19,    0,   10,  218,   27,  129,  542,   28,   12,  657,   21,    9,    7,    0,   16,   34,   12, 1000,    0, 1242,   19,    9,\n",
       "         301,   14,    9,    7,    0,   10,   13,   21,   51,  243,    0, 1577,   71,    8,  128,   10,    8,   18,  177,   68, 1578,   10,   29,    8,   18,  177,  280,    0,   30,   15,  552,   17,\n",
       "          66,   37, 1557,   33,    8,    0,   11,   24,    8,   30,  448,   40,    0,   78,   10,    9,    0,    0,   15,   22,    0,   22,   73,   42,   79, 1223,  971,    0,   25,  499,   11,    8,\n",
       "           0,   14,    9,    0,   79,  190,  197,   11,    8,   68,    0,   66,  260,   21,  152,    0,   33,   12,    0,   15,  736,   32,   10,   34,   15,  601,  263,  324,   21,   25, 1558,   53,\n",
       "          17,   11,    8,  632,  984,   15,    9,  232,   14, 1249,    0,    0,   11,   24,    8,  658,   11,    8,   62,   12,  153,   11,    8, 1001,   17,   33,    8,  424,   48,  146,   11,    8,\n",
       "          59,   36,  632,   15,  603,   17,   10,   29,   59,  122,   17,   28, 1579,   11,    8,   19,    0,   28,  158,   26,  117,   10,  270,   76,   60,   32,    8,   68,    8, 1250,    8,    0,\n",
       "          10,   69,   51,  226,   94,   65, 1251,   11]),TensorText([   2,    8,    0,   10,   86,    5,  319,   54,  147,   40,   35,  551,  102,    9,  846, 1002,  242,   10,   20,   16, 1203,   19,   45,  285,   14, 1252,   10,  196,   57,    8,   20,   16,\n",
       "          12,  458,   10,   60,   16,  138,  500,   32,  143,  227,  230,   10,   29,   20,   16,   12,  417,   10,    8,   61,   35,  186,   15,  185,   51,    9,    0,   10,    8,    0,   14,    8,\n",
       "           0,    8,    0,   10,    9, 1253,   14,    8,    0,   13,    8,    0,   10,    9,    8,    0,    8,  501,   10,    8,    0,    8,    0,   10,    8, 1580,    8,    0,   27,    8,    9,    8,\n",
       "           0,   13,    9,    0,   14,    8,    9,    8,  604,    8, 1003,   10,   35,  175,   36, 1581,   17,   10,   17,  497,   17,   12,   70,  370,   10,   70,   88,   10,   70,  553,  392,   11,\n",
       "           8,  374,    0,   14,  180,   13,  737,   84,   10,   40,  320,   12,  211,   14,   97,   10,   79,   30,  196,   16,   83,   45,   84,    0,   10,   18,   86,  171,    0,   10,   40,  138,\n",
       "          75,   15,  155,   21,  415,   59,   36,   59,    9,  502,   15,  122,  146,   46,    0,   10,  415,  425])...]"
      ]
     },
     "execution_count": 84,
     "metadata": {},
     "output_type": "execute_result"
    }
   ],
   "source": [
    "nums200 = toks200.map(num)\n",
    "nums200"
   ]
  },
  {
   "cell_type": "markdown",
   "id": "cff1297a",
   "metadata": {},
   "source": [
    "### Batches\n",
    "\n",
    "- FastAI language batch size is define a little differently that batches for SGD\n",
    "- For the language loader the batch size is the number of batches to divide the dataset into\n",
    "    - Number of rows in a batch is batch size\n",
    "    - Sequence length is also a parameter"
   ]
  },
  {
   "cell_type": "code",
   "execution_count": 85,
   "id": "402142ce",
   "metadata": {
    "scrolled": true
   },
   "outputs": [
    {
     "data": {
      "text/plain": [
       "(torch.Size([64, 72]), torch.Size([64, 72]))"
      ]
     },
     "execution_count": 85,
     "metadata": {},
     "output_type": "execute_result"
    }
   ],
   "source": [
    "dl = LMDataLoader(nums200)\n",
    "\n",
    "# This is the size of one batch\n",
    "x, y = first(dl)\n",
    "x.shape, y.shape"
   ]
  },
  {
   "cell_type": "code",
   "execution_count": 86,
   "id": "f4fe1e2a",
   "metadata": {},
   "outputs": [
    {
     "data": {
      "text/plain": [
       "13"
      ]
     },
     "execution_count": 86,
     "metadata": {},
     "output_type": "execute_result"
    }
   ],
   "source": [
    "# The number of batches\n",
    "len(dl)"
   ]
  },
  {
   "cell_type": "markdown",
   "id": "75cf88e3",
   "metadata": {},
   "source": [
    "## The prediction task\n",
    "\n",
    "- Given preceding sequence of N tokens (here 72)\n",
    "- Predict the next token (current sequence shifted over by 1)"
   ]
  },
  {
   "cell_type": "code",
   "execution_count": 90,
   "id": "ea583b35",
   "metadata": {},
   "outputs": [
    {
     "data": {
      "text/plain": [
       "'xxbos xxmaj no wonder this movie never saw the light of day . xxmaj the timing was of the release was awful . xxmaj the xxmaj xxunk xxmaj show had already \" jumped the xxunk \" by the time the movie came out , so who would pay money just to see a few of the xxunk clips from the original run of the show ? xxmaj and the show clips are'"
      ]
     },
     "execution_count": 90,
     "metadata": {},
     "output_type": "execute_result"
    }
   ],
   "source": [
    "' '.join(num.vocab[o] for o in x[0])"
   ]
  },
  {
   "cell_type": "code",
   "execution_count": 91,
   "id": "d236b72f",
   "metadata": {},
   "outputs": [
    {
     "data": {
      "text/plain": [
       "'xxmaj no wonder this movie never saw the light of day . xxmaj the timing was of the release was awful . xxmaj the xxmaj xxunk xxmaj show had already \" jumped the xxunk \" by the time the movie came out , so who would pay money just to see a few of the xxunk clips from the original run of the show ? xxmaj and the show clips are just'"
      ]
     },
     "execution_count": 91,
     "metadata": {},
     "output_type": "execute_result"
    }
   ],
   "source": [
    "' '.join(num.vocab[o] for o in y[0])"
   ]
  },
  {
   "cell_type": "markdown",
   "id": "e28ab987",
   "metadata": {},
   "source": [
    "### Training\n",
    "\n",
    "- Use is_lm=True for language modeling task (predicting next token)"
   ]
  },
  {
   "cell_type": "code",
   "execution_count": 94,
   "id": "01bfec2d",
   "metadata": {},
   "outputs": [],
   "source": [
    "get_imdb = partial(get_text_files, folders=['train', 'test', 'unsup'])\n",
    "\n",
    "dls_lm = DataBlock(\n",
    "    blocks=TextBlock.from_folder(imdb_path, is_lm=True),\n",
    "    get_items=get_imdb, splitter=RandomSplitter(0.1),\n",
    ").dataloaders(imdb_path, path=imdb_path, bs=128, seq_len=80)"
   ]
  },
  {
   "cell_type": "code",
   "execution_count": 96,
   "id": "b316b51e",
   "metadata": {},
   "outputs": [
    {
     "data": {
      "text/html": [
       "<table border=\"1\" class=\"dataframe\">\n",
       "  <thead>\n",
       "    <tr style=\"text-align: right;\">\n",
       "      <th></th>\n",
       "      <th>text</th>\n",
       "      <th>text_</th>\n",
       "    </tr>\n",
       "  </thead>\n",
       "  <tbody>\n",
       "    <tr>\n",
       "      <th>0</th>\n",
       "      <td>xxbos xxmaj mississippi xxmaj burning is one of my favorite xxmaj gene xxmaj hackman movies . i remember watching it when i was young , it was one of the few rated r movies my parents would allow me to watch . xxmaj such a powerful story about the disappearance of three civil rights workers down in rural xxmaj mississippi . xxmaj when the xxmaj feds are called in to investigate the disappearance , the action really heats up .</td>\n",
       "      <td>xxmaj mississippi xxmaj burning is one of my favorite xxmaj gene xxmaj hackman movies . i remember watching it when i was young , it was one of the few rated r movies my parents would allow me to watch . xxmaj such a powerful story about the disappearance of three civil rights workers down in rural xxmaj mississippi . xxmaj when the xxmaj feds are called in to investigate the disappearance , the action really heats up . xxmaj</td>\n",
       "    </tr>\n",
       "    <tr>\n",
       "      <th>1</th>\n",
       "      <td>world ( who had opportunity to watch it ) accept this movie , because you have to know some moments in our serbian history and character of xxmaj serbs in the first half of the 20th century , to be able to understand it ! xxmaj but as i see here , there is somebody from xxmaj canada who watched it … and he liked it . \\n\\n i think that xxmaj i 'll try to put all good quotes</td>\n",
       "      <td>( who had opportunity to watch it ) accept this movie , because you have to know some moments in our serbian history and character of xxmaj serbs in the first half of the 20th century , to be able to understand it ! xxmaj but as i see here , there is somebody from xxmaj canada who watched it … and he liked it . \\n\\n i think that xxmaj i 'll try to put all good quotes from</td>\n",
       "    </tr>\n",
       "  </tbody>\n",
       "</table>"
      ],
      "text/plain": [
       "<IPython.core.display.HTML object>"
      ]
     },
     "metadata": {},
     "output_type": "display_data"
    }
   ],
   "source": [
    "dls_lm.show_batch(max_n=2)"
   ]
  },
  {
   "cell_type": "code",
   "execution_count": 97,
   "id": "7268fd5b",
   "metadata": {},
   "outputs": [
    {
     "data": {
      "text/html": [
       "\n",
       "    <div>\n",
       "        <style>\n",
       "            /* Turns off some styling */\n",
       "            progress {\n",
       "                /* gets rid of default border in Firefox and Opera. */\n",
       "                border: none;\n",
       "                /* Needs to be in here for Safari polyfill so background images work as expected. */\n",
       "                background-size: auto;\n",
       "            }\n",
       "            .progress-bar-interrupted, .progress-bar-interrupted::-webkit-progress-bar {\n",
       "                background: #F44336;\n",
       "            }\n",
       "        </style>\n",
       "      <progress value='105070592' class='' max='105067061' style='width:300px; height:20px; vertical-align: middle;'></progress>\n",
       "      100.00% [105070592/105067061 00:17<00:00]\n",
       "    </div>\n",
       "    "
      ],
      "text/plain": [
       "<IPython.core.display.HTML object>"
      ]
     },
     "metadata": {},
     "output_type": "display_data"
    }
   ],
   "source": [
    "# Tuning the model for IMDB\n",
    "\n",
    "learn = language_model_learner(\n",
    "    dls_lm, AWD_LSTM, drop_mult=0.3,\n",
    "    metrics=[accuracy, Perplexity()]).to_fp16()"
   ]
  },
  {
   "cell_type": "code",
   "execution_count": 98,
   "id": "61aa7f12",
   "metadata": {},
   "outputs": [
    {
     "data": {
      "text/html": [
       "<table border=\"1\" class=\"dataframe\">\n",
       "  <thead>\n",
       "    <tr style=\"text-align: left;\">\n",
       "      <th>epoch</th>\n",
       "      <th>train_loss</th>\n",
       "      <th>valid_loss</th>\n",
       "      <th>accuracy</th>\n",
       "      <th>perplexity</th>\n",
       "      <th>time</th>\n",
       "    </tr>\n",
       "  </thead>\n",
       "  <tbody>\n",
       "    <tr>\n",
       "      <td>0</td>\n",
       "      <td>4.016117</td>\n",
       "      <td>3.900004</td>\n",
       "      <td>0.300612</td>\n",
       "      <td>49.402653</td>\n",
       "      <td>12:00</td>\n",
       "    </tr>\n",
       "  </tbody>\n",
       "</table>"
      ],
      "text/plain": [
       "<IPython.core.display.HTML object>"
      ]
     },
     "metadata": {},
     "output_type": "display_data"
    }
   ],
   "source": [
    "learn.fit_one_cycle(1, 2e-2)"
   ]
  },
  {
   "cell_type": "code",
   "execution_count": 101,
   "id": "63092f88",
   "metadata": {},
   "outputs": [
    {
     "data": {
      "text/plain": [
       "Path('/root/.fastai/data/imdb/models/imdb-1epoch.pth')"
      ]
     },
     "execution_count": 101,
     "metadata": {},
     "output_type": "execute_result"
    }
   ],
   "source": [
    "learn.save('imdb-1epoch')"
   ]
  },
  {
   "cell_type": "code",
   "execution_count": 214,
   "id": "3c0bc532",
   "metadata": {},
   "outputs": [
    {
     "data": {
      "text/html": [],
      "text/plain": [
       "<IPython.core.display.HTML object>"
      ]
     },
     "metadata": {},
     "output_type": "display_data"
    },
    {
     "data": {
      "text/html": [],
      "text/plain": [
       "<IPython.core.display.HTML object>"
      ]
     },
     "metadata": {},
     "output_type": "display_data"
    },
    {
     "data": {
      "text/plain": [
       "['Thanksgiving dinner for Thanksgiving was a fun and exciting experience . The \" breakfast Club \" ( though the \" two \" title \" thanksgiving Dinner \" was more ironic for the kids ) was a pre - holiday feel to \" breakfast at Tiffany \\'s \" ( the film \\'s specialty is an American Pie \" to Eat \" ) . The cast introduced a Refreshing twist to the film , and Paul Rudd , Jamie Foxx , and Jamie Lee Curtis are',\n",
       " 'Thanksgiving is one of the most fun movies i have seen in a long time . The cast is superb , and the film is fun . The special effects are a large percentage of the time . The story is simple and simple . Ben Hogan ( a lookalike ) is Oscar winning actor . He is the son of a wealthy family . He is his family , his brother , Uncle Frank , and his business manager , John Ireland , played by John']"
      ]
     },
     "execution_count": 214,
     "metadata": {},
     "output_type": "execute_result"
    }
   ],
   "source": [
    "### Movie Review Generation\n",
    "\n",
    "TEXT = \"Thanksgiving\"\n",
    "N_WORDS = 100\n",
    "N_SENTENCES = 2\n",
    "preds = [learn.predict(TEXT, N_WORDS, temperature=0.75) \n",
    "         for _ in range(N_SENTENCES)]\n",
    "preds"
   ]
  },
  {
   "cell_type": "code",
   "execution_count": 121,
   "id": "67a4bf46",
   "metadata": {},
   "outputs": [],
   "source": [
    "# Make entire network trainable\n",
    "learn.unfreeze()"
   ]
  },
  {
   "cell_type": "code",
   "execution_count": 122,
   "id": "1cd42df6",
   "metadata": {},
   "outputs": [
    {
     "data": {
      "text/html": [
       "<table border=\"1\" class=\"dataframe\">\n",
       "  <thead>\n",
       "    <tr style=\"text-align: left;\">\n",
       "      <th>epoch</th>\n",
       "      <th>train_loss</th>\n",
       "      <th>valid_loss</th>\n",
       "      <th>accuracy</th>\n",
       "      <th>perplexity</th>\n",
       "      <th>time</th>\n",
       "    </tr>\n",
       "  </thead>\n",
       "  <tbody>\n",
       "    <tr>\n",
       "      <td>0</td>\n",
       "      <td>3.758005</td>\n",
       "      <td>3.756276</td>\n",
       "      <td>0.317301</td>\n",
       "      <td>42.788780</td>\n",
       "      <td>12:49</td>\n",
       "    </tr>\n",
       "    <tr>\n",
       "      <td>1</td>\n",
       "      <td>3.692900</td>\n",
       "      <td>3.698847</td>\n",
       "      <td>0.323663</td>\n",
       "      <td>40.400700</td>\n",
       "      <td>12:22</td>\n",
       "    </tr>\n",
       "    <tr>\n",
       "      <td>2</td>\n",
       "      <td>3.626208</td>\n",
       "      <td>3.648373</td>\n",
       "      <td>0.329389</td>\n",
       "      <td>38.412132</td>\n",
       "      <td>12:01</td>\n",
       "    </tr>\n",
       "    <tr>\n",
       "      <td>3</td>\n",
       "      <td>3.578109</td>\n",
       "      <td>3.615339</td>\n",
       "      <td>0.333142</td>\n",
       "      <td>37.163944</td>\n",
       "      <td>11:54</td>\n",
       "    </tr>\n",
       "    <tr>\n",
       "      <td>4</td>\n",
       "      <td>3.497035</td>\n",
       "      <td>3.594973</td>\n",
       "      <td>0.335827</td>\n",
       "      <td>36.414730</td>\n",
       "      <td>11:55</td>\n",
       "    </tr>\n",
       "    <tr>\n",
       "      <td>5</td>\n",
       "      <td>3.428614</td>\n",
       "      <td>3.578593</td>\n",
       "      <td>0.338395</td>\n",
       "      <td>35.823086</td>\n",
       "      <td>11:57</td>\n",
       "    </tr>\n",
       "    <tr>\n",
       "      <td>6</td>\n",
       "      <td>3.354045</td>\n",
       "      <td>3.569620</td>\n",
       "      <td>0.339711</td>\n",
       "      <td>35.503094</td>\n",
       "      <td>11:57</td>\n",
       "    </tr>\n",
       "    <tr>\n",
       "      <td>7</td>\n",
       "      <td>3.295889</td>\n",
       "      <td>3.567371</td>\n",
       "      <td>0.340822</td>\n",
       "      <td>35.423328</td>\n",
       "      <td>12:02</td>\n",
       "    </tr>\n",
       "    <tr>\n",
       "      <td>8</td>\n",
       "      <td>3.246153</td>\n",
       "      <td>3.571206</td>\n",
       "      <td>0.341171</td>\n",
       "      <td>35.559448</td>\n",
       "      <td>12:01</td>\n",
       "    </tr>\n",
       "    <tr>\n",
       "      <td>9</td>\n",
       "      <td>3.209833</td>\n",
       "      <td>3.575130</td>\n",
       "      <td>0.340937</td>\n",
       "      <td>35.699245</td>\n",
       "      <td>12:00</td>\n",
       "    </tr>\n",
       "  </tbody>\n",
       "</table>"
      ],
      "text/plain": [
       "<IPython.core.display.HTML object>"
      ]
     },
     "metadata": {},
     "output_type": "display_data"
    }
   ],
   "source": [
    "# Train everything with a lower learning rate.\n",
    "learn.fit_one_cycle(10, 2e-3)"
   ]
  },
  {
   "cell_type": "code",
   "execution_count": 123,
   "id": "51659e30",
   "metadata": {},
   "outputs": [],
   "source": [
    "learn.save_encoder('imdb-finetuned')"
   ]
  },
  {
   "cell_type": "markdown",
   "id": "366b9e53",
   "metadata": {},
   "source": [
    "### Experiment Shakespeare generation"
   ]
  },
  {
   "cell_type": "code",
   "execution_count": 111,
   "id": "1597e583",
   "metadata": {},
   "outputs": [
    {
     "data": {
      "text/html": [],
      "text/plain": [
       "<IPython.core.display.HTML object>"
      ]
     },
     "metadata": {},
     "output_type": "display_data"
    }
   ],
   "source": [
    "shakespeare_path = Path('data/shakespeare')\n",
    "\n",
    "shakespeare_dls_lm = DataBlock(\n",
    "    blocks=TextBlock.from_folder(shakespeare_path, is_lm=True),\n",
    "    get_items=get_text_files, splitter=RandomSplitter(0.1),\n",
    ").dataloaders(shakespeare_path, path=shakespeare_path, bs=128, seq_len=80)\n",
    "\n",
    "shakespeare_learn = language_model_learner(\n",
    "    shakespeare_dls_lm, AWD_LSTM, drop_mult=0.3,\n",
    "    metrics=[accuracy, Perplexity()]).to_fp16()"
   ]
  },
  {
   "cell_type": "code",
   "execution_count": 112,
   "id": "d864939e",
   "metadata": {},
   "outputs": [
    {
     "data": {
      "text/html": [
       "<table border=\"1\" class=\"dataframe\">\n",
       "  <thead>\n",
       "    <tr style=\"text-align: left;\">\n",
       "      <th>epoch</th>\n",
       "      <th>train_loss</th>\n",
       "      <th>valid_loss</th>\n",
       "      <th>accuracy</th>\n",
       "      <th>perplexity</th>\n",
       "      <th>time</th>\n",
       "    </tr>\n",
       "  </thead>\n",
       "  <tbody>\n",
       "    <tr>\n",
       "      <td>0</td>\n",
       "      <td>3.938603</td>\n",
       "      <td>3.796566</td>\n",
       "      <td>0.314286</td>\n",
       "      <td>44.547943</td>\n",
       "      <td>01:06</td>\n",
       "    </tr>\n",
       "  </tbody>\n",
       "</table>"
      ],
      "text/plain": [
       "<IPython.core.display.HTML object>"
      ]
     },
     "metadata": {},
     "output_type": "display_data"
    }
   ],
   "source": [
    "shakespeare_learn.fit_one_cycle(1, 2e-2)"
   ]
  },
  {
   "cell_type": "code",
   "execution_count": 216,
   "id": "303134d3",
   "metadata": {},
   "outputs": [
    {
     "data": {
      "text/html": [],
      "text/plain": [
       "<IPython.core.display.HTML object>"
      ]
     },
     "metadata": {},
     "output_type": "display_data"
    },
    {
     "data": {
      "text/html": [],
      "text/plain": [
       "<IPython.core.display.HTML object>"
      ]
     },
     "metadata": {},
     "output_type": "display_data"
    },
    {
     "data": {
      "text/plain": [
       "[\"i am sure thou canst , thou mightst have made me swear \\n▁ That i had never been an honest man . \\n▁ Hold , there is a man 's son , and all thy fortunes \\n▁ Are all mine ; and thine is mine , \\n▁ And never shall thy husband lie in 's grave , \\n▁ Nor hold thee till i\",\n",
       " 'i am sure thou hast been ever so ill - fed , \\n▁ And thou hast made no envy in me since . \\n▁ Or thou shouldst have been thy mother , \\n▁ When thou hast a wife , and with a mother \\n▁ Have i not seen thy son so tender . \\n▁ SON . For she hath a daughter ,']"
      ]
     },
     "execution_count": 216,
     "metadata": {},
     "output_type": "execute_result"
    }
   ],
   "source": [
    "TEXT = \"I am sure thou\"  \n",
    "N_WORDS = 64\n",
    "N_SENTENCES = 2\n",
    "preds = [shakespeare_learn.predict(TEXT, N_WORDS, temperature=0.75) \n",
    "         for _ in range(N_SENTENCES)]\n",
    "preds"
   ]
  },
  {
   "cell_type": "code",
   "execution_count": null,
   "id": "90453e74",
   "metadata": {},
   "outputs": [],
   "source": [
    "shakespeare_learn.unfreeze()\n",
    "shakespeare_learn.fit_one_cycle(10, 2e-3)"
   ]
  },
  {
   "cell_type": "code",
   "execution_count": 139,
   "id": "47ec76ed",
   "metadata": {},
   "outputs": [],
   "source": [
    "learn.save_encoder('shakespeare-finetuned')"
   ]
  },
  {
   "cell_type": "markdown",
   "id": "fb608818",
   "metadata": {},
   "source": [
    "### Using our custom language model for sentiment analysis\n",
    "\n",
    "- Now we have two blocks, not one\n",
    "- Independent variable is text\n",
    "- Dependent category is sentiment, positive or negative"
   ]
  },
  {
   "cell_type": "code",
   "execution_count": 161,
   "id": "ae221523",
   "metadata": {},
   "outputs": [],
   "source": [
    "dls_clas = DataBlock(\n",
    "    blocks=(TextBlock.from_folder(imdb_path, vocab=dls_lm.vocab), CategoryBlock),\n",
    "    get_y = parent_label,\n",
    "    get_items=partial(get_text_files, folders=['train', 'test']),\n",
    "    splitter=GrandparentSplitter(valid_name='test')\n",
    ").dataloaders(imdb_path, path=imdb_path, bs=128, seq_len=72)"
   ]
  },
  {
   "cell_type": "code",
   "execution_count": 162,
   "id": "59f50d4a",
   "metadata": {},
   "outputs": [
    {
     "data": {
      "text/html": [
       "<table border=\"1\" class=\"dataframe\">\n",
       "  <thead>\n",
       "    <tr style=\"text-align: right;\">\n",
       "      <th></th>\n",
       "      <th>text</th>\n",
       "      <th>category</th>\n",
       "    </tr>\n",
       "  </thead>\n",
       "  <tbody>\n",
       "    <tr>\n",
       "      <th>0</th>\n",
       "      <td>xxbos xxmaj match 1 : xxmaj tag xxmaj team xxmaj table xxmaj match xxmaj bubba xxmaj ray and xxmaj spike xxmaj dudley vs xxmaj eddie xxmaj guerrero and xxmaj chris xxmaj benoit xxmaj bubba xxmaj ray and xxmaj spike xxmaj dudley started things off with a xxmaj tag xxmaj team xxmaj table xxmaj match against xxmaj eddie xxmaj guerrero and xxmaj chris xxmaj benoit . xxmaj according to the rules of the match , both opponents have to go through tables in order to get the win . xxmaj benoit and xxmaj guerrero heated up early on by taking turns hammering first xxmaj spike and then xxmaj bubba xxmaj ray . a xxmaj german xxunk by xxmaj benoit to xxmaj bubba took the wind out of the xxmaj dudley brother . xxmaj spike tried to help his brother , but the referee restrained him while xxmaj benoit and xxmaj guerrero</td>\n",
       "      <td>pos</td>\n",
       "    </tr>\n",
       "    <tr>\n",
       "      <th>1</th>\n",
       "      <td>xxbos * * attention xxmaj spoilers * * \\n\\n xxmaj first of all , let me say that xxmaj rob xxmaj roy is one of the best films of the 90 's . xxmaj it was an amazing achievement for all those involved , especially the acting of xxmaj liam xxmaj neeson , xxmaj jessica xxmaj lange , xxmaj john xxmaj hurt , xxmaj brian xxmaj cox , and xxmaj tim xxmaj roth . xxmaj michael xxmaj canton xxmaj jones painted a wonderful portrait of the honor and dishonor that men can represent in themselves . xxmaj but alas … \\n\\n it constantly , and unfairly gets compared to \" braveheart \" . xxmaj these are two entirely different films , probably only similar in the fact that they are both about xxmaj scots in historical xxmaj scotland . xxmaj yet , this comparison frequently bothers me because it seems</td>\n",
       "      <td>pos</td>\n",
       "    </tr>\n",
       "    <tr>\n",
       "      <th>2</th>\n",
       "      <td>xxbos xxmaj some have praised _ xxunk _ as a xxmaj disney adventure for adults . i do n't think so -- at least not for thinking adults . \\n\\n xxmaj this script suggests a beginning as a live - action movie , that struck someone as the type of crap you can not sell to adults anymore . xxmaj the \" crack staff \" of many older adventure movies has been done well before , ( think _ the xxmaj dirty xxmaj dozen _ ) but _ atlantis _ represents one of the worse films in that motif . xxmaj the characters are weak . xxmaj even the background that each member trots out seems stock and awkward at best . xxmaj an xxup md / xxmaj medicine xxmaj man , a tomboy mechanic whose father always wanted sons , if we have not at least seen these before</td>\n",
       "      <td>neg</td>\n",
       "    </tr>\n",
       "  </tbody>\n",
       "</table>"
      ],
      "text/plain": [
       "<IPython.core.display.HTML object>"
      ]
     },
     "metadata": {},
     "output_type": "display_data"
    }
   ],
   "source": [
    "dls_clas.show_batch(max_n=3)"
   ]
  },
  {
   "cell_type": "markdown",
   "id": "fa84107e",
   "metadata": {},
   "source": [
    "- Can't split into batches like we did before because we want to use an entire review for classification\n",
    "- This is done by adding padding tokens to make thinsg equal length\n",
    "- FastAI puts similar length documents in mini-batches\n",
    "- This is handled automatically"
   ]
  },
  {
   "cell_type": "code",
   "execution_count": 178,
   "id": "2c081bc5",
   "metadata": {},
   "outputs": [],
   "source": [
    "imdb_sent_learn = text_classifier_learner(dls_clas, AWD_LSTM, drop_mult=0.5, metrics=accuracy).to_fp16()"
   ]
  },
  {
   "cell_type": "code",
   "execution_count": 179,
   "id": "29183762",
   "metadata": {},
   "outputs": [],
   "source": [
    "imdb_sent_learn = imdb_sent_learn.load_encoder('imdb-finetuned')"
   ]
  },
  {
   "cell_type": "code",
   "execution_count": 181,
   "id": "62bbe1dd",
   "metadata": {},
   "outputs": [
    {
     "data": {
      "text/html": [
       "<table border=\"1\" class=\"dataframe\">\n",
       "  <thead>\n",
       "    <tr style=\"text-align: left;\">\n",
       "      <th>epoch</th>\n",
       "      <th>train_loss</th>\n",
       "      <th>valid_loss</th>\n",
       "      <th>accuracy</th>\n",
       "      <th>time</th>\n",
       "    </tr>\n",
       "  </thead>\n",
       "  <tbody>\n",
       "    <tr>\n",
       "      <td>0</td>\n",
       "      <td>0.252063</td>\n",
       "      <td>0.179821</td>\n",
       "      <td>0.930320</td>\n",
       "      <td>00:23</td>\n",
       "    </tr>\n",
       "  </tbody>\n",
       "</table>"
      ],
      "text/plain": [
       "<IPython.core.display.HTML object>"
      ]
     },
     "metadata": {},
     "output_type": "display_data"
    }
   ],
   "source": [
    "imdb_sent_learn.fit_one_cycle(1, 2e-2)"
   ]
  },
  {
   "cell_type": "code",
   "execution_count": 226,
   "id": "81f1f35b",
   "metadata": {},
   "outputs": [
    {
     "data": {
      "text/html": [],
      "text/plain": [
       "<IPython.core.display.HTML object>"
      ]
     },
     "metadata": {},
     "output_type": "display_data"
    },
    {
     "data": {
      "text/plain": [
       "('neg', tensor(0), tensor([0.9466, 0.0534]))"
      ]
     },
     "execution_count": 226,
     "metadata": {},
     "output_type": "execute_result"
    }
   ],
   "source": [
    "imdb_sent_learn.predict(\"This was a waste of my time.\")"
   ]
  },
  {
   "cell_type": "markdown",
   "id": "cef941e2",
   "metadata": {},
   "source": [
    "## Disinformation\n",
    "\n",
    "- Can generate context-appropriate sentences\n",
    "- Keynote at scipy 2019\n",
    "\n",
    "https://www.youtube.com/watch?v=KChtdexd5Jo&list=PLtmWHNX-gukLQlMvtRJ19s7-8MrnRV6h6&index=6"
   ]
  },
  {
   "cell_type": "code",
   "execution_count": null,
   "id": "1ad82014",
   "metadata": {},
   "outputs": [],
   "source": [
    "https://github.com/EleutherAI/the-pile"
   ]
  }
 ],
 "metadata": {
  "kernelspec": {
   "display_name": "Python 3 (ipykernel)",
   "language": "python",
   "name": "python3"
  },
  "language_info": {
   "codemirror_mode": {
    "name": "ipython",
    "version": 3
   },
   "file_extension": ".py",
   "mimetype": "text/x-python",
   "name": "python",
   "nbconvert_exporter": "python",
   "pygments_lexer": "ipython3",
   "version": "3.7.10"
  }
 },
 "nbformat": 4,
 "nbformat_minor": 5
}
