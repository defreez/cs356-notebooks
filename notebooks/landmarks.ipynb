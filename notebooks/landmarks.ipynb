{
 "cells": [
  {
   "cell_type": "markdown",
   "id": "bfe9539c",
   "metadata": {},
   "source": [
    "# Week 3 Day 2 pt. 2\n",
    "\n",
    "[![Open In Colab](https://colab.research.google.com/assets/colab-badge.svg)](https://colab.research.google.com/github/defreez/cs356-notebooks/blob/main/notebooks/landmarks.ipynb)"
   ]
  },
  {
   "cell_type": "code",
   "execution_count": null,
   "id": "z5bfQN0_Voh-",
   "metadata": {
    "id": "z5bfQN0_Voh-"
   },
   "outputs": [],
   "source": [
    "!pip install -Uqq fastbook\n",
    "import fastbook\n",
    "from fastbook import *\n",
    "fastbook.setup_book()\n",
    "from fastai.vision import *\n",
    "\n",
    "from fastai.vision.widgets import *"
   ]
  },
  {
   "cell_type": "code",
   "execution_count": 2,
   "id": "d5c54dfd",
   "metadata": {
    "id": "d5c54dfd"
   },
   "outputs": [],
   "source": [
    "from fastbook import *\n",
    "import xml.etree.ElementTree as ET "
   ]
  },
  {
   "cell_type": "code",
   "execution_count": null,
   "id": "16f60a40",
   "metadata": {
    "id": "16f60a40"
   },
   "outputs": [],
   "source": [
    "path = untar_data('http://dlib.net/files/data/ibug_300W_large_face_landmark_dataset.tar.gz')"
   ]
  },
  {
   "cell_type": "code",
   "execution_count": null,
   "id": "44d6b020",
   "metadata": {
    "id": "44d6b020"
   },
   "outputs": [],
   "source": [
    "path.ls()"
   ]
  },
  {
   "cell_type": "code",
   "execution_count": 6,
   "id": "2e1d8cb7",
   "metadata": {
    "id": "2e1d8cb7"
   },
   "outputs": [],
   "source": [
    "def img2pts(x): \n",
    "    return Path(f'{str(x)[:-3]}pts')"
   ]
  },
  {
   "cell_type": "code",
   "execution_count": 7,
   "id": "54edb7c7",
   "metadata": {
    "id": "54edb7c7"
   },
   "outputs": [],
   "source": [
    "def get_landmarks(f):\n",
    "    return tensor(np.genfromtxt(img2pts(f), skip_header=3, skip_footer=1))"
   ]
  },
  {
   "cell_type": "code",
   "execution_count": 8,
   "id": "3deefd3a",
   "metadata": {
    "id": "3deefd3a"
   },
   "outputs": [],
   "source": [
    "def get_image_files_skip(p):\n",
    "    return [x for x in get_image_files(p) if \"mirror\" not in str(x)]"
   ]
  },
  {
   "cell_type": "code",
   "execution_count": 9,
   "id": "10c9c56b",
   "metadata": {
    "id": "10c9c56b"
   },
   "outputs": [],
   "source": [
    "data = DataBlock(\n",
    "    blocks=(ImageBlock, PointBlock),\n",
    "    get_items=get_image_files_skip,\n",
    "    get_y=get_landmarks,\n",
    "    item_tfms=Resize(480),\n",
    ")"
   ]
  },
  {
   "cell_type": "code",
   "execution_count": 10,
   "id": "aad0fa9b",
   "metadata": {
    "id": "aad0fa9b"
   },
   "outputs": [],
   "source": [
    "dls = data.dataloaders(path/'helen')"
   ]
  },
  {
   "cell_type": "code",
   "execution_count": null,
   "id": "f3bea860",
   "metadata": {
    "id": "f3bea860"
   },
   "outputs": [],
   "source": [
    "dls.show_batch(max_n=9)"
   ]
  },
  {
   "cell_type": "code",
   "execution_count": null,
   "id": "ec139f44",
   "metadata": {
    "id": "ec139f44"
   },
   "outputs": [],
   "source": [
    "learn = cnn_learner(dls, resnet18, y_range=(-1, 1))"
   ]
  },
  {
   "cell_type": "code",
   "execution_count": null,
   "id": "7f433579",
   "metadata": {
    "id": "7f433579"
   },
   "outputs": [],
   "source": [
    "learn.lr_find()"
   ]
  },
  {
   "cell_type": "code",
   "execution_count": null,
   "id": "dec27d76",
   "metadata": {
    "id": "dec27d76"
   },
   "outputs": [],
   "source": [
    "lr = 0.004\n",
    "learn.fine_tune(, lr)"
   ]
  },
  {
   "cell_type": "code",
   "execution_count": 153,
   "id": "0jrtcb1SXxit",
   "metadata": {
    "id": "0jrtcb1SXxit"
   },
   "outputs": [],
   "source": [
    "learn = load_learner(gdrive / '480-helen-32.pkl')"
   ]
  },
  {
   "cell_type": "code",
   "execution_count": null,
   "id": "5ec37c97",
   "metadata": {
    "id": "5ec37c97"
   },
   "outputs": [],
   "source": [
    "learn.show_results(ds_idx=1, max_n=3)"
   ]
  },
  {
   "cell_type": "code",
   "execution_count": null,
   "id": "12f2a70b",
   "metadata": {
    "id": "12f2a70b"
   },
   "outputs": [],
   "source": [
    "uploader = widgets.FileUpload()\n",
    "uploader"
   ]
  },
  {
   "cell_type": "code",
   "execution_count": 190,
   "id": "d14a38d8",
   "metadata": {
    "id": "d14a38d8"
   },
   "outputs": [],
   "source": [
    "img = PILImage.create(uploader.data[0])"
   ]
  },
  {
   "cell_type": "markdown",
   "id": "Tgb8Oe0ruoHN",
   "metadata": {
    "id": "Tgb8Oe0ruoHN"
   },
   "source": []
  },
  {
   "cell_type": "code",
   "execution_count": null,
   "id": "0dcbf390",
   "metadata": {
    "id": "0dcbf390"
   },
   "outputs": [],
   "source": [
    "y = learn.predict(img)"
   ]
  },
  {
   "cell_type": "code",
   "execution_count": 193,
   "id": "t32DMPk4vEk2",
   "metadata": {
    "id": "t32DMPk4vEk2"
   },
   "outputs": [],
   "source": [
    "img = img.resize((480, 480))"
   ]
  },
  {
   "cell_type": "code",
   "execution_count": 194,
   "id": "1e9f3707",
   "metadata": {
    "id": "1e9f3707"
   },
   "outputs": [],
   "source": [
    "pnt_img = TensorImage(img)"
   ]
  },
  {
   "cell_type": "code",
   "execution_count": null,
   "id": "9644381d",
   "metadata": {
    "id": "9644381d"
   },
   "outputs": [],
   "source": [
    "ctx = pnt_img.show()\n",
    "y[0].show(ctx=ctx)"
   ]
  },
  {
   "cell_type": "code",
   "execution_count": null,
   "id": "4b5381ea",
   "metadata": {
    "id": "4b5381ea"
   },
   "outputs": [],
   "source": [
    "learn.export(gdrive/'landmarks.pkl')"
   ]
  },
  {
   "cell_type": "code",
   "execution_count": 16,
   "id": "z-rOpV3_XS8V",
   "metadata": {
    "id": "z-rOpV3_XS8V"
   },
   "outputs": [],
   "source": [
    "from IPython.display import display, Javascript\n",
    "from google.colab.output import eval_js\n",
    "from base64 import b64decode\n",
    "\n",
    "def take_photo(filename='photo.jpg', quality=0.8):\n",
    "  js = Javascript('''\n",
    "    async function takePhoto(quality) {\n",
    "      const div = document.createElement('div');\n",
    "      const capture = document.createElement('button');\n",
    "      capture.textContent = 'Capture';\n",
    "      div.appendChild(capture);\n",
    "\n",
    "      const video = document.createElement('video');\n",
    "      video.style.display = 'block';\n",
    "      const stream = await navigator.mediaDevices.getUserMedia({video: true});\n",
    "\n",
    "      document.body.appendChild(div);\n",
    "      div.appendChild(video);\n",
    "      video.srcObject = stream;\n",
    "      await video.play();\n",
    "\n",
    "      // Resize the output to fit the video element.\n",
    "      google.colab.output.setIframeHeight(document.documentElement.scrollHeight, true);\n",
    "\n",
    "      // Wait for Capture to be clicked.\n",
    "      await new Promise((resolve) => capture.onclick = resolve);\n",
    "\n",
    "      const canvas = document.createElement('canvas');\n",
    "      canvas.width = video.videoWidth;\n",
    "      canvas.height = video.videoHeight;\n",
    "      canvas.getContext('2d').drawImage(video, 0, 0);\n",
    "      stream.getVideoTracks()[0].stop();\n",
    "      div.remove();\n",
    "      return canvas.toDataURL('image/jpeg', quality);\n",
    "    }\n",
    "    ''')\n",
    "  display(js)\n",
    "  data = eval_js('takePhoto({})'.format(quality))\n",
    "  binary = b64decode(data.split(',')[1])\n",
    "  with open(filename, 'wb') as f:\n",
    "    f.write(binary)\n",
    "  return filename"
   ]
  },
  {
   "cell_type": "code",
   "execution_count": null,
   "id": "y7bfh33CXS8X",
   "metadata": {
    "id": "y7bfh33CXS8X"
   },
   "outputs": [],
   "source": [
    "try:\n",
    "  filename = take_photo()\n",
    "  print('Saved to {}'.format(filename))\n",
    "\n",
    "  img = Image.open(\"photo.jpg\")\n",
    "  img = img.crop((80, 0, 560, 480))\n",
    "  img.save(\"photo.jpg\")\n",
    "\n",
    "  uploader = SimpleNamespace(data = ['photo.jpg'])\n",
    "  img = PILImage.create(uploader.data[0])\n",
    "  y = learn.predict(img)\n",
    "  pnt_img = TensorImage(img)\n",
    "  ctx = pnt_img.show()\n",
    "  y[0].show(ctx=ctx)\n",
    "  \n",
    "  # Show the image which was just taken.\n",
    "  #display(Image(filename))\n",
    "except Exception as err:\n",
    "  # Errors will be thrown if the user does not have a webcam or if they do not\n",
    "  # grant the page permission to access it.\n",
    "  print(str(err))"
   ]
  }
 ],
 "metadata": {
  "accelerator": "GPU",
  "colab": {
   "name": "sunglasses-fastai.ipynb",
   "provenance": []
  },
  "kernelspec": {
   "display_name": "Python 3 (ipykernel)",
   "language": "python",
   "name": "python3"
  },
  "language_info": {
   "codemirror_mode": {
    "name": "ipython",
    "version": 3
   },
   "file_extension": ".py",
   "mimetype": "text/x-python",
   "name": "python",
   "nbconvert_exporter": "python",
   "pygments_lexer": "ipython3",
   "version": "3.7.10"
  }
 },
 "nbformat": 4,
 "nbformat_minor": 5
}
