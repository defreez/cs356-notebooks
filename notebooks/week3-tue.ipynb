{
 "cells": [
  {
   "cell_type": "markdown",
   "id": "btEYHRQldWDw",
   "metadata": {
    "id": "btEYHRQldWDw"
   },
   "source": [
    "## Week 3 - Tuesday 2020-10-12\n",
    "\n",
    "[![Open In Colab](https://colab.research.google.com/assets/colab-badge.svg)](https://colab.research.google.com/github/defreez/cs356-notebooks/blob/main/notebooks/week3-tue.ipynb)"
   ]
  },
  {
   "cell_type": "code",
   "execution_count": null,
   "id": "53d9c8ab",
   "metadata": {
    "id": "53d9c8ab"
   },
   "outputs": [],
   "source": [
    "!pip install -Uqq fastbook\n",
    "import fastbook\n",
    "from fastbook import *\n",
    "fastbook.setup_book()\n",
    "\n",
    "from fastai.vision.widgets import *"
   ]
  },
  {
   "cell_type": "markdown",
   "id": "cab444d0",
   "metadata": {
    "id": "cab444d0"
   },
   "source": [
    "## Chapter 2 stuff\n",
    "\n",
    "- Bing image search\n",
    "- Useful if you want to grab some images to test an image classification idea\n",
    "    - Also useful exercise in data cleaning"
   ]
  },
  {
   "cell_type": "markdown",
   "id": "4adcf05a",
   "metadata": {
    "id": "4adcf05a"
   },
   "source": [
    "## Searching Azure\n",
    "\n",
    "- Here is an API key you can use. Please don't abuse it so we can keep having nice things."
   ]
  },
  {
   "cell_type": "code",
   "execution_count": null,
   "id": "88fba2c6",
   "metadata": {
    "id": "88fba2c6"
   },
   "outputs": [],
   "source": [
    "key = os.environ.get('AZURE_SEARCH_KEY', '87106c462b7f47f4ae24e13ff802d458')"
   ]
  },
  {
   "cell_type": "code",
   "execution_count": null,
   "id": "46d883f9",
   "metadata": {
    "id": "46d883f9"
   },
   "outputs": [],
   "source": [
    "results = search_images_bing(key, 'grizzly bear')"
   ]
  },
  {
   "cell_type": "code",
   "execution_count": null,
   "id": "44d7c2fb",
   "metadata": {
    "id": "44d7c2fb"
   },
   "outputs": [],
   "source": [
    "!rm -rf bears"
   ]
  },
  {
   "cell_type": "code",
   "execution_count": null,
   "id": "b3d97130",
   "metadata": {
    "id": "b3d97130"
   },
   "outputs": [],
   "source": [
    "bear_types = 'grizzly', 'black', 'teddy'\n",
    "path = Path('bears')\n",
    "\n",
    "path.mkdir()\n",
    "for o in bear_types:\n",
    "    print(o)\n",
    "    dest = (path/o)\n",
    "    dest.mkdir(exist_ok=True)\n",
    "    results = search_images_bing(key, f'{o} bear', max_images=50)\n",
    "    download_images(dest, urls=results.attrgot('contentUrl'))"
   ]
  },
  {
   "cell_type": "code",
   "execution_count": null,
   "id": "f3519f7e",
   "metadata": {
    "id": "f3519f7e"
   },
   "outputs": [],
   "source": [
    "fns = get_image_files(path)"
   ]
  },
  {
   "cell_type": "code",
   "execution_count": null,
   "id": "f8ae317f",
   "metadata": {
    "id": "f8ae317f"
   },
   "outputs": [],
   "source": [
    "failed = verify_images(fns)\n",
    "failed"
   ]
  },
  {
   "cell_type": "code",
   "execution_count": null,
   "id": "920ea01d",
   "metadata": {
    "id": "920ea01d"
   },
   "outputs": [],
   "source": [
    "failed.map(Path.unlink)"
   ]
  },
  {
   "cell_type": "code",
   "execution_count": null,
   "id": "7a4a85d5",
   "metadata": {
    "id": "7a4a85d5"
   },
   "outputs": [],
   "source": [
    "bears = DataBlock(\n",
    "    blocks = (ImageBlock, CategoryBlock),\n",
    "    get_items = get_image_files,\n",
    "    splitter=RandomSplitter(valid_pct=0.2, seed=42),\n",
    "    get_y=parent_label,\n",
    "    item_tfms=[Resize(128)])"
   ]
  },
  {
   "cell_type": "code",
   "execution_count": null,
   "id": "45966a5e",
   "metadata": {
    "id": "45966a5e"
   },
   "outputs": [],
   "source": [
    "dls = bears.dataloaders(path)"
   ]
  },
  {
   "cell_type": "code",
   "execution_count": null,
   "id": "4ac333e6",
   "metadata": {
    "id": "4ac333e6"
   },
   "outputs": [],
   "source": [
    "dls.valid.show_batch(max_n=4, nrows=1)"
   ]
  },
  {
   "cell_type": "code",
   "execution_count": null,
   "id": "a78b4847",
   "metadata": {
    "colab": {
     "base_uri": "https://localhost:8080/",
     "height": 315,
     "referenced_widgets": [
      "afac23089df14b9bade1fa6eb65a25c1",
      "7351f66061c545b9a9d79a6921a0b1b5",
      "483a25fa533b45aaadfac6743c38244d",
      "3aef506383814ee1afa16d0c7ac82aee",
      "e97c62e0bcc446b394771c830725b291",
      "55a60f1290e04ef0bc885b08526b4a06",
      "1c787986a4d243f2904321903d9c06df",
      "112ef087dc6e4aaf955c8b006cba5f18",
      "171af2730db74210a3703945a438d20e",
      "f423977c76be44c79bebf873e3f93682",
      "3a527489739a4499af9f636f93c1a7e2"
     ]
    },
    "id": "a78b4847",
    "outputId": "283835ae-056d-4b4e-97ba-f3e57749768f"
   },
   "outputs": [],
   "source": [
    "learn = cnn_learner(dls, resnet18, metrics=error_rate)\n",
    "learn.fine_tune(2)"
   ]
  },
  {
   "cell_type": "code",
   "execution_count": null,
   "id": "4c5d91aa",
   "metadata": {
    "id": "4c5d91aa"
   },
   "outputs": [],
   "source": [
    "interp = ClassificationInterpretation.from_learner(learn)\n",
    "interp.plot_confusion_matrix(figsize=(12, 12), dpi=60)"
   ]
  },
  {
   "cell_type": "code",
   "execution_count": null,
   "id": "f7010901",
   "metadata": {
    "id": "f7010901"
   },
   "outputs": [],
   "source": [
    "cleaner = ImageClassifierCleaner(learn)\n",
    "cleaner"
   ]
  },
  {
   "cell_type": "code",
   "execution_count": null,
   "id": "79c9616c",
   "metadata": {
    "id": "79c9616c"
   },
   "outputs": [],
   "source": [
    "for idx in cleaner.delete():\n",
    "    cleaner.fns[idx].unlink()"
   ]
  },
  {
   "cell_type": "code",
   "execution_count": null,
   "id": "644f166e",
   "metadata": {
    "id": "644f166e"
   },
   "outputs": [],
   "source": [
    "for idx,cat in cleaner.change():\n",
    "    shutil.move(str(cleaner.fns[idx]), path/cat)"
   ]
  },
  {
   "cell_type": "code",
   "execution_count": null,
   "id": "H8kxKK9ZLHuV",
   "metadata": {
    "id": "H8kxKK9ZLHuV"
   },
   "outputs": [],
   "source": [
    "str(gdrive)"
   ]
  },
  {
   "cell_type": "code",
   "execution_count": null,
   "id": "bc545cbd",
   "metadata": {
    "id": "bc545cbd"
   },
   "outputs": [],
   "source": [
    "!zip -r '/content/gdrive/My Drive/bears.zip' bears"
   ]
  },
  {
   "cell_type": "code",
   "execution_count": null,
   "id": "fa75116d",
   "metadata": {
    "id": "fa75116d"
   },
   "outputs": [],
   "source": [
    "path = untar_data(URLs.MNIST)"
   ]
  },
  {
   "cell_type": "markdown",
   "id": "4eec8b39",
   "metadata": {
    "id": "4eec8b39"
   },
   "source": [
    "# In-class Exercise\n",
    "\n",
    "- Change the image search query\n",
    "- Clean the data\n",
    "- Save your dataset"
   ]
  },
  {
   "cell_type": "markdown",
   "id": "7136ef68",
   "metadata": {
    "id": "7136ef68"
   },
   "source": [
    "# MNIST all digits without ResNet"
   ]
  },
  {
   "cell_type": "code",
   "execution_count": null,
   "id": "d6495a9c",
   "metadata": {
    "id": "d6495a9c"
   },
   "outputs": [],
   "source": [
    "path.ls()"
   ]
  },
  {
   "cell_type": "code",
   "execution_count": null,
   "id": "f29db700",
   "metadata": {
    "id": "f29db700"
   },
   "outputs": [],
   "source": [
    "train_images = get_image_files(path/'training')\n",
    "train_x_list = [tensor(Image.open(img_path)).cuda() for img_path in train_images]\n",
    "train_y_list = [int(img_path.parent.name) for img_path in train_images]\n",
    "train_x = ((torch.stack(train_x_list)).float()/255).view(-1, 28 * 28)\n",
    "train_y = tensor(train_y_list).cuda().view(-1, 1)\n",
    "\n",
    "train_x.shape, train_y.shape"
   ]
  },
  {
   "cell_type": "code",
   "execution_count": null,
   "id": "c9221742",
   "metadata": {
    "id": "c9221742"
   },
   "outputs": [],
   "source": [
    "train_dset = list(zip(train_x, train_y))"
   ]
  },
  {
   "cell_type": "code",
   "execution_count": null,
   "id": "9c86287e",
   "metadata": {
    "id": "9c86287e"
   },
   "outputs": [],
   "source": [
    "valid_images = get_image_files(path/'testing')\n",
    "valid_x_list = [tensor(Image.open(img_path)).cuda() for img_path in valid_images]\n",
    "valid_y_list = [int(img_path.parent.name) for img_path in valid_images_list]\n",
    "valid_x = (torch.stack(valid_x_list).float()/255).view(-1, 28*28)\n",
    "valid_y = tensor(valid_y_list).cuda().view(-1,1)\n",
    "\n",
    "valid_x.shape, valid_y.shape"
   ]
  },
  {
   "cell_type": "code",
   "execution_count": null,
   "id": "1d87ff31",
   "metadata": {
    "id": "1d87ff31"
   },
   "outputs": [],
   "source": [
    "valid_dset = list(zip(valid_x, valid_y))"
   ]
  },
  {
   "cell_type": "code",
   "execution_count": null,
   "id": "82e66983",
   "metadata": {
    "id": "82e66983"
   },
   "outputs": [],
   "source": [
    "train_dl = DataLoader(train_dset, batch_size=256)\n",
    "valid_dl = DataLoader(valid_dset, batch_size=256)"
   ]
  },
  {
   "cell_type": "markdown",
   "id": "5b831572",
   "metadata": {
    "id": "5b831572"
   },
   "source": [
    "# Dealing with multiple classes\n"
   ]
  },
  {
   "cell_type": "markdown",
   "id": "6322d26e",
   "metadata": {
    "id": "6322d26e"
   },
   "source": [
    "## Softmax\n",
    "\n",
    "- Think of it as sigmoid but with multiple classes\n",
    "- Sum of softmax classes will add up to 1\n",
    "- One activation for each category "
   ]
  },
  {
   "cell_type": "code",
   "execution_count": null,
   "id": "RY9GgGGrPX0M",
   "metadata": {
    "id": "RY9GgGGrPX0M"
   },
   "outputs": [],
   "source": []
  },
  {
   "cell_type": "markdown",
   "id": "iB9Wep1bPZ3V",
   "metadata": {
    "id": "iB9Wep1bPZ3V"
   },
   "source": [
    "![image.png](data:image/png;base64,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)"
   ]
  },
  {
   "cell_type": "markdown",
   "id": "eAGTBpdgQShX",
   "metadata": {
    "id": "eAGTBpdgQShX"
   },
   "source": [
    "![image.png](data:image/png;base64,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)"
   ]
  },
  {
   "cell_type": "markdown",
   "id": "dtgMap9bQ8um",
   "metadata": {
    "id": "dtgMap9bQ8um"
   },
   "source": [
    "![image.png](data:image/png;base64,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)"
   ]
  },
  {
   "cell_type": "markdown",
   "id": "c315e641",
   "metadata": {
    "id": "c315e641"
   },
   "source": [
    "## Log softmax\n",
    "\n",
    "- We take the log of the softmax activaiton for a variety of reasons\n",
    "- Numerically stable\n",
    "  - Gets rid of very small numbers\n",
    "- Removes \"gray area\", more likely to definitively pick a class. This is usually what we want, not always."
   ]
  },
  {
   "cell_type": "markdown",
   "id": "df93cbe1",
   "metadata": {
    "id": "df93cbe1"
   },
   "source": [
    "## Negative Log Likelihood\n",
    "\n",
    "- Select the activation that corresponds to the class\n",
    "- If we predict class 3, take class 3. If we predict class 4, take class 4.\n",
    "- Turns activation into something we can minimize, smaller is better\n",
    "- The books description is wrong here because they describe this process before taking the log and call it the loss.\n",
    "  It isn't!\n",
    "- Taking the log of a number between 0 and 1 is negative. \n",
    "- Therefore we need the negative log"
   ]
  },
  {
   "cell_type": "markdown",
   "id": "c93c96e6",
   "metadata": {
    "id": "c93c96e6"
   },
   "source": [
    "## Cross Entropy Loss\n",
    "\n",
    "1. Softmax\n",
    "2. Take log of softmax for each category\n",
    "3. Choose category column corresponding to index of category\n",
    "4. Multiply by -1"
   ]
  },
  {
   "cell_type": "code",
   "execution_count": null,
   "id": "a5c408a0",
   "metadata": {
    "id": "a5c408a0"
   },
   "outputs": [],
   "source": [
    "def mnist_loss(pred, actual):\n",
    "    l = nn.CrossEntropyLoss()\n",
    "    return l(pred, actual.squeeze())"
   ]
  },
  {
   "cell_type": "code",
   "execution_count": null,
   "id": "b2c10fc6",
   "metadata": {
    "id": "b2c10fc6"
   },
   "outputs": [],
   "source": [
    "def calc_grad(xb, yb, model):\n",
    "    pred = model(xb)\n",
    "    loss = mnist_loss(pred, yb)\n",
    "    loss.backward()\n",
    "    return loss"
   ]
  },
  {
   "cell_type": "code",
   "execution_count": null,
   "id": "dd9a9a3e",
   "metadata": {
    "id": "dd9a9a3e"
   },
   "outputs": [],
   "source": [
    "def batch_accuracy(pred, actual):\n",
    "    digit_pred = pred.max(dim=1)[1]\n",
    "    return (digit_pred == actual.squeeze()).float().mean()"
   ]
  },
  {
   "cell_type": "code",
   "execution_count": null,
   "id": "485c5b76",
   "metadata": {
    "id": "485c5b76"
   },
   "outputs": [],
   "source": [
    "# Global opt is stupid\n",
    "def train_epoch(model, optimizer):\n",
    "    batch_loss = []\n",
    "    for xb, yb in train_dl:\n",
    "        batch_loss.append(calc_grad(xb, yb, model))\n",
    "        optimizer.step()\n",
    "        optimizer.zero_grad()\n",
    "    return tensor(batch_loss).mean()"
   ]
  },
  {
   "cell_type": "code",
   "execution_count": null,
   "id": "c3a43f16",
   "metadata": {
    "id": "c3a43f16"
   },
   "outputs": [],
   "source": [
    "class BasicOptim:\n",
    "    def __init__(self, params, lr): \n",
    "        self.params, self.lr = list(params), lr\n",
    "    \n",
    "    def step(self):\n",
    "        for p in self.params:\n",
    "            p.data -= p.grad.data * self.lr\n",
    "            \n",
    "    def zero_grad(self):\n",
    "        for p in self.params:\n",
    "            p.grad = None"
   ]
  },
  {
   "cell_type": "markdown",
   "id": "f51b2c74",
   "metadata": {
    "id": "f51b2c74"
   },
   "source": [
    "## Our neural network\n",
    "\n",
    "- The architecture is somewhat arbitrary at this point\n",
    "- We don't yet have any guiding principles for how to construct this\n",
    "- Soon we'll see one particularly useful layer we can add - convolutions"
   ]
  },
  {
   "cell_type": "code",
   "execution_count": null,
   "id": "68589334",
   "metadata": {
    "id": "68589334"
   },
   "outputs": [],
   "source": [
    "simple_net = nn.Sequential(\n",
    "    nn.Linear(28 * 28, 100),\n",
    "    nn.ReLU(),\n",
    "    nn.Linear(100, 100),\n",
    "    nn.ReLU(),\n",
    "    nn.Linear(100, 30),\n",
    "    nn.ReLU(),\n",
    "    nn.Linear(30, 10)\n",
    ").cuda()"
   ]
  },
  {
   "cell_type": "code",
   "execution_count": null,
   "id": "9b167040",
   "metadata": {
    "id": "9b167040"
   },
   "outputs": [],
   "source": [
    "batch_accuracy(simple_net(valid_x), valid_y)"
   ]
  },
  {
   "cell_type": "code",
   "execution_count": null,
   "id": "1d5781ce",
   "metadata": {
    "id": "1d5781ce"
   },
   "outputs": [],
   "source": [
    "o = BasicOptim(simple_net.parameters(), lr=0.1)"
   ]
  },
  {
   "cell_type": "code",
   "execution_count": null,
   "id": "26dbcd0f",
   "metadata": {
    "id": "26dbcd0f"
   },
   "outputs": [],
   "source": [
    "def train_model(model, epochs, opt):\n",
    "    for i in range(epochs):\n",
    "        avg_bl = train_epoch(model, opt)\n",
    "        print(i, avg_bl.item(), batch_accuracy(model(valid_x), valid_y).item())"
   ]
  },
  {
   "cell_type": "code",
   "execution_count": null,
   "id": "0e2fb439",
   "metadata": {
    "id": "0e2fb439"
   },
   "outputs": [],
   "source": [
    "%%time\n",
    "train_model(simple_net, 32, o)"
   ]
  },
  {
   "cell_type": "markdown",
   "id": "1c7cb298",
   "metadata": {
    "id": "1c7cb298"
   },
   "source": [
    "## In practice\n",
    "\n",
    "- Cross entropy loss should be the default loss function for multi-class problems\n",
    "- We can choose other loss functions\n",
    "    - E.g. Focal loss helps with class imbalance"
   ]
  },
  {
   "cell_type": "markdown",
   "id": "f3cfe0da",
   "metadata": {
    "id": "f3cfe0da"
   },
   "source": [
    "# Next up: DeepRacer teaser"
   ]
  },
  {
   "cell_type": "markdown",
   "id": "892b5ad9",
   "metadata": {
    "id": "892b5ad9"
   },
   "source": [
    " "
   ]
  }
 ],
 "metadata": {
  "accelerator": "GPU",
  "colab": {
   "name": "cs356-week3-day1-mnist-softmax.ipynb",
   "provenance": []
  },
  "kernelspec": {
   "display_name": "Python 3 (ipykernel)",
   "language": "python",
   "name": "python3"
  },
  "language_info": {
   "codemirror_mode": {
    "name": "ipython",
    "version": 3
   },
   "file_extension": ".py",
   "mimetype": "text/x-python",
   "name": "python",
   "nbconvert_exporter": "python",
   "pygments_lexer": "ipython3",
   "version": "3.7.10"
  },
  "widgets": {
   "application/vnd.jupyter.widget-state+json": {
    "112ef087dc6e4aaf955c8b006cba5f18": {
     "model_module": "@jupyter-widgets/controls",
     "model_module_version": "1.5.0",
     "model_name": "ProgressStyleModel",
     "state": {
      "_model_module": "@jupyter-widgets/controls",
      "_model_module_version": "1.5.0",
      "_model_name": "ProgressStyleModel",
      "_view_count": null,
      "_view_module": "@jupyter-widgets/base",
      "_view_module_version": "1.2.0",
      "_view_name": "StyleView",
      "bar_color": null,
      "description_width": ""
     }
    },
    "171af2730db74210a3703945a438d20e": {
     "model_module": "@jupyter-widgets/base",
     "model_module_version": "1.2.0",
     "model_name": "LayoutModel",
     "state": {
      "_model_module": "@jupyter-widgets/base",
      "_model_module_version": "1.2.0",
      "_model_name": "LayoutModel",
      "_view_count": null,
      "_view_module": "@jupyter-widgets/base",
      "_view_module_version": "1.2.0",
      "_view_name": "LayoutView",
      "align_content": null,
      "align_items": null,
      "align_self": null,
      "border": null,
      "bottom": null,
      "display": null,
      "flex": null,
      "flex_flow": null,
      "grid_area": null,
      "grid_auto_columns": null,
      "grid_auto_flow": null,
      "grid_auto_rows": null,
      "grid_column": null,
      "grid_gap": null,
      "grid_row": null,
      "grid_template_areas": null,
      "grid_template_columns": null,
      "grid_template_rows": null,
      "height": null,
      "justify_content": null,
      "justify_items": null,
      "left": null,
      "margin": null,
      "max_height": null,
      "max_width": null,
      "min_height": null,
      "min_width": null,
      "object_fit": null,
      "object_position": null,
      "order": null,
      "overflow": null,
      "overflow_x": null,
      "overflow_y": null,
      "padding": null,
      "right": null,
      "top": null,
      "visibility": null,
      "width": null
     }
    },
    "1c787986a4d243f2904321903d9c06df": {
     "model_module": "@jupyter-widgets/base",
     "model_module_version": "1.2.0",
     "model_name": "LayoutModel",
     "state": {
      "_model_module": "@jupyter-widgets/base",
      "_model_module_version": "1.2.0",
      "_model_name": "LayoutModel",
      "_view_count": null,
      "_view_module": "@jupyter-widgets/base",
      "_view_module_version": "1.2.0",
      "_view_name": "LayoutView",
      "align_content": null,
      "align_items": null,
      "align_self": null,
      "border": null,
      "bottom": null,
      "display": null,
      "flex": null,
      "flex_flow": null,
      "grid_area": null,
      "grid_auto_columns": null,
      "grid_auto_flow": null,
      "grid_auto_rows": null,
      "grid_column": null,
      "grid_gap": null,
      "grid_row": null,
      "grid_template_areas": null,
      "grid_template_columns": null,
      "grid_template_rows": null,
      "height": null,
      "justify_content": null,
      "justify_items": null,
      "left": null,
      "margin": null,
      "max_height": null,
      "max_width": null,
      "min_height": null,
      "min_width": null,
      "object_fit": null,
      "object_position": null,
      "order": null,
      "overflow": null,
      "overflow_x": null,
      "overflow_y": null,
      "padding": null,
      "right": null,
      "top": null,
      "visibility": null,
      "width": null
     }
    },
    "3a527489739a4499af9f636f93c1a7e2": {
     "model_module": "@jupyter-widgets/base",
     "model_module_version": "1.2.0",
     "model_name": "LayoutModel",
     "state": {
      "_model_module": "@jupyter-widgets/base",
      "_model_module_version": "1.2.0",
      "_model_name": "LayoutModel",
      "_view_count": null,
      "_view_module": "@jupyter-widgets/base",
      "_view_module_version": "1.2.0",
      "_view_name": "LayoutView",
      "align_content": null,
      "align_items": null,
      "align_self": null,
      "border": null,
      "bottom": null,
      "display": null,
      "flex": null,
      "flex_flow": null,
      "grid_area": null,
      "grid_auto_columns": null,
      "grid_auto_flow": null,
      "grid_auto_rows": null,
      "grid_column": null,
      "grid_gap": null,
      "grid_row": null,
      "grid_template_areas": null,
      "grid_template_columns": null,
      "grid_template_rows": null,
      "height": null,
      "justify_content": null,
      "justify_items": null,
      "left": null,
      "margin": null,
      "max_height": null,
      "max_width": null,
      "min_height": null,
      "min_width": null,
      "object_fit": null,
      "object_position": null,
      "order": null,
      "overflow": null,
      "overflow_x": null,
      "overflow_y": null,
      "padding": null,
      "right": null,
      "top": null,
      "visibility": null,
      "width": null
     }
    },
    "3aef506383814ee1afa16d0c7ac82aee": {
     "model_module": "@jupyter-widgets/controls",
     "model_module_version": "1.5.0",
     "model_name": "FloatProgressModel",
     "state": {
      "_dom_classes": [],
      "_model_module": "@jupyter-widgets/controls",
      "_model_module_version": "1.5.0",
      "_model_name": "FloatProgressModel",
      "_view_count": null,
      "_view_module": "@jupyter-widgets/controls",
      "_view_module_version": "1.5.0",
      "_view_name": "ProgressView",
      "bar_style": "success",
      "description": "",
      "description_tooltip": null,
      "layout": "IPY_MODEL_171af2730db74210a3703945a438d20e",
      "max": 46830571,
      "min": 0,
      "orientation": "horizontal",
      "style": "IPY_MODEL_112ef087dc6e4aaf955c8b006cba5f18",
      "value": 46830571
     }
    },
    "483a25fa533b45aaadfac6743c38244d": {
     "model_module": "@jupyter-widgets/controls",
     "model_module_version": "1.5.0",
     "model_name": "HTMLModel",
     "state": {
      "_dom_classes": [],
      "_model_module": "@jupyter-widgets/controls",
      "_model_module_version": "1.5.0",
      "_model_name": "HTMLModel",
      "_view_count": null,
      "_view_module": "@jupyter-widgets/controls",
      "_view_module_version": "1.5.0",
      "_view_name": "HTMLView",
      "description": "",
      "description_tooltip": null,
      "layout": "IPY_MODEL_1c787986a4d243f2904321903d9c06df",
      "placeholder": "​",
      "style": "IPY_MODEL_55a60f1290e04ef0bc885b08526b4a06",
      "value": "100%"
     }
    },
    "55a60f1290e04ef0bc885b08526b4a06": {
     "model_module": "@jupyter-widgets/controls",
     "model_module_version": "1.5.0",
     "model_name": "DescriptionStyleModel",
     "state": {
      "_model_module": "@jupyter-widgets/controls",
      "_model_module_version": "1.5.0",
      "_model_name": "DescriptionStyleModel",
      "_view_count": null,
      "_view_module": "@jupyter-widgets/base",
      "_view_module_version": "1.2.0",
      "_view_name": "StyleView",
      "description_width": ""
     }
    },
    "7351f66061c545b9a9d79a6921a0b1b5": {
     "model_module": "@jupyter-widgets/base",
     "model_module_version": "1.2.0",
     "model_name": "LayoutModel",
     "state": {
      "_model_module": "@jupyter-widgets/base",
      "_model_module_version": "1.2.0",
      "_model_name": "LayoutModel",
      "_view_count": null,
      "_view_module": "@jupyter-widgets/base",
      "_view_module_version": "1.2.0",
      "_view_name": "LayoutView",
      "align_content": null,
      "align_items": null,
      "align_self": null,
      "border": null,
      "bottom": null,
      "display": null,
      "flex": null,
      "flex_flow": null,
      "grid_area": null,
      "grid_auto_columns": null,
      "grid_auto_flow": null,
      "grid_auto_rows": null,
      "grid_column": null,
      "grid_gap": null,
      "grid_row": null,
      "grid_template_areas": null,
      "grid_template_columns": null,
      "grid_template_rows": null,
      "height": null,
      "justify_content": null,
      "justify_items": null,
      "left": null,
      "margin": null,
      "max_height": null,
      "max_width": null,
      "min_height": null,
      "min_width": null,
      "object_fit": null,
      "object_position": null,
      "order": null,
      "overflow": null,
      "overflow_x": null,
      "overflow_y": null,
      "padding": null,
      "right": null,
      "top": null,
      "visibility": null,
      "width": null
     }
    },
    "afac23089df14b9bade1fa6eb65a25c1": {
     "model_module": "@jupyter-widgets/controls",
     "model_module_version": "1.5.0",
     "model_name": "HBoxModel",
     "state": {
      "_dom_classes": [],
      "_model_module": "@jupyter-widgets/controls",
      "_model_module_version": "1.5.0",
      "_model_name": "HBoxModel",
      "_view_count": null,
      "_view_module": "@jupyter-widgets/controls",
      "_view_module_version": "1.5.0",
      "_view_name": "HBoxView",
      "box_style": "",
      "children": [
       "IPY_MODEL_483a25fa533b45aaadfac6743c38244d",
       "IPY_MODEL_3aef506383814ee1afa16d0c7ac82aee",
       "IPY_MODEL_e97c62e0bcc446b394771c830725b291"
      ],
      "layout": "IPY_MODEL_7351f66061c545b9a9d79a6921a0b1b5"
     }
    },
    "e97c62e0bcc446b394771c830725b291": {
     "model_module": "@jupyter-widgets/controls",
     "model_module_version": "1.5.0",
     "model_name": "HTMLModel",
     "state": {
      "_dom_classes": [],
      "_model_module": "@jupyter-widgets/controls",
      "_model_module_version": "1.5.0",
      "_model_name": "HTMLModel",
      "_view_count": null,
      "_view_module": "@jupyter-widgets/controls",
      "_view_module_version": "1.5.0",
      "_view_name": "HTMLView",
      "description": "",
      "description_tooltip": null,
      "layout": "IPY_MODEL_3a527489739a4499af9f636f93c1a7e2",
      "placeholder": "​",
      "style": "IPY_MODEL_f423977c76be44c79bebf873e3f93682",
      "value": " 44.7M/44.7M [00:00&lt;00:00, 89.8MB/s]"
     }
    },
    "f423977c76be44c79bebf873e3f93682": {
     "model_module": "@jupyter-widgets/controls",
     "model_module_version": "1.5.0",
     "model_name": "DescriptionStyleModel",
     "state": {
      "_model_module": "@jupyter-widgets/controls",
      "_model_module_version": "1.5.0",
      "_model_name": "DescriptionStyleModel",
      "_view_count": null,
      "_view_module": "@jupyter-widgets/base",
      "_view_module_version": "1.2.0",
      "_view_name": "StyleView",
      "description_width": ""
     }
    }
   }
  }
 },
 "nbformat": 4,
 "nbformat_minor": 5
}
