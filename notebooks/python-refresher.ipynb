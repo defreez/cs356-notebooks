{
 "cells": [
  {
   "cell_type": "markdown",
   "id": "6d838299",
   "metadata": {},
   "source": [
    "# Python Refresher\n",
    "## and some new things\n",
    "\n",
    "[![Open In Colab](https://colab.research.google.com/assets/colab-badge.svg)](https://colab.research.google.com/github/defreez/cs356-notebooks/blob/main/notebooks/python-refresher.ipynb)"
   ]
  },
  {
   "cell_type": "markdown",
   "id": "8087caed",
   "metadata": {},
   "source": [
    "## Variables and Types\n",
    "\n",
    "Python is a dynamically typed language. It *has* types, but we don't explicitly declare the type of a variable when it is being created."
   ]
  },
  {
   "cell_type": "code",
   "execution_count": 13,
   "id": "67a9e561",
   "metadata": {},
   "outputs": [],
   "source": [
    "# Variables Types\n",
    "x = 1\n",
    "y = 1."
   ]
  },
  {
   "cell_type": "code",
   "execution_count": 14,
   "id": "c2b4918f",
   "metadata": {},
   "outputs": [
    {
     "data": {
      "text/plain": [
       "1"
      ]
     },
     "execution_count": 14,
     "metadata": {},
     "output_type": "execute_result"
    }
   ],
   "source": [
    "x"
   ]
  },
  {
   "cell_type": "code",
   "execution_count": 15,
   "id": "ec3884bd",
   "metadata": {},
   "outputs": [
    {
     "data": {
      "text/plain": [
       "(1, int, 1.0, float)"
      ]
     },
     "execution_count": 15,
     "metadata": {},
     "output_type": "execute_result"
    }
   ],
   "source": [
    "x, type(x), y, type(y)"
   ]
  },
  {
   "cell_type": "code",
   "execution_count": 16,
   "id": "14610034",
   "metadata": {},
   "outputs": [
    {
     "data": {
      "text/plain": [
       "('foo', 'bar')"
      ]
     },
     "execution_count": 16,
     "metadata": {},
     "output_type": "execute_result"
    }
   ],
   "source": [
    "foo = 'foo'\n",
    "bar = \"bar\"\n",
    "foo, bar"
   ]
  },
  {
   "cell_type": "markdown",
   "id": "4d30d54a",
   "metadata": {},
   "source": [
    "## Lists\n",
    "\n",
    "Lists are ordered, homogeneous, and mutable"
   ]
  },
  {
   "cell_type": "code",
   "execution_count": 28,
   "id": "0e5b1f31",
   "metadata": {},
   "outputs": [],
   "source": [
    "a_list = [1,2,3]\n",
    "a_list[0] = 5"
   ]
  },
  {
   "cell_type": "code",
   "execution_count": 29,
   "id": "c45cc8be",
   "metadata": {},
   "outputs": [
    {
     "data": {
      "text/plain": [
       "[5, 2, 3]"
      ]
     },
     "execution_count": 29,
     "metadata": {},
     "output_type": "execute_result"
    }
   ],
   "source": [
    "a_list"
   ]
  },
  {
   "cell_type": "markdown",
   "id": "07fc6a6d",
   "metadata": {},
   "source": [
    "## Tuples\n",
    "\n",
    "Tuples are ordered, heterogeneous, and immutable. "
   ]
  },
  {
   "cell_type": "code",
   "execution_count": 25,
   "id": "bb0c18ca",
   "metadata": {},
   "outputs": [
    {
     "ename": "TypeError",
     "evalue": "'tuple' object does not support item assignment",
     "output_type": "error",
     "traceback": [
      "\u001b[0;31m---------------------------------------------------------------------------\u001b[0m",
      "\u001b[0;31mTypeError\u001b[0m                                 Traceback (most recent call last)",
      "\u001b[0;32m/tmp/ipykernel_32/3705777862.py\u001b[0m in \u001b[0;36m<module>\u001b[0;34m\u001b[0m\n\u001b[1;32m      1\u001b[0m \u001b[0ma_tuple\u001b[0m \u001b[0;34m=\u001b[0m \u001b[0;34m(\u001b[0m\u001b[0;34m\"age\"\u001b[0m\u001b[0;34m,\u001b[0m \u001b[0;34m\"25\"\u001b[0m\u001b[0;34m)\u001b[0m\u001b[0;34m\u001b[0m\u001b[0;34m\u001b[0m\u001b[0m\n\u001b[0;32m----> 2\u001b[0;31m \u001b[0ma_tuple\u001b[0m\u001b[0;34m[\u001b[0m\u001b[0;36m0\u001b[0m\u001b[0;34m]\u001b[0m \u001b[0;34m=\u001b[0m \u001b[0;36m3\u001b[0m\u001b[0;34m\u001b[0m\u001b[0;34m\u001b[0m\u001b[0m\n\u001b[0m",
      "\u001b[0;31mTypeError\u001b[0m: 'tuple' object does not support item assignment"
     ]
    }
   ],
   "source": [
    "a_tuple = (\"age\", \"25\")\n",
    "a_tuple[0] = 3"
   ]
  },
  {
   "cell_type": "markdown",
   "id": "f8f18b7d",
   "metadata": {},
   "source": [
    "### Dictionaries\n",
    "\n",
    "Key/value pairs"
   ]
  },
  {
   "cell_type": "code",
   "execution_count": 56,
   "id": "3453af9d",
   "metadata": {},
   "outputs": [],
   "source": [
    "person = {\"name\": \"lilith\", \"age\": 28}"
   ]
  },
  {
   "cell_type": "markdown",
   "id": "6855f2ea",
   "metadata": {},
   "source": [
    "## For loops\n",
    "\n",
    "Python using a range style for loop always. This works well because there are so many iterators in Python/"
   ]
  },
  {
   "cell_type": "code",
   "execution_count": 39,
   "id": "7f8eb19a",
   "metadata": {},
   "outputs": [
    {
     "name": "stdout",
     "output_type": "stream",
     "text": [
      "0\n",
      "1\n",
      "2\n",
      "3\n",
      "4\n",
      "5\n",
      "6\n",
      "7\n",
      "8\n",
      "9\n"
     ]
    }
   ],
   "source": [
    "for i in range(10):\n",
    "    print(i)"
   ]
  },
  {
   "cell_type": "code",
   "execution_count": 40,
   "id": "d2f58d93",
   "metadata": {},
   "outputs": [
    {
     "name": "stdout",
     "output_type": "stream",
     "text": [
      "1\n",
      "2\n",
      "3\n"
     ]
    }
   ],
   "source": [
    "for i in [1,2,3]:\n",
    "    print(i)"
   ]
  },
  {
   "cell_type": "code",
   "execution_count": 42,
   "id": "3c2a8b8b",
   "metadata": {},
   "outputs": [
    {
     "name": "stdout",
     "output_type": "stream",
     "text": [
      "abc\n",
      "xyz\n"
     ]
    }
   ],
   "source": [
    "for i in (\"abc\", \"xyz\"):\n",
    "    print(i)"
   ]
  },
  {
   "cell_type": "code",
   "execution_count": 54,
   "id": "0ba0ce77",
   "metadata": {},
   "outputs": [
    {
     "name": "stdout",
     "output_type": "stream",
     "text": [
      "name\n",
      "age\n"
     ]
    }
   ],
   "source": [
    "person = {\"name\": \"lilith\", \"age\": 28}\n",
    "for k in person:\n",
    "    print(k)"
   ]
  },
  {
   "cell_type": "code",
   "execution_count": 57,
   "id": "6cb02da7",
   "metadata": {},
   "outputs": [
    {
     "name": "stdout",
     "output_type": "stream",
     "text": [
      "name lilith\n",
      "age 28\n"
     ]
    }
   ],
   "source": [
    "for k, v in person.items():\n",
    "    print(k, v)"
   ]
  },
  {
   "cell_type": "code",
   "execution_count": 58,
   "id": "f54a7d96",
   "metadata": {},
   "outputs": [
    {
     "data": {
      "text/plain": [
       "[3, 6, 9]"
      ]
     },
     "execution_count": 58,
     "metadata": {},
     "output_type": "execute_result"
    }
   ],
   "source": [
    "# list comprehensions\n",
    "nums = [1, 2, 3]\n",
    "[x*3 for x in nums]"
   ]
  },
  {
   "cell_type": "markdown",
   "id": "b731e7a1",
   "metadata": {},
   "source": [
    "## Functions"
   ]
  },
  {
   "cell_type": "code",
   "execution_count": 34,
   "id": "49903335",
   "metadata": {},
   "outputs": [
    {
     "data": {
      "text/plain": [
       "(None, 10)"
      ]
     },
     "execution_count": 34,
     "metadata": {},
     "output_type": "execute_result"
    }
   ],
   "source": [
    "# Functions are defined with the def keyword\n",
    "# Function arguments are passed by reference\n",
    "# This function doesn't return a value, therefore the function call evaluates to None\n",
    "def update(x):\n",
    "    x = 5\n",
    "\n",
    "y = 10\n",
    "update(y), y"
   ]
  },
  {
   "cell_type": "code",
   "execution_count": 36,
   "id": "baa15416",
   "metadata": {},
   "outputs": [
    {
     "data": {
      "text/plain": [
       "(6, 7)"
      ]
     },
     "execution_count": 36,
     "metadata": {},
     "output_type": "execute_result"
    }
   ],
   "source": [
    "# Default arguments\n",
    "def add(x, v=1):\n",
    "    return x + v\n",
    "\n",
    "add(5), add(5, 2)"
   ]
  },
  {
   "cell_type": "markdown",
   "id": "6224e04f",
   "metadata": {},
   "source": [
    "### Higher-order Functions\n",
    "\n",
    "Python allows you to program in a \"functional\" style because it supports \"first-class\" functions.\n",
    "This means that functions can be treated as values. We will use this feature a lot."
   ]
  },
  {
   "cell_type": "code",
   "execution_count": 18,
   "id": "e4d55e1c",
   "metadata": {},
   "outputs": [],
   "source": [
    "# For example, let's write a function that applys another function to every item in a list.\n",
    "# This is not efficient.\n",
    "def fnlst(fn, lst):\n",
    "    result = []\n",
    "    for l in lst:\n",
    "        result.append(fn(l))\n",
    "    return result\n",
    "\n",
    "def double(x):\n",
    "    return x * 2"
   ]
  },
  {
   "cell_type": "code",
   "execution_count": 19,
   "id": "d5958ee8",
   "metadata": {},
   "outputs": [
    {
     "data": {
      "text/plain": [
       "[2, 4, 6]"
      ]
     },
     "execution_count": 19,
     "metadata": {},
     "output_type": "execute_result"
    }
   ],
   "source": [
    "fnlst(double, [1, 2, 3])"
   ]
  },
  {
   "cell_type": "markdown",
   "id": "a843e413",
   "metadata": {},
   "source": [
    "### Lambda Functions\n",
    "\n",
    "\"Lambda\" functions allow you to declare a function inline anonymously (without a name)."
   ]
  },
  {
   "cell_type": "code",
   "execution_count": 21,
   "id": "6e2e8550",
   "metadata": {},
   "outputs": [
    {
     "data": {
      "text/plain": [
       "[2, 4, 6]"
      ]
     },
     "execution_count": 21,
     "metadata": {},
     "output_type": "execute_result"
    }
   ],
   "source": [
    "fnlst(lambda x: x * 2, [1,2,3])"
   ]
  },
  {
   "cell_type": "markdown",
   "id": "f5c88adc",
   "metadata": {},
   "source": [
    "## Numpy shapes and Stacking"
   ]
  },
  {
   "cell_type": "code",
   "execution_count": 59,
   "id": "8dabcf59",
   "metadata": {},
   "outputs": [],
   "source": [
    "import numpy as np"
   ]
  },
  {
   "cell_type": "code",
   "execution_count": 65,
   "id": "f5569505",
   "metadata": {},
   "outputs": [
    {
     "data": {
      "text/plain": [
       "array([0, 1, 2, 3, 4, 5, 6, 7, 8, 9])"
      ]
     },
     "execution_count": 65,
     "metadata": {},
     "output_type": "execute_result"
    }
   ],
   "source": [
    "x = np.arange(10)\n",
    "x"
   ]
  },
  {
   "cell_type": "code",
   "execution_count": 69,
   "id": "67a131a3",
   "metadata": {},
   "outputs": [
    {
     "data": {
      "text/plain": [
       "(10,)"
      ]
     },
     "execution_count": 69,
     "metadata": {},
     "output_type": "execute_result"
    }
   ],
   "source": [
    "## Rank-1 Array\n",
    "x.shape"
   ]
  },
  {
   "cell_type": "code",
   "execution_count": 72,
   "id": "eb2d21b7",
   "metadata": {},
   "outputs": [
    {
     "data": {
      "text/plain": [
       "(array([[1, 2, 3],\n",
       "        [2, 4, 6],\n",
       "        [3, 6, 9]]),\n",
       " (3, 3))"
      ]
     },
     "execution_count": 72,
     "metadata": {},
     "output_type": "execute_result"
    }
   ],
   "source": [
    "## Rank-2 Array\n",
    "nums = [[1,2,3], [2,4,6], [3,6,9]]\n",
    "x = np.array(nums)\n",
    "x, x.shape"
   ]
  },
  {
   "cell_type": "code",
   "execution_count": 98,
   "id": "858b983d",
   "metadata": {},
   "outputs": [
    {
     "data": {
      "text/plain": [
       "(array([[1, 2, 3],\n",
       "        [4, 5, 6]]),\n",
       " (2, 3))"
      ]
     },
     "execution_count": 98,
     "metadata": {},
     "output_type": "execute_result"
    }
   ],
   "source": [
    "## Stacking adds an extra dimension\n",
    "## The axis parameter specifies the index of the new axis in the dimensions of the result. \n",
    "a = np.array([1, 2, 3])\n",
    "b = np.array([4, 5, 6])\n",
    "\n",
    "stacked = np.stack((a, b))\n",
    "stacked, stacked.shape"
   ]
  },
  {
   "cell_type": "code",
   "execution_count": 95,
   "id": "33aff0c7",
   "metadata": {},
   "outputs": [
    {
     "data": {
      "text/plain": [
       "(array([[1, 4],\n",
       "        [2, 5],\n",
       "        [3, 6]]),\n",
       " (3, 2))"
      ]
     },
     "execution_count": 95,
     "metadata": {},
     "output_type": "execute_result"
    }
   ],
   "source": [
    "stacked = np.stack((a, b), axis=1)\n",
    "stacked, stacked.shape"
   ]
  },
  {
   "cell_type": "code",
   "execution_count": 96,
   "id": "fdb0d204",
   "metadata": {},
   "outputs": [
    {
     "data": {
      "text/plain": [
       "(array([[1, 4],\n",
       "        [2, 5],\n",
       "        [3, 6]]),\n",
       " (3, 2))"
      ]
     },
     "execution_count": 96,
     "metadata": {},
     "output_type": "execute_result"
    }
   ],
   "source": [
    "stacked = np.stack((a, b), axis=-1)\n",
    "stacked, stacked.shape"
   ]
  },
  {
   "cell_type": "code",
   "execution_count": 107,
   "id": "976dedfc",
   "metadata": {},
   "outputs": [
    {
     "data": {
      "text/plain": [
       "array([[[  1,   1],\n",
       "        [  2,   2]],\n",
       "\n",
       "       [[ 10,  10],\n",
       "        [ 20,  20]],\n",
       "\n",
       "       [[100, 100],\n",
       "        [200, 200]]])"
      ]
     },
     "execution_count": 107,
     "metadata": {},
     "output_type": "execute_result"
    }
   ],
   "source": [
    "a = np.array([[1, 1], [2, 2]])\n",
    "b = np.array([[10, 10], [20, 20]])\n",
    "c = np.array([[100, 100], [200, 200]])\n",
    "np.stack([a, b, c])"
   ]
  },
  {
   "cell_type": "code",
   "execution_count": 114,
   "id": "c9182c0f",
   "metadata": {},
   "outputs": [
    {
     "data": {
      "text/plain": [
       "array([[[  1,   1],\n",
       "        [ 10,  10],\n",
       "        [100, 100]],\n",
       "\n",
       "       [[  2,   2],\n",
       "        [ 20,  20],\n",
       "        [200, 200]]])"
      ]
     },
     "execution_count": 114,
     "metadata": {},
     "output_type": "execute_result"
    }
   ],
   "source": [
    "np.stack([a, b, c], axis=1)"
   ]
  },
  {
   "cell_type": "markdown",
   "id": "45781604",
   "metadata": {},
   "source": [
    "## Pandas and Tabular Data\n",
    "\n",
    "Indexing DataFrames\n",
    "Mapping a function over a dataframe\n",
    "Filtering a DataFrame\n",
    "GroupBy\n",
    "Plotting"
   ]
  },
  {
   "cell_type": "code",
   "execution_count": 115,
   "id": "3167fa29",
   "metadata": {},
   "outputs": [],
   "source": [
    "import pandas as pd"
   ]
  },
  {
   "cell_type": "code",
   "execution_count": 116,
   "id": "aa0b691b",
   "metadata": {},
   "outputs": [],
   "source": [
    "# Loading CSV data\n",
    "# Can be loaded from a URL or local file\n",
    "df = pd.read_csv('https://dlptest.com/sample-data.csv')"
   ]
  },
  {
   "cell_type": "code",
   "execution_count": 118,
   "id": "5ae85696",
   "metadata": {},
   "outputs": [
    {
     "data": {
      "text/html": [
       "<div>\n",
       "<style scoped>\n",
       "    .dataframe tbody tr th:only-of-type {\n",
       "        vertical-align: middle;\n",
       "    }\n",
       "\n",
       "    .dataframe tbody tr th {\n",
       "        vertical-align: top;\n",
       "    }\n",
       "\n",
       "    .dataframe thead th {\n",
       "        text-align: right;\n",
       "    }\n",
       "</style>\n",
       "<table border=\"1\" class=\"dataframe\">\n",
       "  <thead>\n",
       "    <tr style=\"text-align: right;\">\n",
       "      <th></th>\n",
       "      <th>SSN</th>\n",
       "      <th>gender</th>\n",
       "      <th>birthdate</th>\n",
       "      <th>maiden name</th>\n",
       "      <th>last name</th>\n",
       "      <th>first name</th>\n",
       "      <th>address</th>\n",
       "      <th>city</th>\n",
       "      <th>state</th>\n",
       "      <th>zip</th>\n",
       "      <th>phone</th>\n",
       "      <th>email</th>\n",
       "      <th>cc_type</th>\n",
       "      <th>CCN</th>\n",
       "      <th>cc_cvc</th>\n",
       "      <th>cc_expiredate</th>\n",
       "    </tr>\n",
       "  </thead>\n",
       "  <tbody>\n",
       "    <tr>\n",
       "      <th>0</th>\n",
       "      <td>172-32-1176</td>\n",
       "      <td>m</td>\n",
       "      <td>4/21/1958</td>\n",
       "      <td>Smith</td>\n",
       "      <td>White</td>\n",
       "      <td>Johnson</td>\n",
       "      <td>10932 Bigge Rd</td>\n",
       "      <td>Menlo Park</td>\n",
       "      <td>CA</td>\n",
       "      <td>94025</td>\n",
       "      <td>408 496-7223</td>\n",
       "      <td>jwhite@domain.com</td>\n",
       "      <td>m</td>\n",
       "      <td>5270-4267-6450-5516</td>\n",
       "      <td>123</td>\n",
       "      <td>2010/06/25</td>\n",
       "    </tr>\n",
       "    <tr>\n",
       "      <th>1</th>\n",
       "      <td>514-14-8905</td>\n",
       "      <td>f</td>\n",
       "      <td>12/22/1944</td>\n",
       "      <td>Amaker</td>\n",
       "      <td>Borden</td>\n",
       "      <td>Ashley</td>\n",
       "      <td>4469 Sherman Street</td>\n",
       "      <td>Goff</td>\n",
       "      <td>KS</td>\n",
       "      <td>66428</td>\n",
       "      <td>785-939-6046</td>\n",
       "      <td>aborden@domain.com</td>\n",
       "      <td>m</td>\n",
       "      <td>5370-4638-8881-3020</td>\n",
       "      <td>713</td>\n",
       "      <td>2011/02/01</td>\n",
       "    </tr>\n",
       "    <tr>\n",
       "      <th>2</th>\n",
       "      <td>213-46-8915</td>\n",
       "      <td>f</td>\n",
       "      <td>4/21/1958</td>\n",
       "      <td>Pinson</td>\n",
       "      <td>Green</td>\n",
       "      <td>Marjorie</td>\n",
       "      <td>309 63rd St. #411</td>\n",
       "      <td>Oakland</td>\n",
       "      <td>CA</td>\n",
       "      <td>94618</td>\n",
       "      <td>415 986-7020</td>\n",
       "      <td>mgreen@domain.com</td>\n",
       "      <td>v</td>\n",
       "      <td>4916-9766-5240-6147</td>\n",
       "      <td>258</td>\n",
       "      <td>2009/02/25</td>\n",
       "    </tr>\n",
       "    <tr>\n",
       "      <th>3</th>\n",
       "      <td>524-02-7657</td>\n",
       "      <td>m</td>\n",
       "      <td>3/25/1962</td>\n",
       "      <td>Hall</td>\n",
       "      <td>Munsch</td>\n",
       "      <td>Jerome</td>\n",
       "      <td>2183 Roy Alley</td>\n",
       "      <td>Centennial</td>\n",
       "      <td>CO</td>\n",
       "      <td>80112</td>\n",
       "      <td>303-901-6123</td>\n",
       "      <td>jmunsch@domain.com</td>\n",
       "      <td>m</td>\n",
       "      <td>5180-3807-3679-8221</td>\n",
       "      <td>612</td>\n",
       "      <td>2010/03/01</td>\n",
       "    </tr>\n",
       "    <tr>\n",
       "      <th>4</th>\n",
       "      <td>489-36-8350</td>\n",
       "      <td>m</td>\n",
       "      <td>1964/09/06</td>\n",
       "      <td>Porter</td>\n",
       "      <td>Aragon</td>\n",
       "      <td>Robert</td>\n",
       "      <td>3181 White Oak Drive</td>\n",
       "      <td>Kansas City</td>\n",
       "      <td>MO</td>\n",
       "      <td>66215</td>\n",
       "      <td>816-645-6936</td>\n",
       "      <td>raragon@domain.com</td>\n",
       "      <td>v</td>\n",
       "      <td>4929-3813-3266-4295</td>\n",
       "      <td>911</td>\n",
       "      <td>2011/12/01</td>\n",
       "    </tr>\n",
       "  </tbody>\n",
       "</table>\n",
       "</div>"
      ],
      "text/plain": [
       "           SSN gender   birthdate maiden name last name first name  \\\n",
       "0  172-32-1176      m   4/21/1958       Smith     White    Johnson   \n",
       "1  514-14-8905      f  12/22/1944      Amaker    Borden     Ashley   \n",
       "2  213-46-8915      f   4/21/1958      Pinson     Green   Marjorie   \n",
       "3  524-02-7657      m   3/25/1962        Hall    Munsch     Jerome   \n",
       "4  489-36-8350      m  1964/09/06      Porter    Aragon     Robert   \n",
       "\n",
       "                address         city state    zip         phone  \\\n",
       "0        10932 Bigge Rd   Menlo Park    CA  94025  408 496-7223   \n",
       "1   4469 Sherman Street         Goff    KS  66428  785-939-6046   \n",
       "2     309 63rd St. #411      Oakland    CA  94618  415 986-7020   \n",
       "3        2183 Roy Alley   Centennial    CO  80112  303-901-6123   \n",
       "4  3181 White Oak Drive  Kansas City    MO  66215  816-645-6936   \n",
       "\n",
       "                email cc_type                  CCN  cc_cvc cc_expiredate  \n",
       "0   jwhite@domain.com       m  5270-4267-6450-5516     123    2010/06/25  \n",
       "1  aborden@domain.com       m  5370-4638-8881-3020     713    2011/02/01  \n",
       "2   mgreen@domain.com       v  4916-9766-5240-6147     258    2009/02/25  \n",
       "3  jmunsch@domain.com       m  5180-3807-3679-8221     612    2010/03/01  \n",
       "4  raragon@domain.com       v  4929-3813-3266-4295     911    2011/12/01  "
      ]
     },
     "execution_count": 118,
     "metadata": {},
     "output_type": "execute_result"
    }
   ],
   "source": [
    "df.head()"
   ]
  },
  {
   "cell_type": "code",
   "execution_count": 119,
   "id": "78803fd0",
   "metadata": {},
   "outputs": [
    {
     "data": {
      "text/plain": [
       "0     CA\n",
       "1     KS\n",
       "2     CA\n",
       "3     CO\n",
       "4     MO\n",
       "5     MO\n",
       "6     NE\n",
       "7     NC\n",
       "8     NY\n",
       "9     AL\n",
       "10    TX\n",
       "11    LA\n",
       "12    HI\n",
       "13    CA\n",
       "14    CA\n",
       "15    TX\n",
       "16    MN\n",
       "17    TX\n",
       "18    CT\n",
       "19    MS\n",
       "20    AL\n",
       "21    TX\n",
       "22    OH\n",
       "23    IL\n",
       "24    TX\n",
       "25    CA\n",
       "26    NC\n",
       "27    PA\n",
       "28    KY\n",
       "29    NJ\n",
       "Name: state, dtype: object"
      ]
     },
     "execution_count": 119,
     "metadata": {},
     "output_type": "execute_result"
    }
   ],
   "source": [
    "# list states\n",
    "df['state']"
   ]
  },
  {
   "cell_type": "code",
   "execution_count": 135,
   "id": "b6b20402",
   "metadata": {},
   "outputs": [
    {
     "data": {
      "text/html": [
       "<div>\n",
       "<style scoped>\n",
       "    .dataframe tbody tr th:only-of-type {\n",
       "        vertical-align: middle;\n",
       "    }\n",
       "\n",
       "    .dataframe tbody tr th {\n",
       "        vertical-align: top;\n",
       "    }\n",
       "\n",
       "    .dataframe thead th {\n",
       "        text-align: right;\n",
       "    }\n",
       "</style>\n",
       "<table border=\"1\" class=\"dataframe\">\n",
       "  <thead>\n",
       "    <tr style=\"text-align: right;\">\n",
       "      <th></th>\n",
       "      <th>SSN</th>\n",
       "      <th>gender</th>\n",
       "      <th>birthdate</th>\n",
       "      <th>maiden name</th>\n",
       "      <th>last name</th>\n",
       "      <th>first name</th>\n",
       "      <th>address</th>\n",
       "      <th>city</th>\n",
       "      <th>state</th>\n",
       "      <th>zip</th>\n",
       "      <th>phone</th>\n",
       "      <th>email</th>\n",
       "      <th>cc_type</th>\n",
       "      <th>CCN</th>\n",
       "      <th>cc_cvc</th>\n",
       "      <th>cc_expiredate</th>\n",
       "    </tr>\n",
       "  </thead>\n",
       "  <tbody>\n",
       "    <tr>\n",
       "      <th>0</th>\n",
       "      <td>172-32-1176</td>\n",
       "      <td>m</td>\n",
       "      <td>4/21/1958</td>\n",
       "      <td>Smith</td>\n",
       "      <td>White</td>\n",
       "      <td>Johnson</td>\n",
       "      <td>10932 Bigge Rd</td>\n",
       "      <td>Menlo Park</td>\n",
       "      <td>CA</td>\n",
       "      <td>94025</td>\n",
       "      <td>408 496-7223</td>\n",
       "      <td>jwhite@domain.com</td>\n",
       "      <td>m</td>\n",
       "      <td>5270-4267-6450-5516</td>\n",
       "      <td>123</td>\n",
       "      <td>2010/06/25</td>\n",
       "    </tr>\n",
       "    <tr>\n",
       "      <th>2</th>\n",
       "      <td>213-46-8915</td>\n",
       "      <td>f</td>\n",
       "      <td>4/21/1958</td>\n",
       "      <td>Pinson</td>\n",
       "      <td>Green</td>\n",
       "      <td>Marjorie</td>\n",
       "      <td>309 63rd St. #411</td>\n",
       "      <td>Oakland</td>\n",
       "      <td>CA</td>\n",
       "      <td>94618</td>\n",
       "      <td>415 986-7020</td>\n",
       "      <td>mgreen@domain.com</td>\n",
       "      <td>v</td>\n",
       "      <td>4916-9766-5240-6147</td>\n",
       "      <td>258</td>\n",
       "      <td>2009/02/25</td>\n",
       "    </tr>\n",
       "    <tr>\n",
       "      <th>13</th>\n",
       "      <td>559-81-1301</td>\n",
       "      <td>m</td>\n",
       "      <td>1952/01/20</td>\n",
       "      <td>Mcafee</td>\n",
       "      <td>Heard</td>\n",
       "      <td>James</td>\n",
       "      <td>2865 Driftwood Road</td>\n",
       "      <td>San Jose</td>\n",
       "      <td>CA</td>\n",
       "      <td>95129</td>\n",
       "      <td>408-370-0031</td>\n",
       "      <td>jheard@domain.com</td>\n",
       "      <td>v</td>\n",
       "      <td>4532 4220 6922 9909</td>\n",
       "      <td>311</td>\n",
       "      <td>2010/09/01</td>\n",
       "    </tr>\n",
       "    <tr>\n",
       "      <th>14</th>\n",
       "      <td>624-84-9181</td>\n",
       "      <td>m</td>\n",
       "      <td>1980/01/16</td>\n",
       "      <td>Frazier</td>\n",
       "      <td>Reyes</td>\n",
       "      <td>Danny</td>\n",
       "      <td>3500 Diane Street</td>\n",
       "      <td>San Luis Obispo</td>\n",
       "      <td>CA</td>\n",
       "      <td>93401</td>\n",
       "      <td>805-369-0464</td>\n",
       "      <td>dreyes@domain.com</td>\n",
       "      <td>v</td>\n",
       "      <td>4532 0065 1968 5602</td>\n",
       "      <td>713</td>\n",
       "      <td>2009/11/01</td>\n",
       "    </tr>\n",
       "    <tr>\n",
       "      <th>25</th>\n",
       "      <td>612-20-6832</td>\n",
       "      <td>m</td>\n",
       "      <td>1979/08/18</td>\n",
       "      <td>Banas</td>\n",
       "      <td>Edwards</td>\n",
       "      <td>Rick</td>\n",
       "      <td>4254 Walkers Ridge Way</td>\n",
       "      <td>Gardena</td>\n",
       "      <td>CA</td>\n",
       "      <td>90248</td>\n",
       "      <td>626-991-3620</td>\n",
       "      <td>redwards@domain.com</td>\n",
       "      <td>m</td>\n",
       "      <td>5293 8502 0071 3058</td>\n",
       "      <td>701</td>\n",
       "      <td>2010/08/01</td>\n",
       "    </tr>\n",
       "  </tbody>\n",
       "</table>\n",
       "</div>"
      ],
      "text/plain": [
       "            SSN gender   birthdate maiden name last name first name  \\\n",
       "0   172-32-1176      m   4/21/1958       Smith     White    Johnson   \n",
       "2   213-46-8915      f   4/21/1958      Pinson     Green   Marjorie   \n",
       "13  559-81-1301      m  1952/01/20      Mcafee     Heard      James   \n",
       "14  624-84-9181      m  1980/01/16     Frazier     Reyes      Danny   \n",
       "25  612-20-6832      m  1979/08/18       Banas   Edwards       Rick   \n",
       "\n",
       "                   address             city state    zip         phone  \\\n",
       "0           10932 Bigge Rd       Menlo Park    CA  94025  408 496-7223   \n",
       "2        309 63rd St. #411          Oakland    CA  94618  415 986-7020   \n",
       "13     2865 Driftwood Road         San Jose    CA  95129  408-370-0031   \n",
       "14       3500 Diane Street  San Luis Obispo    CA  93401  805-369-0464   \n",
       "25  4254 Walkers Ridge Way          Gardena    CA  90248  626-991-3620   \n",
       "\n",
       "                  email cc_type                  CCN  cc_cvc cc_expiredate  \n",
       "0     jwhite@domain.com       m  5270-4267-6450-5516     123    2010/06/25  \n",
       "2     mgreen@domain.com       v  4916-9766-5240-6147     258    2009/02/25  \n",
       "13    jheard@domain.com       v  4532 4220 6922 9909     311    2010/09/01  \n",
       "14    dreyes@domain.com       v  4532 0065 1968 5602     713    2009/11/01  \n",
       "25  redwards@domain.com       m  5293 8502 0071 3058     701    2010/08/01  "
      ]
     },
     "execution_count": 135,
     "metadata": {},
     "output_type": "execute_result"
    }
   ],
   "source": [
    "# Only people in california\n",
    "cali = df[df['state'] == \"CA\"]\n",
    "cali"
   ]
  },
  {
   "cell_type": "code",
   "execution_count": 132,
   "id": "c5e7205f",
   "metadata": {},
   "outputs": [
    {
     "data": {
      "text/html": [
       "<div>\n",
       "<style scoped>\n",
       "    .dataframe tbody tr th:only-of-type {\n",
       "        vertical-align: middle;\n",
       "    }\n",
       "\n",
       "    .dataframe tbody tr th {\n",
       "        vertical-align: top;\n",
       "    }\n",
       "\n",
       "    .dataframe thead th {\n",
       "        text-align: right;\n",
       "    }\n",
       "</style>\n",
       "<table border=\"1\" class=\"dataframe\">\n",
       "  <thead>\n",
       "    <tr style=\"text-align: right;\">\n",
       "      <th></th>\n",
       "      <th>SSN</th>\n",
       "      <th>gender</th>\n",
       "      <th>birthdate</th>\n",
       "      <th>maiden name</th>\n",
       "      <th>last name</th>\n",
       "      <th>first name</th>\n",
       "      <th>address</th>\n",
       "      <th>city</th>\n",
       "      <th>state</th>\n",
       "      <th>zip</th>\n",
       "      <th>phone</th>\n",
       "      <th>email</th>\n",
       "      <th>cc_type</th>\n",
       "      <th>CCN</th>\n",
       "      <th>cc_cvc</th>\n",
       "      <th>cc_expiredate</th>\n",
       "    </tr>\n",
       "  </thead>\n",
       "  <tbody>\n",
       "    <tr>\n",
       "      <th>0</th>\n",
       "      <td>172-32-1176</td>\n",
       "      <td>m</td>\n",
       "      <td>4/21/1958</td>\n",
       "      <td>Smith</td>\n",
       "      <td>White</td>\n",
       "      <td>Johnson</td>\n",
       "      <td>10932 Bigge Rd</td>\n",
       "      <td>Menlo Park</td>\n",
       "      <td>CA</td>\n",
       "      <td>94025</td>\n",
       "      <td>408 496-7223</td>\n",
       "      <td>jwhite@domain.com</td>\n",
       "      <td>m</td>\n",
       "      <td>5270-4267-6450-5516</td>\n",
       "      <td>123</td>\n",
       "      <td>2010/06/25</td>\n",
       "    </tr>\n",
       "    <tr>\n",
       "      <th>13</th>\n",
       "      <td>559-81-1301</td>\n",
       "      <td>m</td>\n",
       "      <td>1952/01/20</td>\n",
       "      <td>Mcafee</td>\n",
       "      <td>Heard</td>\n",
       "      <td>James</td>\n",
       "      <td>2865 Driftwood Road</td>\n",
       "      <td>San Jose</td>\n",
       "      <td>CA</td>\n",
       "      <td>95129</td>\n",
       "      <td>408-370-0031</td>\n",
       "      <td>jheard@domain.com</td>\n",
       "      <td>v</td>\n",
       "      <td>4532 4220 6922 9909</td>\n",
       "      <td>311</td>\n",
       "      <td>2010/09/01</td>\n",
       "    </tr>\n",
       "    <tr>\n",
       "      <th>14</th>\n",
       "      <td>624-84-9181</td>\n",
       "      <td>m</td>\n",
       "      <td>1980/01/16</td>\n",
       "      <td>Frazier</td>\n",
       "      <td>Reyes</td>\n",
       "      <td>Danny</td>\n",
       "      <td>3500 Diane Street</td>\n",
       "      <td>San Luis Obispo</td>\n",
       "      <td>CA</td>\n",
       "      <td>93401</td>\n",
       "      <td>805-369-0464</td>\n",
       "      <td>dreyes@domain.com</td>\n",
       "      <td>v</td>\n",
       "      <td>4532 0065 1968 5602</td>\n",
       "      <td>713</td>\n",
       "      <td>2009/11/01</td>\n",
       "    </tr>\n",
       "    <tr>\n",
       "      <th>25</th>\n",
       "      <td>612-20-6832</td>\n",
       "      <td>m</td>\n",
       "      <td>1979/08/18</td>\n",
       "      <td>Banas</td>\n",
       "      <td>Edwards</td>\n",
       "      <td>Rick</td>\n",
       "      <td>4254 Walkers Ridge Way</td>\n",
       "      <td>Gardena</td>\n",
       "      <td>CA</td>\n",
       "      <td>90248</td>\n",
       "      <td>626-991-3620</td>\n",
       "      <td>redwards@domain.com</td>\n",
       "      <td>m</td>\n",
       "      <td>5293 8502 0071 3058</td>\n",
       "      <td>701</td>\n",
       "      <td>2010/08/01</td>\n",
       "    </tr>\n",
       "  </tbody>\n",
       "</table>\n",
       "</div>"
      ],
      "text/plain": [
       "            SSN gender   birthdate maiden name last name first name  \\\n",
       "0   172-32-1176      m   4/21/1958       Smith     White    Johnson   \n",
       "13  559-81-1301      m  1952/01/20      Mcafee     Heard      James   \n",
       "14  624-84-9181      m  1980/01/16     Frazier     Reyes      Danny   \n",
       "25  612-20-6832      m  1979/08/18       Banas   Edwards       Rick   \n",
       "\n",
       "                   address             city state    zip         phone  \\\n",
       "0           10932 Bigge Rd       Menlo Park    CA  94025  408 496-7223   \n",
       "13     2865 Driftwood Road         San Jose    CA  95129  408-370-0031   \n",
       "14       3500 Diane Street  San Luis Obispo    CA  93401  805-369-0464   \n",
       "25  4254 Walkers Ridge Way          Gardena    CA  90248  626-991-3620   \n",
       "\n",
       "                  email cc_type                  CCN  cc_cvc cc_expiredate  \n",
       "0     jwhite@domain.com       m  5270-4267-6450-5516     123    2010/06/25  \n",
       "13    jheard@domain.com       v  4532 4220 6922 9909     311    2010/09/01  \n",
       "14    dreyes@domain.com       v  4532 0065 1968 5602     713    2009/11/01  \n",
       "25  redwards@domain.com       m  5293 8502 0071 3058     701    2010/08/01  "
      ]
     },
     "execution_count": 132,
     "metadata": {},
     "output_type": "execute_result"
    }
   ],
   "source": [
    "cali_m = df[(df['state'] == \"CA\") & (df['gender'] == 'm')]\n",
    "cali_m"
   ]
  },
  {
   "cell_type": "code",
   "execution_count": 155,
   "id": "3e343a54",
   "metadata": {},
   "outputs": [
    {
     "data": {
      "text/plain": [
       "32"
      ]
     },
     "execution_count": 155,
     "metadata": {},
     "output_type": "execute_result"
    }
   ],
   "source": [
    "import datetime\n",
    "\n",
    "# Create a new column by mapping one column to another\n",
    "def age(birthday):\n",
    "    today = datetime.date.today()\n",
    "    try:\n",
    "        format_str = \"%m/%d/%Y\"\n",
    "        bday_obj = datetime.datetime.strptime(birthday, format_str)\n",
    "        return today.year - bday_obj.year - ((today.month, today.day) < (bday_obj.month, bday_obj.day))\n",
    "    except:\n",
    "        format_str = \"%Y/%m/%d\"\n",
    "        bday_obj = datetime.datetime.strptime(birthday, format_str)\n",
    "        return today.year - bday_obj.year - ((today.month, today.day) < (bday_obj.month, bday_obj.day))\n",
    "        \n",
    "age(\"9/10/1989\")"
   ]
  },
  {
   "cell_type": "code",
   "execution_count": 156,
   "id": "d0f36750",
   "metadata": {},
   "outputs": [
    {
     "name": "stderr",
     "output_type": "stream",
     "text": [
      "/opt/conda/lib/python3.7/site-packages/ipykernel_launcher.py:1: SettingWithCopyWarning: \n",
      "A value is trying to be set on a copy of a slice from a DataFrame.\n",
      "Try using .loc[row_indexer,col_indexer] = value instead\n",
      "\n",
      "See the caveats in the documentation: https://pandas.pydata.org/pandas-docs/stable/user_guide/indexing.html#returning-a-view-versus-a-copy\n",
      "  \"\"\"Entry point for launching an IPython kernel.\n"
     ]
    }
   ],
   "source": [
    "# This is a common warning. It means your changes haven't propagated back to the original dataframe. That's OK here.\n",
    "cali_m['age'] =  cali_m['birthdate'].map(age)"
   ]
  },
  {
   "cell_type": "code",
   "execution_count": 158,
   "id": "072ecc9b",
   "metadata": {},
   "outputs": [
    {
     "data": {
      "text/html": [
       "<div>\n",
       "<style scoped>\n",
       "    .dataframe tbody tr th:only-of-type {\n",
       "        vertical-align: middle;\n",
       "    }\n",
       "\n",
       "    .dataframe tbody tr th {\n",
       "        vertical-align: top;\n",
       "    }\n",
       "\n",
       "    .dataframe thead th {\n",
       "        text-align: right;\n",
       "    }\n",
       "</style>\n",
       "<table border=\"1\" class=\"dataframe\">\n",
       "  <thead>\n",
       "    <tr style=\"text-align: right;\">\n",
       "      <th></th>\n",
       "      <th>birthdate</th>\n",
       "      <th>age</th>\n",
       "    </tr>\n",
       "  </thead>\n",
       "  <tbody>\n",
       "    <tr>\n",
       "      <th>0</th>\n",
       "      <td>4/21/1958</td>\n",
       "      <td>63</td>\n",
       "    </tr>\n",
       "    <tr>\n",
       "      <th>13</th>\n",
       "      <td>1952/01/20</td>\n",
       "      <td>69</td>\n",
       "    </tr>\n",
       "    <tr>\n",
       "      <th>14</th>\n",
       "      <td>1980/01/16</td>\n",
       "      <td>41</td>\n",
       "    </tr>\n",
       "    <tr>\n",
       "      <th>25</th>\n",
       "      <td>1979/08/18</td>\n",
       "      <td>42</td>\n",
       "    </tr>\n",
       "  </tbody>\n",
       "</table>\n",
       "</div>"
      ],
      "text/plain": [
       "     birthdate  age\n",
       "0    4/21/1958   63\n",
       "13  1952/01/20   69\n",
       "14  1980/01/16   41\n",
       "25  1979/08/18   42"
      ]
     },
     "execution_count": 158,
     "metadata": {},
     "output_type": "execute_result"
    }
   ],
   "source": [
    "cali_m[['birthdate', 'age']]"
   ]
  },
  {
   "cell_type": "code",
   "execution_count": 163,
   "id": "d4348fca",
   "metadata": {},
   "outputs": [
    {
     "data": {
      "text/plain": [
       "2"
      ]
     },
     "execution_count": 163,
     "metadata": {},
     "output_type": "execute_result"
    }
   ],
   "source": [
    "# Count people above age 60\n",
    "gray_df = cali_m[cali_m['age'] > 60]\n",
    "len(gray_df)"
   ]
  },
  {
   "cell_type": "code",
   "execution_count": null,
   "id": "3724f474",
   "metadata": {},
   "outputs": [],
   "source": []
  }
 ],
 "metadata": {
  "kernelspec": {
   "display_name": "Python 3 (ipykernel)",
   "language": "python",
   "name": "python3"
  },
  "language_info": {
   "codemirror_mode": {
    "name": "ipython",
    "version": 3
   },
   "file_extension": ".py",
   "mimetype": "text/x-python",
   "name": "python",
   "nbconvert_exporter": "python",
   "pygments_lexer": "ipython3",
   "version": "3.7.10"
  }
 },
 "nbformat": 4,
 "nbformat_minor": 5
}
